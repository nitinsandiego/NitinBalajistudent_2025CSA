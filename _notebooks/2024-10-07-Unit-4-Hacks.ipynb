{
 "cells": [
  {
   "cell_type": "markdown",
   "metadata": {},
   "source": [
    "---\n",
    "layout: post\n",
    "title: Unit 4 Hacks\n",
    "type: collab \n",
    "toc: true\n",
    "courses: {csa: {week: 7}}\n",
    "---"
   ]
  },
  {
   "cell_type": "markdown",
   "metadata": {},
   "source": [
    "## Fun While Loop Hack:\n",
    "\n",
    "- find and fix the missing increment in the while loop"
   ]
  },
  {
   "cell_type": "code",
   "execution_count": 1,
   "metadata": {
    "vscode": {
     "languageId": "java"
    }
   },
   "outputs": [
    {
     "name": "stdout",
     "output_type": "stream",
     "text": [
      "0\n",
      "1\n",
      "2\n",
      "3\n",
      "4\n"
     ]
    }
   ],
   "source": [
    "int i = 0;\n",
    "while (i < 5) {\n",
    "    System.out.println(i);\n",
    "    i++;  // Incrementing i to avoid an infinite loop\n",
    "}"
   ]
  },
  {
   "cell_type": "markdown",
   "metadata": {},
   "source": [
    "## Fun For Loop Hack:\n",
    "\n",
    "Create a program that iterates through a list of numbers (int_list = {0, 4, 51, 83, 92, 10, 123, 145}) using both a for loop and a for each loop, then split the numbers in the list into even/odd lists, and output them."
   ]
  },
  {
   "cell_type": "code",
   "execution_count": 2,
   "metadata": {
    "vscode": {
     "languageId": "java"
    }
   },
   "outputs": [
    {
     "name": "stdout",
     "output_type": "stream",
     "text": [
      "Using for loop:\n",
      "0\n",
      "4\n",
      "51\n",
      "83\n",
      "92\n",
      "10\n",
      "123\n",
      "145\n",
      "\n",
      "Using for-each loop:\n",
      "0\n",
      "4\n",
      "51\n",
      "83\n",
      "92\n",
      "10\n",
      "123\n",
      "145\n",
      "\n",
      "Even numbers: [0, 4, 92, 10]\n",
      "Odd numbers: [51, 83, 123, 145]\n"
     ]
    }
   ],
   "source": [
    "import java.util.ArrayList;\n",
    "\n",
    "public class FunForLoopHack {\n",
    "    public static void main(String[] args) {\n",
    "        // Initial list of numbers\n",
    "        int[] int_list = {0, 4, 51, 83, 92, 10, 123, 145};\n",
    "        \n",
    "        // Creating separate lists for even and odd numbers\n",
    "        ArrayList<Integer> evenNumbers = new ArrayList<>();\n",
    "        ArrayList<Integer> oddNumbers = new ArrayList<>();\n",
    "        \n",
    "        // Using a regular for loop to iterate and split numbers\n",
    "        System.out.println(\"Using for loop:\");\n",
    "        for (int i = 0; i < int_list.length; i++) {\n",
    "            int num = int_list[i];\n",
    "            System.out.println(num);\n",
    "            if (num % 2 == 0) {\n",
    "                evenNumbers.add(num);\n",
    "            } else {\n",
    "                oddNumbers.add(num);\n",
    "            }\n",
    "        }\n",
    "        \n",
    "        // Clear the lists for the next approach (optional)\n",
    "        evenNumbers.clear();\n",
    "        oddNumbers.clear();\n",
    "        \n",
    "        // Using a for-each loop to iterate and split numbers\n",
    "        System.out.println(\"\\nUsing for-each loop:\");\n",
    "        for (int num : int_list) {\n",
    "            System.out.println(num);\n",
    "            if (num % 2 == 0) {\n",
    "                evenNumbers.add(num);\n",
    "            } else {\n",
    "                oddNumbers.add(num);\n",
    "            }\n",
    "        }\n",
    "        \n",
    "        // Output the even and odd lists\n",
    "        System.out.println(\"\\nEven numbers: \" + evenNumbers);\n",
    "        System.out.println(\"Odd numbers: \" + oddNumbers);\n",
    "    }\n",
    "}\n",
    "FunForLoopHack.main(null);"
   ]
  },
  {
   "cell_type": "markdown",
   "metadata": {},
   "source": [
    "## Fun Stubstring Hack:\n",
    "\n",
    "Create a program that scrables any word that you put in, by reversing the first and last letters, then reversing the center letters. (example: sold becomes dlos, computer becomes retupmoc)"
   ]
  },
  {
   "cell_type": "code",
   "execution_count": 4,
   "metadata": {
    "vscode": {
     "languageId": "java"
    }
   },
   "outputs": [
    {
     "name": "stdout",
     "output_type": "stream",
     "text": [
      "Enter a word to scramble: \n",
      "Scrambled word: rebotco\n"
     ]
    }
   ],
   "source": [
    "import java.util.Scanner;\n",
    "\n",
    "public class FunStubstringHack {\n",
    "    public static void main(String[] args) {\n",
    "        Scanner scanner = new Scanner(System.in);\n",
    "\n",
    "        // Prompt user for input\n",
    "        System.out.println(\"Enter a word to scramble: \");\n",
    "        String word = scanner.nextLine();\n",
    "\n",
    "        // Scramble the word\n",
    "        String scrambledWord = scrambleWord(word);\n",
    "\n",
    "        // Output the result\n",
    "        System.out.println(\"Scrambled word: \" + scrambledWord);\n",
    "    }\n",
    "\n",
    "    public static String scrambleWord(String word) {\n",
    "        // Handle words with less than 2 characters\n",
    "        if (word.length() < 2) {\n",
    "            return word; // No scrambling needed\n",
    "        }\n",
    "\n",
    "        // Get the first and last letters\n",
    "        char firstLetter = word.charAt(0);\n",
    "        char lastLetter = word.charAt(word.length() - 1);\n",
    "\n",
    "        // Get the center letters\n",
    "        String centerLetters = word.substring(1, word.length() - 1);\n",
    "\n",
    "        // Reverse the center letters\n",
    "        String reversedCenter = new StringBuilder(centerLetters).reverse().toString();\n",
    "\n",
    "        // Construct the scrambled word\n",
    "        return lastLetter + reversedCenter + firstLetter;\n",
    "    }\n",
    "}\n",
    "FunStubstringHack.main(null);"
   ]
  },
  {
   "cell_type": "markdown",
   "metadata": {},
   "source": [
    "## What is wrong with this code cell(Hack)\n",
    "\n",
    "```java\n",
    "import java.util.Scanner;\n",
    "Scanner scanner = new Scanner(System.in);\n",
    "System.out.print(\"Enter the number of rows: \");\n",
    "int rows = scanner.nextInt();\n",
    "for (int i = rows; i>1; i-) {\n",
    "    // Print numbers from 1 to i\n",
    "    for (int j = 1; j <= i; j++) {\n",
    "        System.out.print(j + \" \");\n",
    "    }\n",
    "    // Move to next line after each row\n",
    "    System.out.println();\n",
    "    }\n",
    "        \n",
    "scanner.close();\n",
    "```\n",
    "\n",
    "**Answer**: In the loop `for (int i = rows; i > 1; i-)`, the decrement operator is incorrectly written as `i-`. It should be `i--` to properly decrement the value of `i` in each iteration. This causes the loop not to execute as expected."
   ]
  },
  {
   "cell_type": "markdown",
   "metadata": {},
   "source": [
    "<img width=\"540\" alt=\"Screenshot 2024-09-19 at 20 45 04\" src=\"https://github.com/user-attachments/assets/ef76eea5-ffa1-432b-9ca0-95c1b9fd002d\">\n",
    "\n",
    "\n",
    "### **Answer**: B. 20"
   ]
  },
  {
   "cell_type": "markdown",
   "metadata": {},
   "source": [
    "### Question 1:\n",
    "What does the following code print?\n",
    "\n",
    "A. 5 6 7 8 9\n",
    "\n",
    "B. 4 5 6 7 8 9 10 11 12\n",
    "\n",
    "C. 3 5 7 9 11\n",
    "\n",
    "D. 3 4 5 6 7 8 9 10 11 12\n",
    "\n",
    "```java\n",
    "for (int i = 3; i <= 12; i++)\n",
    "{\n",
    "   System.out.print(i + \" \");\n",
    "}\n",
    "```\n",
    "\n",
    "**Answer: D**"
   ]
  },
  {
   "cell_type": "markdown",
   "metadata": {},
   "source": [
    "### Question 2:\n",
    "How many times does the following method print a *?\n",
    "\n",
    "A. 9\n",
    "\n",
    "B. 7\n",
    "\n",
    "C. 6\n",
    "\n",
    "D. 10\n",
    "\n",
    "```java\n",
    "for (int i = 3; i < 9; i++)\n",
    "{\n",
    "   System.out.print(\"*\");\n",
    "}\n",
    "```\n",
    "\n",
    "**Answer: C**"
   ]
  },
  {
   "cell_type": "markdown",
   "metadata": {},
   "source": [
    "### Question 3:\n",
    "What does the following code print?\n",
    "\n",
    "A. 5 4 3 2 1\n",
    "\n",
    "B. -5 -4 -3 -2 -1\n",
    "\n",
    "C. -4 -3 -2 -1 0\n",
    "\n",
    "```java\n",
    "int x = -5;\n",
    "while (x < 0)\n",
    "{\n",
    "   x++;\n",
    "   System.out.print(x + \" \");\n",
    "}\n",
    "```\n",
    "\n",
    "**Answer: C**"
   ]
  },
  {
   "cell_type": "markdown",
   "metadata": {},
   "source": [
    "## Loops homework hack\n",
    "\n",
    "## Easy Hack\n",
    "- use a while loop to find the numbers from 1-50 that are divisible by 3 or 5, then store them into a list (make sure to print it out at the end)\n",
    "- use a for loop to do the same thing detailed above"
   ]
  },
  {
   "cell_type": "code",
   "execution_count": 5,
   "metadata": {
    "vscode": {
     "languageId": "java"
    }
   },
   "outputs": [
    {
     "name": "stdout",
     "output_type": "stream",
     "text": [
      "Numbers from 1 to 50 that are divisible by 3 or 5 (using while loop): [3, 5, 6, 9, 10, 12, 15, 18, 20, 21, 24, 25, 27, 30, 33, 35, 36, 39, 40, 42, 45, 48, 50]\n"
     ]
    }
   ],
   "source": [
    "import java.util.ArrayList;\n",
    "\n",
    "public class DivisibleByThreeOrFiveWhile {\n",
    "    public static void main(String[] args) {\n",
    "        ArrayList<Integer> divisibleNumbers = new ArrayList<>();\n",
    "        int i = 1; // Start from 1\n",
    "\n",
    "        // Use a while loop to find numbers from 1 to 50\n",
    "        while (i <= 50) {\n",
    "            if (i % 3 == 0 || i % 5 == 0) {\n",
    "                divisibleNumbers.add(i);\n",
    "            }\n",
    "            i++; // Increment i\n",
    "        }\n",
    "\n",
    "        // Print the result\n",
    "        System.out.println(\"Numbers from 1 to 50 that are divisible by 3 or 5 (using while loop): \" + divisibleNumbers);\n",
    "    }\n",
    "}\n",
    "DivisibleByThreeOrFiveWhile.main(null);"
   ]
  },
  {
   "cell_type": "code",
   "execution_count": 6,
   "metadata": {
    "vscode": {
     "languageId": "java"
    }
   },
   "outputs": [
    {
     "name": "stdout",
     "output_type": "stream",
     "text": [
      "Numbers from 1 to 50 that are divisible by 3 or 5 (using for loop): [3, 5, 6, 9, 10, 12, 15, 18, 20, 21, 24, 25, 27, 30, 33, 35, 36, 39, 40, 42, 45, 48, 50]\n"
     ]
    }
   ],
   "source": [
    "import java.util.ArrayList;\n",
    "\n",
    "public class DivisibleByThreeOrFiveFor {\n",
    "    public static void main(String[] args) {\n",
    "        ArrayList<Integer> divisibleNumbers = new ArrayList<>();\n",
    "\n",
    "        // Use a for loop to find numbers from 1 to 50\n",
    "        for (int i = 1; i <= 50; i++) {\n",
    "            if (i % 3 == 0 || i % 5 == 0) {\n",
    "                divisibleNumbers.add(i);\n",
    "            }\n",
    "        }\n",
    "\n",
    "        // Print the result\n",
    "        System.out.println(\"Numbers from 1 to 50 that are divisible by 3 or 5 (using for loop): \" + divisibleNumbers);\n",
    "    }\n",
    "}\n",
    "DivisibleByThreeOrFiveFor.main(null);"
   ]
  },
  {
   "cell_type": "markdown",
   "metadata": {},
   "source": [
    "## Harder Hack\n",
    "### Palindromes are numbers that have the same value when reversed (ex: “123321” or “323”). Create a program that uses a while loop that outputs all palindromes in any given list. \n",
    "\n",
    "Sample Input: \n",
    "test_list = [5672, 235, 5537, 6032, 317, 8460, 1672, 8104, 7770, 4442, 913, 2508, 1116, 9969, 9091, 522, 8756, 9527, 7968, 1520, 4444, 515, 2882, 6556, 595]\n",
    "\n",
    "Sample Output:\n",
    "4444, 515, 2882, 6556, 595"
   ]
  },
  {
   "cell_type": "code",
   "execution_count": 7,
   "metadata": {
    "vscode": {
     "languageId": "java"
    }
   },
   "outputs": [
    {
     "name": "stdout",
     "output_type": "stream",
     "text": [
      "Palindromes in the list: [4444, 515, 2882, 6556, 595]\n"
     ]
    }
   ],
   "source": [
    "import java.util.ArrayList;\n",
    "\n",
    "public class PalindromeFinder {\n",
    "    public static void main(String[] args) {\n",
    "        // Sample input list\n",
    "        int[] testList = {5672, 235, 5537, 6032, 317, 8460, 1672, 8104, 7770, \n",
    "                          4442, 913, 2508, 1116, 9969, 9091, 522, 8756, \n",
    "                          9527, 7968, 1520, 4444, 515, 2882, 6556, 595};\n",
    "\n",
    "        ArrayList<Integer> palindromes = new ArrayList<>();\n",
    "        int index = 0;\n",
    "\n",
    "        // Use a while loop to iterate through the testList\n",
    "        while (index < testList.length) {\n",
    "            if (isPalindrome(testList[index])) {\n",
    "                palindromes.add(testList[index]);\n",
    "            }\n",
    "            index++; // Increment index\n",
    "        }\n",
    "\n",
    "        // Print the result\n",
    "        System.out.println(\"Palindromes in the list: \" + palindromes);\n",
    "    }\n",
    "\n",
    "    // Method to check if a number is a palindrome\n",
    "    public static boolean isPalindrome(int number) {\n",
    "        String strNumber = Integer.toString(number); // Convert number to string\n",
    "        int left = 0;\n",
    "        int right = strNumber.length() - 1;\n",
    "\n",
    "        // Check if the string is a palindrome\n",
    "        while (left < right) {\n",
    "            if (strNumber.charAt(left) != strNumber.charAt(right)) {\n",
    "                return false; // Not a palindrome\n",
    "            }\n",
    "            left++;\n",
    "            right--;\n",
    "        }\n",
    "        return true; // It's a palindrome\n",
    "    }\n",
    "}\n",
    "PalindromeFinder.main(null);"
   ]
  },
  {
   "cell_type": "markdown",
   "metadata": {},
   "source": [
    "## Coding Hack(For above 0.9):\n",
    "### Use a for loop to output a spiral matrix with size n\n",
    "\n",
    "For example:\n",
    "\n",
    "Sample Input: 3\n",
    "\n",
    "Output: \n",
    "[[1, 2, 3], \n",
    "[8, 9, 4], \n",
    "[7, 6, 5]]\n"
   ]
  },
  {
   "cell_type": "code",
   "execution_count": 8,
   "metadata": {
    "vscode": {
     "languageId": "java"
    }
   },
   "outputs": [
    {
     "name": "stdout",
     "output_type": "stream",
     "text": [
      "Spiral Matrix of size 3:\n",
      "[1, 2, 3]\n",
      "[8, 9, 4]\n",
      "[7, 6, 5]\n"
     ]
    }
   ],
   "source": [
    "import java.util.Arrays;\n",
    "\n",
    "public class SpiralMatrix {\n",
    "    public static void main(String[] args) {\n",
    "        int n = 3; // Sample input size\n",
    "        int[][] matrix = new int[n][n]; // Create a 2D array for the spiral matrix\n",
    "\n",
    "        int top = 0, bottom = n - 1; // Initialize top and bottom boundaries\n",
    "        int left = 0, right = n - 1; // Initialize left and right boundaries\n",
    "        int num = 1; // Start filling the matrix from 1\n",
    "\n",
    "        // Fill the matrix in a spiral order\n",
    "        for (int i = 0; i < n * n; i++) {\n",
    "            if (top <= bottom) {\n",
    "                for (int j = left; j <= right; j++) {\n",
    "                    matrix[top][j] = num++;\n",
    "                }\n",
    "                top++; // Move the top boundary down\n",
    "            }\n",
    "\n",
    "            if (left <= right) {\n",
    "                for (int j = top; j <= bottom; j++) {\n",
    "                    matrix[j][right] = num++;\n",
    "                }\n",
    "                right--; // Move the right boundary left\n",
    "            }\n",
    "\n",
    "            if (top <= bottom) {\n",
    "                for (int j = right; j >= left; j--) {\n",
    "                    matrix[bottom][j] = num++;\n",
    "                }\n",
    "                bottom--; // Move the bottom boundary up\n",
    "            }\n",
    "\n",
    "            if (left <= right) {\n",
    "                for (int j = bottom; j >= top; j--) {\n",
    "                    matrix[j][left] = num++;\n",
    "                }\n",
    "                left++; // Move the left boundary right\n",
    "            }\n",
    "        }\n",
    "\n",
    "        // Print the spiral matrix\n",
    "        System.out.println(\"Spiral Matrix of size \" + n + \":\");\n",
    "        for (int[] row : matrix) {\n",
    "            System.out.println(Arrays.toString(row));\n",
    "        }\n",
    "    }\n",
    "}\n",
    "SpiralMatrix.main(null);"
   ]
  }
 ],
 "metadata": {
  "kernelspec": {
   "display_name": "java (IJava/j!)",
   "language": "java",
   "name": "jbang-ijava"
  },
  "language_info": {
   "codemirror_mode": "java",
   "file_extension": ".jshell",
   "mimetype": "text/x-java-source",
   "name": "Java",
   "pygments_lexer": "java",
   "version": "17.0.11+7-LTS-207"
  }
 },
 "nbformat": 4,
 "nbformat_minor": 2
}
