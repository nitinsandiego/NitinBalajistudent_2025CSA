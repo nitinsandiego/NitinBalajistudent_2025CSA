{
 "cells": [
  {
   "cell_type": "markdown",
   "metadata": {},
   "source": [
    "---\n",
    "layout: post\n",
    "title: Java Jungle Adventure\n",
    "description:  Java Jungle Adventure\n",
    "type: ccc \n",
    "toc: false\n",
    "courses: {csa: {week: 2}}\n",
    "---"
   ]
  },
  {
   "cell_type": "code",
   "execution_count": 3,
   "metadata": {
    "vscode": {
     "languageId": "java"
    }
   },
   "outputs": [
    {
     "name": "stdout",
     "output_type": "stream",
     "text": [
      "Welcome to the Adventure Game!\n",
      "You are an explorer lost in the jungle. Your goal is to find your way out safely.\n",
      "\n",
      "You're standing at a crossroads. You can go left or right. What do you do? (type 'left' or 'right')\n",
      "You walk down a narrow path and encounter a river. There's a small boat, but it looks old. Do you want to use the boat or swim across? (type 'boat' or 'swim')\n",
      "You manage to cross the river safely using the boat. You're getting closer to the jungle's edge.\n",
      "You see a strange, glowing fruit on the ground. Do you eat it or ignore it? (type 'eat' or 'ignore')\n",
      "The fruit gives you magical powers, and you fly out of the jungle! You win!\n"
     ]
    }
   ],
   "source": [
    "import java.util.Scanner;\n",
    "\n",
    "public class AdventureGame {\n",
    "    public static void main(String[] args) {\n",
    "        Scanner input = new Scanner(System.in);\n",
    "        System.out.println(\"Welcome to the Adventure Game!\");\n",
    "        System.out.println(\"You are an explorer lost in the jungle. Your goal is to find your way out safely.\");\n",
    "        \n",
    "        System.out.println(\"\\nYou're standing at a crossroads. You can go left or right. What do you do? (type 'left' or 'right')\");\n",
    "        String choice1 = input.nextLine();\n",
    "\n",
    "        if (choice1.equalsIgnoreCase(\"left\")) {\n",
    "            System.out.println(\"You walk down a narrow path and encounter a river. There's a small boat, but it looks old. Do you want to use the boat or swim across? (type 'boat' or 'swim')\");\n",
    "            String choice2 = input.nextLine();\n",
    "            \n",
    "            if (choice2.equalsIgnoreCase(\"boat\")) {\n",
    "                System.out.println(\"You manage to cross the river safely using the boat. You're getting closer to the jungle's edge.\");\n",
    "                System.out.println(\"You see a strange, glowing fruit on the ground. Do you eat it or ignore it? (type 'eat' or 'ignore')\");\n",
    "                String choice3 = input.nextLine();\n",
    "                \n",
    "                if (choice3.equalsIgnoreCase(\"eat\")) {\n",
    "                    System.out.println(\"The fruit gives you magical powers, and you fly out of the jungle! You win!\");\n",
    "                } else {\n",
    "                    System.out.println(\"You ignore the fruit, but soon after, you get lost deeper in the jungle. You lose.\");\n",
    "                }\n",
    "            } else {\n",
    "                System.out.println(\"You try to swim across, but the current is too strong. You get swept away by the river. Game over.\");\n",
    "            }\n",
    "        } else if (choice1.equalsIgnoreCase(\"right\")) {\n",
    "            System.out.println(\"You take the right path and encounter a wild animal. Do you fight or run? (type 'fight' or 'run')\");\n",
    "            String choice2 = input.nextLine();\n",
    "            \n",
    "            if (choice2.equalsIgnoreCase(\"fight\")) {\n",
    "                System.out.println(\"You bravely fight off the animal and continue your journey. You see a cave up ahead. Do you enter the cave or walk past it? (type 'enter' or 'walk')\");\n",
    "                String choice3 = input.nextLine();\n",
    "                \n",
    "                if (choice3.equalsIgnoreCase(\"enter\")) {\n",
    "                    System.out.println(\"Inside the cave, you find a hidden treasure! Congratulations, you win!\");\n",
    "                } else {\n",
    "                    System.out.println(\"You walk past the cave, but get lost in the dense forest. You lose.\");\n",
    "                }\n",
    "            } else {\n",
    "                System.out.println(\"You run away, but trip and fall into a pit. Game over.\");\n",
    "            }\n",
    "        } else {\n",
    "            System.out.println(\"Invalid choice! Please restart the game and make a valid decision.\");\n",
    "        }\n",
    "        \n",
    "        input.close();\n",
    "    }\n",
    "}\n",
    "\n",
    "AdventureGame.main(null);"
   ]
  }
 ],
 "metadata": {
  "kernelspec": {
   "display_name": "java (IJava/j!)",
   "language": "java",
   "name": "jbang-ijava"
  },
  "language_info": {
   "codemirror_mode": "java",
   "file_extension": ".jshell",
   "mimetype": "text/x-java-source",
   "name": "Java",
   "pygments_lexer": "java",
   "version": "17.0.11+7-LTS-207"
  }
 },
 "nbformat": 4,
 "nbformat_minor": 2
}
