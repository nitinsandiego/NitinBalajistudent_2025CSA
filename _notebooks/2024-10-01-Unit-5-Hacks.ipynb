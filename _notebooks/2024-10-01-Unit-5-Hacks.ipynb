{
 "cells": [
  {
   "cell_type": "markdown",
   "metadata": {},
   "source": [
    "---\n",
    "layout: post\n",
    "title: Unit 5 Hacks\n",
    "type: ccc \n",
    "toc: true\n",
    "courses: {csa: {week: 6}}\n",
    "---"
   ]
  },
  {
   "cell_type": "markdown",
   "metadata": {},
   "source": [
    "## Popcorn Hack 1.\n",
    "\n",
    "Write a Student class. \n",
    "    - Each student has a name \n",
    "    - Each student has a score (out of 100)\n",
    "    - A student passes if their score is above 70\n",
    "\n",
    "Check which student passes (write a class header, instance variables, constructors, and methods)"
   ]
  },
  {
   "cell_type": "code",
   "execution_count": 1,
   "metadata": {
    "vscode": {
     "languageId": "java"
    }
   },
   "outputs": [],
   "source": [
    "public class Student {\n",
    "    private String name;\n",
    "    private int score;\n",
    "    \n",
    "    // Default constructor\n",
    "    public Student() {\n",
    "        name = \"\";\n",
    "        score = 0;   \n",
    "    }\n",
    "\n",
    "    // Overloaded constructor\n",
    "    public Student(String n, int s) {\n",
    "        name = n;\n",
    "        score = s;\n",
    "    }\n",
    "\n",
    "    //Accessor Methods\n",
    "    public String getName() {\n",
    "        return name;\n",
    "    }\n",
    "\n",
    "    public int getScore(){\n",
    "        return score;\n",
    "    }\n",
    "\n",
    "    //Mutator Methods\n",
    "    public void setName(String n){\n",
    "        name = n;\n",
    "    }\n",
    "\n",
    "    public void setScore(int s){\n",
    "        if(s < 0 || s > 100){\n",
    "            score = 0; //default value\n",
    "        }\n",
    "        else {\n",
    "            score = s;\n",
    "        }\n",
    "    }\n",
    "\n",
    "    public boolean pass(){\n",
    "        return (score >= 70);\n",
    "    }\n",
    "}"
   ]
  },
  {
   "cell_type": "markdown",
   "metadata": {},
   "source": [
    "## Your turn (yes this is a popcorn hack)\n",
    "\n",
    "- Make your own class with an integer variable\n",
    "- Make a constructor for that\n",
    "- Create an object and print the variable"
   ]
  },
  {
   "cell_type": "code",
   "execution_count": 3,
   "metadata": {
    "vscode": {
     "languageId": "java"
    }
   },
   "outputs": [
    {
     "name": "stdout",
     "output_type": "stream",
     "text": [
      "Number of bananas: 10\n",
      "Minions have 10 bananas! 🍌\n"
     ]
    }
   ],
   "source": [
    "public class Banana {\n",
    "    private int numberOfBananas;\n",
    "\n",
    "    public Banana(int n) {\n",
    "        numberOfBananas = n;\n",
    "    }\n",
    "\n",
    "    public int getNumberOfBananas() {\n",
    "        return numberOfBananas;\n",
    "    }\n",
    "\n",
    "    public void printBananaInfo() {\n",
    "        System.out.println(\"Minions have \" + numberOfBananas + \" bananas! 🍌\");\n",
    "    }\n",
    "}\n",
    "\n",
    "public class Main {\n",
    "    public static void main(String[] args) {\n",
    "        Banana minionBanana = new Banana(10);\n",
    "\n",
    "        System.out.println(\"Number of bananas: \" + minionBanana.getNumberOfBananas());\n",
    "\n",
    "        minionBanana.printBananaInfo();\n",
    "    }\n",
    "}\n",
    "\n",
    "Main.main(null);"
   ]
  },
  {
   "cell_type": "markdown",
   "metadata": {},
   "source": [
    "### Your turn (aren't you having fun!!!)\n",
    "\n",
    "Using the code you wrote before (you did do the previous popcorn hack... right?), complete the following\n",
    "- Make a no-arg constructor\n",
    "- Make a parameterized constructor\n",
    "- \"Make\" a default constructor\n",
    "\n",
    "Please seperate all of those three into different code cells.\n",
    "\n",
    "### No-Argument Constructor:"
   ]
  },
  {
   "cell_type": "code",
   "execution_count": 4,
   "metadata": {
    "vscode": {
     "languageId": "java"
    }
   },
   "outputs": [
    {
     "name": "stdout",
     "output_type": "stream",
     "text": [
      "Minions have 5 bananas! 🍌\n"
     ]
    }
   ],
   "source": [
    "public class Banana {\n",
    "    private int numberOfBananas;\n",
    "\n",
    "    // No-arg constructor (default value set to 5)\n",
    "    public Banana() {\n",
    "        numberOfBananas = 5;\n",
    "    }\n",
    "\n",
    "    // Getter method to retrieve the number of bananas\n",
    "    public int getNumberOfBananas() {\n",
    "        return numberOfBananas;\n",
    "    }\n",
    "\n",
    "    // Print a minion-themed message\n",
    "    public void printBananaInfo() {\n",
    "        System.out.println(\"Minions have \" + numberOfBananas + \" bananas! 🍌\");\n",
    "    }\n",
    "}\n",
    "\n",
    "// Main code\n",
    "public class Main {\n",
    "    public static void main(String[] args) {\n",
    "        // Create a Banana object using the no-arg constructor\n",
    "        Banana minionBanana = new Banana();\n",
    "\n",
    "        // Print the number of bananas\n",
    "        minionBanana.printBananaInfo();\n",
    "    }\n",
    "}\n",
    "Main.main(null);"
   ]
  },
  {
   "cell_type": "markdown",
   "metadata": {},
   "source": [
    "### Parameterized Constructor:"
   ]
  },
  {
   "cell_type": "code",
   "execution_count": 5,
   "metadata": {
    "vscode": {
     "languageId": "java"
    }
   },
   "outputs": [
    {
     "name": "stdout",
     "output_type": "stream",
     "text": [
      "Minions have 15 bananas! 🍌\n"
     ]
    }
   ],
   "source": [
    "public class Banana {\n",
    "    private int numberOfBananas;\n",
    "\n",
    "    // Parameterized constructor to set the number of bananas\n",
    "    public Banana(int n) {\n",
    "        numberOfBananas = n;\n",
    "    }\n",
    "\n",
    "    // Getter method to retrieve the number of bananas\n",
    "    public int getNumberOfBananas() {\n",
    "        return numberOfBananas;\n",
    "    }\n",
    "\n",
    "    // Print a minion-themed message\n",
    "    public void printBananaInfo() {\n",
    "        System.out.println(\"Minions have \" + numberOfBananas + \" bananas! 🍌\");\n",
    "    }\n",
    "}\n",
    "\n",
    "// Main code\n",
    "public class Main {\n",
    "    public static void main(String[] args) {\n",
    "        // Create a Banana object using the parameterized constructor\n",
    "        Banana minionBanana = new Banana(15);\n",
    "\n",
    "        // Print the number of bananas\n",
    "        minionBanana.printBananaInfo();\n",
    "    }\n",
    "}\n",
    "Main.main(null);"
   ]
  },
  {
   "cell_type": "markdown",
   "metadata": {},
   "source": [
    "### Default Constructor:"
   ]
  },
  {
   "cell_type": "code",
   "execution_count": 6,
   "metadata": {
    "vscode": {
     "languageId": "java"
    }
   },
   "outputs": [
    {
     "name": "stdout",
     "output_type": "stream",
     "text": [
      "Minions have 5 bananas! 🍌\n"
     ]
    }
   ],
   "source": [
    "public class Banana {\n",
    "    private int numberOfBananas;\n",
    "\n",
    "    // Default constructor (same as no-arg constructor, sets default value)\n",
    "    public Banana() {\n",
    "        numberOfBananas = 5;\n",
    "    }\n",
    "\n",
    "    // Getter method to retrieve the number of bananas\n",
    "    public int getNumberOfBananas() {\n",
    "        return numberOfBananas;\n",
    "    }\n",
    "\n",
    "    // Print a minion-themed message\n",
    "    public void printBananaInfo() {\n",
    "        System.out.println(\"Minions have \" + numberOfBananas + \" bananas! 🍌\");\n",
    "    }\n",
    "}\n",
    "\n",
    "// Main code\n",
    "public class Main {\n",
    "    public static void main(String[] args) {\n",
    "        // Create a Banana object using the default constructor\n",
    "        Banana minionBanana = new Banana();\n",
    "\n",
    "        // Print the number of bananas\n",
    "        minionBanana.printBananaInfo();\n",
    "    }\n",
    "}\n",
    "Main.main(null);"
   ]
  },
  {
   "cell_type": "markdown",
   "metadata": {},
   "source": [
    "### Your turn\n",
    "\n",
    "- Make a overloaded constructor"
   ]
  },
  {
   "cell_type": "code",
   "execution_count": 20,
   "metadata": {
    "vscode": {
     "languageId": "java"
    }
   },
   "outputs": [
    {
     "name": "stdout",
     "output_type": "stream",
     "text": [
      "minion1 speed: fast\n",
      "minion2 speed: medium\n"
     ]
    }
   ],
   "source": [
    "public class Minion {\n",
    "    private String speed;\n",
    "    private int height;\n",
    "\n",
    "    // Overloaded Constructor 1: Takes both speed and height\n",
    "    public Minion(String speed, int height) {\n",
    "        this.speed = speed;\n",
    "        this.height = height;\n",
    "    }\n",
    "\n",
    "    // Overloaded Constructor 2: Takes only speed\n",
    "    public Minion(String speed) {\n",
    "        this.speed = speed;\n",
    "        this.height = 0;  // Default height if not specified\n",
    "    }\n",
    "\n",
    "    // Setter for height\n",
    "    public void setHeight(int height) {\n",
    "        this.height = height;\n",
    "    }\n",
    "\n",
    "    // Getter for speed\n",
    "    public String getSpeed() {\n",
    "        return this.speed;\n",
    "    }\n",
    "\n",
    "    // Method to compare heights\n",
    "    public boolean isTallerThan(Minion otherMinion) {\n",
    "        return this.height > otherMinion.height;\n",
    "    }\n",
    "\n",
    "    public static void main(String[] args) {\n",
    "        // Using overloaded constructor with both speed and height\n",
    "        Minion minion1 = new Minion(\"fast\", 43);\n",
    "        System.out.println(\"minion1 speed: \" + minion1.getSpeed());\n",
    "\n",
    "        // Using overloaded constructor with only speed\n",
    "        Minion minion2 = new Minion(\"medium\");\n",
    "        System.out.println(\"minion2 speed: \" + minion2.getSpeed());\n",
    "    }\n",
    "}\n",
    "Minion.main(null);"
   ]
  },
  {
   "cell_type": "markdown",
   "metadata": {},
   "source": [
    "## Popcorn Hack\n",
    "\n",
    "Gru is preparing for his big mission to steal the moon, and he needs to assign his minions various tasks based on their skills. Create a new getter method called ``skillLevel`` and print out the Minion's ``skillLevel``Minion class with the attributes ``name, task, and skillLevel.`` Implement some getter accessor methods, and then create a ``Minion`` object to retrieve its values."
   ]
  },
  {
   "cell_type": "code",
   "execution_count": 7,
   "metadata": {
    "vscode": {
     "languageId": "java"
    }
   },
   "outputs": [
    {
     "name": "stdout",
     "output_type": "stream",
     "text": [
      "Name: Stuart\n",
      "Task: Developing propulsion system\n",
      "Skill Level: 85\n"
     ]
    }
   ],
   "source": [
    "public class Minion {\n",
    "    private String name;\n",
    "    private String task;\n",
    "    private int skillLevel;  // Create skillLevel instance variable\n",
    "\n",
    "    // Constructor to initialize name, task, and skillLevel\n",
    "    public Minion(String n, String t, int s) {\n",
    "        name = n;\n",
    "        task = t;\n",
    "        skillLevel = s;\n",
    "    }\n",
    "\n",
    "    // Getter Methods\n",
    "    public String getName() {\n",
    "        return name;\n",
    "    }\n",
    "\n",
    "    public String getTask() {\n",
    "        return task;\n",
    "    }\n",
    "\n",
    "    // Getter method for skillLevel\n",
    "    public int getSkillLevel() {\n",
    "        return skillLevel;\n",
    "    }\n",
    "}\n",
    "\n",
    "// Main code\n",
    "public class Main {\n",
    "    public static void main(String[] args) {\n",
    "        // Create a Minion object with name, task, and skillLevel\n",
    "        Minion Stuart = new Minion(\"Stuart\", \"Developing propulsion system\", 85);\n",
    "\n",
    "        // Print out the minion's name, task, and skillLevel\n",
    "        System.out.println(\"Name: \" + Stuart.getName());\n",
    "        System.out.println(\"Task: \" + Stuart.getTask());\n",
    "        System.out.println(\"Skill Level: \" + Stuart.getSkillLevel());  // Print skillLevel\n",
    "    }\n",
    "}\n",
    "Main.main(null);"
   ]
  },
  {
   "cell_type": "markdown",
   "metadata": {},
   "source": [
    "## Popcorn Hack\n",
    "\n",
    "Return all the instance variables in ``Minion`` so that we can directly print the object values of the minion Kevin."
   ]
  },
  {
   "cell_type": "code",
   "execution_count": 8,
   "metadata": {
    "vscode": {
     "languageId": "java"
    }
   },
   "outputs": [
    {
     "name": "stdout",
     "output_type": "stream",
     "text": [
      "Minion Details:\n",
      "Name: Kevin\n",
      "Height: 4.1 feet\n",
      "Hair Style: Sprout-Cut\n",
      "Number of Eyes: 2\n"
     ]
    }
   ],
   "source": [
    "public class Minion {\n",
    "    // Instance variables\n",
    "    private double height;\n",
    "    private String name;\n",
    "    private String hair;\n",
    "    private int eyes;\n",
    "\n",
    "    // Default Constructor\n",
    "    public Minion() {\n",
    "        height = 3.7;\n",
    "        name = \"Bob\";\n",
    "        hair = \"None\";\n",
    "        eyes = 2;\n",
    "    }\n",
    "\n",
    "    // Overloaded Constructor\n",
    "    public Minion(double h, String n, String hr, int e) {\n",
    "        height = h;\n",
    "        name = n;\n",
    "        hair = hr;\n",
    "        eyes = e;\n",
    "    }\n",
    "\n",
    "    // Overridden toString() method to return a formatted string of instance variables\n",
    "    @Override\n",
    "    public String toString() {\n",
    "        return \"Minion Details:\\n\" +\n",
    "               \"Name: \" + name + \"\\n\" +\n",
    "               \"Height: \" + height + \" feet\\n\" +\n",
    "               \"Hair Style: \" + hair + \"\\n\" +\n",
    "               \"Number of Eyes: \" + eyes;\n",
    "    }\n",
    "}\n",
    "\n",
    "// Main code\n",
    "public class Main {\n",
    "    public static void main(String[] args) {\n",
    "        // Create Minion object Kevin\n",
    "        Minion kevin = new Minion(4.10, \"Kevin\", \"Sprout-Cut\", 2);\n",
    "\n",
    "        // Print Kevin object\n",
    "        System.out.println(kevin);\n",
    "    }\n",
    "}\n",
    "Main.main(null);"
   ]
  },
  {
   "cell_type": "markdown",
   "metadata": {},
   "source": [
    "## Your turn!\n",
    "\n",
    "- Make your own class with your own **setter** method"
   ]
  },
  {
   "cell_type": "code",
   "execution_count": 9,
   "metadata": {
    "vscode": {
     "languageId": "java"
    }
   },
   "outputs": [
    {
     "name": "stdout",
     "output_type": "stream",
     "text": [
      "Toyota\n",
      "Honda\n"
     ]
    }
   ],
   "source": [
    "public class Car {\n",
    "    // the car's make (brand)\n",
    "    private String make;\n",
    "\n",
    "    // Constructor to set the make\n",
    "    public Car(String m) {\n",
    "        make = m;\n",
    "    }\n",
    "\n",
    "    // getter for make\n",
    "    public String getMake() {\n",
    "        return make;\n",
    "    }\n",
    "\n",
    "    // setter for make\n",
    "    public void setMake(String m) {\n",
    "        make = m;\n",
    "    }\n",
    "}\n",
    "\n",
    "// Main code to interact with the Car object\n",
    "public class Main {\n",
    "    public static void main(String[] args) {\n",
    "        // Create a Car object with initial make\n",
    "        Car myCar = new Car(\"Toyota\");\n",
    "\n",
    "        // Get and print the car's make\n",
    "        System.out.println(myCar.getMake());  // Output: Toyota\n",
    "\n",
    "        // Change the car's make using the setter\n",
    "        myCar.setMake(\"Honda\");\n",
    "\n",
    "        // Print the updated car's make\n",
    "        System.out.println(myCar.getMake());  // Output: Honda\n",
    "    }\n",
    "}\n",
    "Main.main(null);"
   ]
  },
  {
   "cell_type": "markdown",
   "metadata": {},
   "source": [
    "### Your turn!\n",
    "\n",
    "Make your own class with:\n",
    "- A constructor\n",
    "- A getter\n",
    "- A setter\n",
    "\n",
    "Create an object and interact with it! Make sure you use both your setter and getter methods at least once."
   ]
  },
  {
   "cell_type": "code",
   "execution_count": 10,
   "metadata": {
    "vscode": {
     "languageId": "java"
    }
   },
   "outputs": [
    {
     "name": "stdout",
     "output_type": "stream",
     "text": [
      "Phone model: iPhone 16\n",
      "Updated phone model: Samsung Galaxy S24\n"
     ]
    }
   ],
   "source": [
    "public class Phone {\n",
    "    private String model;\n",
    "\n",
    "    public Phone(String m) {\n",
    "        model = m;\n",
    "    }\n",
    "\n",
    "    public String getModel() {\n",
    "        return model;\n",
    "    }\n",
    "\n",
    "    public void setModel(String m) {\n",
    "        model = m;\n",
    "    }\n",
    "}\n",
    "\n",
    "public class Main {\n",
    "    public static void main(String[] args) {\n",
    "        Phone myPhone = new Phone(\"iPhone 16\");\n",
    "\n",
    "        System.out.println(\"Phone model: \" + myPhone.getModel()); \n",
    "\n",
    "        myPhone.setModel(\"Samsung Galaxy S24\");\n",
    "\n",
    "        // Print the updated phone's model\n",
    "        System.out.println(\"Updated phone model: \" + myPhone.getModel());\n",
    "    }\n",
    "}\n",
    "Main.main(null);"
   ]
  },
  {
   "cell_type": "markdown",
   "metadata": {},
   "source": [
    "## Popcorn hack:\n",
    "- Add another static method to the Villain class\n",
    "- Keep it minion themed and fun!"
   ]
  },
  {
   "cell_type": "code",
   "execution_count": 11,
   "metadata": {
    "vscode": {
     "languageId": "java"
    }
   },
   "outputs": [
    {
     "name": "stdout",
     "output_type": "stream",
     "text": [
      "=== Adding Minions ===\n",
      "Kevin has been added to Gru's army.\n",
      "Stuart has been added to Gru's army.\n",
      "Bob has been added to Gru's army.\n",
      "Henchman 1 has been added to Vector's army.\n",
      "\n",
      "=== Villain Descriptions ===\n",
      "Gru is planning to: steal the moon!\n",
      "They have 3 minions.\n",
      "\n",
      "Vector is planning to: take over the world with magnitude and direction!\n",
      "They have 1 minions.\n",
      "\n",
      "=== Total Villain Count ===\n",
      "There are 2 villains in the world.\n",
      "=== Villains' Plans Announcement ===\n",
      "Gru is plotting to: steal the moon!!\n",
      "Vector is plotting to: take over the world with magnitude and direction!!\n"
     ]
    }
   ],
   "source": [
    "import java.util.ArrayList;\n",
    "import java.util.List;\n",
    "\n",
    "public class Villain {\n",
    "    // Instance variables\n",
    "    public String name;\n",
    "    public String evilPlan;\n",
    "    public List<String> minions;\n",
    "    public static int villainCount = 0;\n",
    "\n",
    "    // Constructor for name, plan, and minions\n",
    "    public Villain(String name, String evilPlan) {\n",
    "        this.name = name;\n",
    "        this.evilPlan = evilPlan;\n",
    "        this.minions = new ArrayList<>();\n",
    "        villainCount++;\n",
    "    }\n",
    "\n",
    "    // Instance method to add a minion\n",
    "    public void addMinion(String minion) {\n",
    "        minions.add(minion);\n",
    "        System.out.println(minion + \" has been added to \" + name + \"'s army.\");\n",
    "    }\n",
    "\n",
    "    // Instance method to describe the villain\n",
    "    public void describeVillain() {\n",
    "        System.out.println(name + \" is planning to: \" + evilPlan);\n",
    "        System.out.println(\"They have \" + minions.size() + \" minions.\");\n",
    "    }\n",
    "\n",
    "    // Static method to get the total count of villains\n",
    "    public static int getVillainCount() {\n",
    "        return villainCount;\n",
    "    }\n",
    "\n",
    "    // New static method to announce the plans of all villains\n",
    "    public static void announceVillainPlan(List<Villain> villains) {\n",
    "        System.out.println(\"=== Villains' Plans Announcement ===\");\n",
    "        for (Villain v : villains) {\n",
    "            System.out.println(v.name + \" is plotting to: \" + v.evilPlan + \"!\");\n",
    "        }\n",
    "    }\n",
    "}\n",
    "\n",
    "public class Main {\n",
    "    public static void main(String[] args) {\n",
    "        Villain.villainCount = 0;\n",
    "\n",
    "        // Create new villains\n",
    "        Villain gru = new Villain(\"Gru\", \"steal the moon!\");\n",
    "        Villain vector = new Villain(\"Vector\", \"take over the world with magnitude and direction!\");\n",
    "\n",
    "        // Add minions to villains\n",
    "        System.out.println(\"=== Adding Minions ===\");\n",
    "        gru.addMinion(\"Kevin\");\n",
    "        gru.addMinion(\"Stuart\");\n",
    "        gru.addMinion(\"Bob\");\n",
    "\n",
    "        vector.addMinion(\"Henchman 1\");\n",
    "\n",
    "        System.out.println();\n",
    "\n",
    "        // Describe the villains and their plans\n",
    "        System.out.println(\"=== Villain Descriptions ===\");\n",
    "        gru.describeVillain();\n",
    "        System.out.println();\n",
    "        vector.describeVillain();\n",
    "        System.out.println();\n",
    "\n",
    "        // Get the total count of villains\n",
    "        System.out.println(\"=== Total Villain Count ===\");\n",
    "        System.out.println(\"There are \" + Villain.getVillainCount() + \" villains in the world.\");\n",
    "\n",
    "        // Announce the plans of all villains\n",
    "        List<Villain> villainList = new ArrayList<>();\n",
    "        villainList.add(gru);\n",
    "        villainList.add(vector);\n",
    "\n",
    "        Villain.announceVillainPlan(villainList);  // Call the static method\n",
    "    }\n",
    "}\n",
    "Main.main(null);"
   ]
  },
  {
   "cell_type": "markdown",
   "metadata": {},
   "source": [
    "## Popcorn hack:\n",
    "Dr. Nefario is busy assigning work for the minions, and he needs your help to organize his group. Your mission is to write and implement a Java classes for each minion which includes their name, gadgets, personality, and more. Get ready to make Dr. Nefario's life easier and keep the minions organized!"
   ]
  },
  {
   "cell_type": "code",
   "execution_count": 12,
   "metadata": {
    "vscode": {
     "languageId": "java"
    }
   },
   "outputs": [
    {
     "name": "stdout",
     "output_type": "stream",
     "text": [
      "=== Adding Minions ===\n",
      "Kevin has been added to Gru's army.\n",
      "Stuart has been added to Gru's army.\n",
      "Bob has been added to Gru's army.\n",
      "Henchman 1 has been added to Vector's army.\n",
      "\n",
      "=== Villain Descriptions ===\n",
      "Gru is planning to: steal the moon!\n",
      "They have 3 minions.\n",
      "\n",
      "Vector is planning to: take over the world with magnitude and direction!\n",
      "They have 1 minions.\n",
      "\n",
      "=== Total Villain Count ===\n",
      "There are 2 villains in the world.\n",
      "=== Villains' Plans Announcement ===\n",
      "Gru is plotting to: steal the moon!!\n",
      "Vector is plotting to: take over the world with magnitude and direction!!\n"
     ]
    }
   ],
   "source": [
    "import java.util.ArrayList;\n",
    "import java.util.List;\n",
    "\n",
    "public class Minion {\n",
    "    // Instance variables\n",
    "    private String name;\n",
    "    private List<String> gadgets;\n",
    "    private String personality;\n",
    "    private int skillLevel;\n",
    "\n",
    "    // Constructor for minion details\n",
    "    public Minion(String name, String personality, int skillLevel) {\n",
    "        this.name = name;\n",
    "        this.personality = personality;\n",
    "        this.skillLevel = skillLevel;\n",
    "        this.gadgets = new ArrayList<>();\n",
    "    }\n",
    "\n",
    "    // Method to add a gadget\n",
    "    public void addGadget(String gadget) {\n",
    "        gadgets.add(gadget);\n",
    "        System.out.println(gadget + \" has been assigned to \" + name + \".\");\n",
    "    }\n",
    "\n",
    "    // Method to describe the minion's personality\n",
    "    public String getPersonality() {\n",
    "        return personality;\n",
    "    }\n",
    "\n",
    "    // Method to display the minion's gadgets\n",
    "    public void displayGadgets() {\n",
    "        System.out.println(name + \"'s Gadgets: \" + gadgets);\n",
    "    }\n",
    "\n",
    "    // Method to describe the minion\n",
    "    public void describeMinion() {\n",
    "        System.out.println(\"Name: \" + name);\n",
    "        System.out.println(\"Personality: \" + personality);\n",
    "        System.out.println(\"Skill Level: \" + skillLevel);\n",
    "        displayGadgets();\n",
    "    }\n",
    "\n",
    "    // Static method to describe group of minions\n",
    "    public static void organizeMinions(List<Minion> minions) {\n",
    "        System.out.println(\"=== Organizing Minions ===\");\n",
    "        for (Minion minion : minions) {\n",
    "            minion.describeMinion();\n",
    "            System.out.println(\"-------------------------\");\n",
    "        }\n",
    "    }\n",
    "}\n",
    "Main.main(null);"
   ]
  },
  {
   "cell_type": "markdown",
   "metadata": {},
   "source": [
    "## Popcorn hacks:\n",
    "- Look at some of the code I've commented out and try experimenting with gadgetsList if you want. Otherwise, just make a static variable that serves a purpose in the program."
   ]
  },
  {
   "cell_type": "code",
   "execution_count": 13,
   "metadata": {
    "vscode": {
     "languageId": "java"
    }
   },
   "outputs": [
    {
     "name": "stdout",
     "output_type": "stream",
     "text": [
      "=== Adding Minions ===\n",
      "Kevin has been added to Gru's army.\n",
      "Stuart has been added to Gru's army.\n",
      "Bob has been added to Gru's army.\n",
      "Henchman 1 has been added to Vector's army.\n",
      "\n",
      "=== Villain Descriptions ===\n",
      "Gru is planning to: steal the moon!\n",
      "They have 3 minions.\n",
      "\n",
      "Vector is planning to: take over the world with magnitude and direction!\n",
      "They have 1 minions.\n",
      "\n",
      "=== Total Villain Count ===\n",
      "There are 2 villains in the world.\n",
      "=== Villains' Plans Announcement ===\n",
      "Gru is plotting to: steal the moon!!\n",
      "Vector is plotting to: take over the world with magnitude and direction!!\n"
     ]
    }
   ],
   "source": [
    "import java.util.ArrayList;\n",
    "import java.util.List;\n",
    "\n",
    "public class Gadget {\n",
    "    public static int totalGadgets = 0;  // Static variable to track total gadgets made\n",
    "    private String gadgetName;  // Instance variable to store the name of the gadget\n",
    "    public static List<Gadget> gadgetsList = new ArrayList<>();  // Static list to track all gadgets\n",
    "\n",
    "    // Constructor to set the gadget name and increment totalGadgets\n",
    "    public Gadget(String gadgetName) {\n",
    "        this.gadgetName = gadgetName;\n",
    "        totalGadgets++;  // Increment the total gadgets count\n",
    "        gadgetsList.add(this);  // Add this gadget to the static list\n",
    "    }\n",
    "\n",
    "    // Method to return the gadget's name\n",
    "    public String getGadgetName() {\n",
    "        return gadgetName;\n",
    "    }\n",
    "\n",
    "    // Static method to display all gadgets in the list\n",
    "    public static void displayAllGadgets() {\n",
    "        System.out.println(\"=== List of All Gadgets ===\");\n",
    "        for (Gadget gadget : gadgetsList) {\n",
    "            System.out.println(gadget.getGadgetName());\n",
    "        }\n",
    "    }\n",
    "\n",
    "    // Main method to test the Gadget class\n",
    "    public static void main(String[] args) {\n",
    "        // Create three gadgets\n",
    "        Gadget g1 = new Gadget(\"Freeze Ray\");\n",
    "        Gadget g2 = new Gadget(\"Banana Blaster\");\n",
    "        Gadget g3 = new Gadget(\"Lipstick Taser\");\n",
    "\n",
    "        // Print the total number of gadgets\n",
    "        System.out.println(\"Total gadgets made: \" + Gadget.totalGadgets);\n",
    "\n",
    "        // Display all the gadgets in the list\n",
    "        Gadget.displayAllGadgets();\n",
    "    }\n",
    "}\n",
    "Main.main(null);"
   ]
  },
  {
   "cell_type": "markdown",
   "metadata": {},
   "source": [
    "## Popcorn hack:\n",
    "\n",
    "Dr. Nefario and Gru need to calculate the cost of their equipment to remain under the budget for this year! Add a second parameter to the Gadget constructor to include cost for Gadget instances, and make a static method to calculate the price of all gadgets that have been made so far."
   ]
  },
  {
   "cell_type": "code",
   "execution_count": 18,
   "metadata": {
    "vscode": {
     "languageId": "java"
    }
   },
   "outputs": [
    {
     "name": "stdout",
     "output_type": "stream",
     "text": [
      "Total gadgets made: 3\n",
      "=== List of All Gadgets ===\n",
      "Freeze Ray - Cost: $5000.99\n",
      "Banana Blaster - Cost: $1200.5\n",
      "Lipstick Taser - Cost: $300.75\n",
      "Total cost of all gadgets: $6502.24\n"
     ]
    }
   ],
   "source": [
    "import java.util.ArrayList;\n",
    "import java.util.List;\n",
    "\n",
    "public class Gadget {\n",
    "    public static int totalGadgets = 0;  // Static variable to track total gadgets made\n",
    "    public static double totalCost = 0;  // Static variable to track the total cost of all gadgets\n",
    "    private String gadgetName;  // Instance variable to store the name of the gadget\n",
    "    private double gadgetCost;  // Instance variable to store the cost of the gadget\n",
    "    public static List<Gadget> gadgetsList = new ArrayList<>();  // Static list to track all gadgets\n",
    "\n",
    "    // Constructor to set the gadget name, cost, and increment totalGadgets and totalCost\n",
    "    public Gadget(String gadgetName, double gadgetCost) {\n",
    "        this.gadgetName = gadgetName;\n",
    "        this.gadgetCost = gadgetCost;\n",
    "        totalGadgets++;  // Increment the total gadgets count\n",
    "        totalCost += gadgetCost;  // Add the cost to the total cost\n",
    "        gadgetsList.add(this);  // Add this gadget to the static list\n",
    "    }\n",
    "\n",
    "    // Method to return the gadget's name\n",
    "    public String getGadgetName() {\n",
    "        return gadgetName;\n",
    "    }\n",
    "\n",
    "    // Method to return the gadget's cost\n",
    "    public double getGadgetCost() {\n",
    "        return gadgetCost;\n",
    "    }\n",
    "\n",
    "    // Static method to calculate the total cost of all gadgets\n",
    "    public static double calculateTotalCost() {\n",
    "        return totalCost;\n",
    "    }\n",
    "\n",
    "    // Static method to display all gadgets in the list\n",
    "    public static void displayAllGadgets() {\n",
    "        System.out.println(\"=== List of All Gadgets ===\");\n",
    "        for (Gadget gadget : gadgetsList) {\n",
    "            System.out.println(gadget.getGadgetName() + \" - Cost: $\" + gadget.getGadgetCost());\n",
    "        }\n",
    "    }\n",
    "\n",
    "    // Main method to test the Gadget class\n",
    "    public static void main(String[] args) {\n",
    "        // Create three gadgets with names and costs\n",
    "        Gadget g1 = new Gadget(\"Freeze Ray\", 5000.99);\n",
    "        Gadget g2 = new Gadget(\"Banana Blaster\", 1200.50);\n",
    "        Gadget g3 = new Gadget(\"Lipstick Taser\", 300.75);\n",
    "\n",
    "        // Print the total number of gadgets\n",
    "        System.out.println(\"Total gadgets made: \" + Gadget.totalGadgets);\n",
    "\n",
    "        // Display all the gadgets in the list with their costs\n",
    "        Gadget.displayAllGadgets();\n",
    "\n",
    "        // Print the total cost of all gadgets\n",
    "        System.out.println(\"Total cost of all gadgets: $\" + Gadget.calculateTotalCost());\n",
    "    }\n",
    "}\n",
    "Gadget.main(null);"
   ]
  },
  {
   "cell_type": "markdown",
   "metadata": {},
   "source": [
    "## Popcorn Hack\n",
    "\n",
    "- Figure out why the happiness level and the energy level is not showing up the way we want it to. First one to do so will get a high five from Trevor Huang.\n",
    "\n",
    "Answer: The reason the happinessLevel and energyLevel are not showing up as expected is due to variable shadowing. In the constructor of MinionMood, the variables happinessLevel and energyLevel are being re-declared as local variables inside the constructor, which hides (or shadows) the instance variables of the same names."
   ]
  },
  {
   "cell_type": "code",
   "execution_count": 19,
   "metadata": {
    "vscode": {
     "languageId": "java"
    }
   },
   "outputs": [
    {
     "name": "stdout",
     "output_type": "stream",
     "text": [
      "Happiness Level: 10\n",
      "Energy Level: 2\n"
     ]
    }
   ],
   "source": [
    "public class MinionMood\n",
    "{\n",
    "    private int happinessLevel;\n",
    "    private int energyLevel;\n",
    "\n",
    "    public MinionMood(int bananas, int tasks)\n",
    "    {\n",
    "        // Use \"this\" to refer to the instance variables\n",
    "        this.happinessLevel = 2 * bananas;\n",
    "        this.energyLevel = tasks;\n",
    "    }\n",
    "\n",
    "    public String toString()\n",
    "    {\n",
    "        return \"Happiness Level: \" + happinessLevel + \"\\nEnergy Level: \" + energyLevel;\n",
    "    }\n",
    "}\n",
    "\n",
    "public class Main {\n",
    "    public static void main(String[] args) {\n",
    "        MinionMood bob = new MinionMood(5, 2);\n",
    "        System.out.println(bob);\n",
    "    }\n",
    "}\n",
    "Main.main(null);"
   ]
  },
  {
   "cell_type": "markdown",
   "metadata": {},
   "source": [
    "## Popcorn Hacks\n",
    "\n",
    "The Minions are preparing for a big event where the tallest and fastest minion will get to assist Gru on his next mission! You’ve been called in as the official \"Minion Trainer\" to help compare the minions. The goal is to see which minion is more prepared for the mission.\n",
    "\n",
    "1. What is the output of the statement *System.out.println(\"minion 1 speed: \" + minion1.speed())*? Explain why the `this` keyword is useful in the *getSpeed()* method.\n",
    "\n",
    "2. What does the *isTallerThan()* method compare?\n",
    "\n",
    "3. What happens to the result of *System.out.println(\"Is minion1 taller than minion2? \" + minion1.isTallerThan(minion2))* after *minion2.setHeight(50)* is called?\n",
    "\n",
    "\n",
    "Who should be selected for the mission?🤔"
   ]
  },
  {
   "cell_type": "code",
   "execution_count": null,
   "metadata": {
    "vscode": {
     "languageId": "java"
    }
   },
   "outputs": [],
   "source": [
    "public class Minion {\n",
    "    private String speed;\n",
    "    private int height;\n",
    "\n",
    "    public void Minion(String speed, int height) {\n",
    "        this.speed = speed;\n",
    "        this.height = height;\n",
    "    }\n",
    "\n",
    "    public void setHeight(int height) {\n",
    "        this.height = height;  \n",
    "    }\n",
    "\n",
    "    public String getSpeed() {\n",
    "        return this.speed;  \n",
    "    }\n",
    "\n",
    "    public boolean isTallerThan(Minion otherMinion) {\n",
    "        return this.height > otherMinion.height;  \n",
    "    }\n",
    "\n",
    "    public static void main(String[] args) {\n",
    "        Minion minion1 = new Minion(\"fast\", 43);\n",
    "        Minion minion2 = new Minion(\"medium\", 28);\n",
    "\n",
    "        System.out.println(\"minion 1 speed: \" + minion1.getSpeed());\n",
    "        System.out.println(\"Is minion1 taller than minion2? \" + minion1.isTallerThan(minion2));\n",
    "\n",
    "        minion2.setHeight(50);\n",
    "        System.out.println(\"Is minion1 still taller than minion2? \" + minion1.isTallerThan(minion2));\n",
    "    }\n",
    "}"
   ]
  },
  {
   "cell_type": "markdown",
   "metadata": {},
   "source": [
    "Answers:\n",
    "\n",
    "1. The output would be `minion 1 speed: fast`\n",
    "\n",
    "2. The `isTallerThan()` method compares the heights of two minions. Specifically, it compares the height of the current minion `(this.height)` with the height of another minion passed as an argument `(otherMinion.height)`. If the current minion is taller than the other minion, the method returns true; otherwise, it returns false.\n",
    "\n",
    "3. After minion2.setHeight(50) is called, minion2’s height is updated to 50, which is greater than minion1’s height of 43. So the next time the comparison is made, the output becomes: `Is minion1 still taller than minion2? false`\n",
    "\n",
    "4. Based on the comparison of speed and height, the selection would depend on the criteria Gru values more. If Gru prioritizes speed, then minion1 should be selected because minion1 is faster `(\"fast\" vs. \"medium\")`. However, if height is more important, then after calling `minion2.setHeight(50)`, minion2 would be taller, so minion2 might be a better choice"
   ]
  },
  {
   "cell_type": "markdown",
   "metadata": {},
   "source": [
    "## Hack 1\n",
    "\n",
    "Gru has just recently stopped El Macho from destroying the world. But now, Gru needs to separate the leftover purple minions and the yellow minions so that he can cure the infected minions. He then needs to organize the minions in terms of recovery time and usefulness. To do this, Gru needs you to make a minion class with the instance variables ``color, name, energy levels, gadgets, hair, height``"
   ]
  },
  {
   "cell_type": "code",
   "execution_count": 22,
   "metadata": {
    "vscode": {
     "languageId": "java"
    }
   },
   "outputs": [
    {
     "name": "stdout",
     "output_type": "stream",
     "text": [
      "Minion{name='Kevin', color='Yellow', energyLevel=85, gadgets=[Freeze Ray, Banana Blaster], hair='Sprout', height=4.1}\n",
      "Kevin's updated energy level: 95\n"
     ]
    }
   ],
   "source": [
    "import java.util.List;\n",
    "\n",
    "public class Minion {\n",
    "    private String color;\n",
    "    private String name;\n",
    "    private int energyLevel;\n",
    "    private List<String> gadgets;\n",
    "    private String hair;\n",
    "    private double height;\n",
    "\n",
    "    public Minion(String color, String name, int energyLevel, List<String> gadgets, String hair, double height) {\n",
    "        this.color = color;\n",
    "        this.name = name;\n",
    "        this.energyLevel = energyLevel;\n",
    "        this.gadgets = gadgets;\n",
    "        this.hair = hair;\n",
    "        this.height = height;\n",
    "    }\n",
    "\n",
    "    // Getter and Setter for color\n",
    "    public String getColor() {\n",
    "        return color;\n",
    "    }\n",
    "\n",
    "    public void setColor(String color) {\n",
    "        this.color = color;\n",
    "    }\n",
    "\n",
    "    // Getter and Setter for name\n",
    "    public String getName() {\n",
    "        return name;\n",
    "    }\n",
    "\n",
    "    public void setName(String name) {\n",
    "        this.name = name;\n",
    "    }\n",
    "\n",
    "    // Getter and Setter for energy level\n",
    "    public int getEnergyLevel() {\n",
    "        return energyLevel;\n",
    "    }\n",
    "\n",
    "    public void setEnergyLevel(int energyLevel) {\n",
    "        this.energyLevel = energyLevel;\n",
    "    }\n",
    "\n",
    "    // Getter and Setter for gadgets\n",
    "    public List<String> getGadgets() {\n",
    "        return gadgets;\n",
    "    }\n",
    "\n",
    "    public void setGadgets(List<String> gadgets) {\n",
    "        this.gadgets = gadgets;\n",
    "    }\n",
    "\n",
    "    // Getter and Setter for hair\n",
    "    public String getHair() {\n",
    "        return hair;\n",
    "    }\n",
    "\n",
    "    public void setHair(String hair) {\n",
    "        this.hair = hair;\n",
    "    }\n",
    "\n",
    "    // Getter and Setter for height\n",
    "    public double getHeight() {\n",
    "        return height;\n",
    "    }\n",
    "\n",
    "    public void setHeight(double height) {\n",
    "        this.height = height;\n",
    "    }\n",
    "\n",
    "    // toString method to print minion details\n",
    "    public String toString() {\n",
    "        return \"Minion{name='\" + name + \"', color='\" + color + \"', energyLevel=\" + energyLevel + \", gadgets=\" + gadgets \n",
    "               + \", hair='\" + hair + \"', height=\" + height + \"}\";\n",
    "    }\n",
    "}\n",
    "\n",
    "import java.util.Arrays;\n",
    "\n",
    "public class Main {\n",
    "    public static void main(String[] args) {\n",
    "        // Creating a list of gadgets\n",
    "        List<String> gadgets = Arrays.asList(\"Freeze Ray\", \"Banana Blaster\");\n",
    "\n",
    "        // Creating a minion object\n",
    "        Minion kevin = new Minion(\"Yellow\", \"Kevin\", 85, gadgets, \"Sprout\", 4.1);\n",
    "\n",
    "        // Print the minion details\n",
    "        System.out.println(kevin);\n",
    "\n",
    "        // Changing the minion's energy level\n",
    "        kevin.setEnergyLevel(95);\n",
    "\n",
    "        // Print the updated energy level\n",
    "        System.out.println(kevin.getName() + \"'s updated energy level: \" + kevin.getEnergyLevel());\n",
    "    }\n",
    "}\n",
    "Main.main(null);"
   ]
  },
  {
   "cell_type": "markdown",
   "metadata": {},
   "source": [
    "## Hack 2\n",
    "\n",
    "Now Gru needs you to make a default constructor for all the NPC minions. Assign each default minion a default color,name,energy level, gadget, hair, and height. "
   ]
  },
  {
   "cell_type": "code",
   "execution_count": 23,
   "metadata": {
    "vscode": {
     "languageId": "java"
    }
   },
   "outputs": [
    {
     "name": "stdout",
     "output_type": "stream",
     "text": [
      "=== Default NPC Minion ===\n",
      "Minion{name='Bob', color='Yellow', energyLevel=70, gadgets=[Banana Launcher, Fart Gun], hair='None', height=3.5}\n",
      "\n",
      "=== Custom Minion ===\n",
      "Minion{name='Kevin', color='Yellow', energyLevel=85, gadgets=[Freeze Ray, Banana Blaster], hair='Sprout', height=4.1}\n"
     ]
    }
   ],
   "source": [
    "import java.util.List;\n",
    "import java.util.Arrays;\n",
    "\n",
    "public class Minion {\n",
    "    // Instance variables\n",
    "    private String color;\n",
    "    private String name;\n",
    "    private int energyLevel;\n",
    "    private List<String> gadgets;\n",
    "    private String hair;\n",
    "    private double height;\n",
    "\n",
    "    // Default constructor for NPC Minions\n",
    "    public Minion() {\n",
    "        this.color = \"Yellow\";\n",
    "        this.name = \"Bob\";\n",
    "        this.energyLevel = 70;\n",
    "        this.gadgets = Arrays.asList(\"Banana Launcher\", \"Fart Gun\");\n",
    "        this.hair = \"None\";\n",
    "        this.height = 3.5;\n",
    "    }\n",
    "\n",
    "    // Constructor with all variables\n",
    "    public Minion(String color, String name, int energyLevel, List<String> gadgets, String hair, double height) {\n",
    "        this.color = color;\n",
    "        this.name = name;\n",
    "        this.energyLevel = energyLevel;\n",
    "        this.gadgets = gadgets;\n",
    "        this.hair = hair;\n",
    "        this.height = height;\n",
    "    }\n",
    "\n",
    "    // Getter and Setter for color\n",
    "    public String getColor() {\n",
    "        return color;\n",
    "    }\n",
    "\n",
    "    public void setColor(String color) {\n",
    "        this.color = color;\n",
    "    }\n",
    "\n",
    "    // Getter and Setter for name\n",
    "    public String getName() {\n",
    "        return name;\n",
    "    }\n",
    "\n",
    "    public void setName(String name) {\n",
    "        this.name = name;\n",
    "    }\n",
    "\n",
    "    // Getter and Setter for energy level\n",
    "    public int getEnergyLevel() {\n",
    "        return energyLevel;\n",
    "    }\n",
    "\n",
    "    public void setEnergyLevel(int energyLevel) {\n",
    "        this.energyLevel = energyLevel;\n",
    "    }\n",
    "\n",
    "    // Getter and Setter for gadgets\n",
    "    public List<String> getGadgets() {\n",
    "        return gadgets;\n",
    "    }\n",
    "\n",
    "    public void setGadgets(List<String> gadgets) {\n",
    "        this.gadgets = gadgets;\n",
    "    }\n",
    "\n",
    "    // Getter and Setter for hair\n",
    "    public String getHair() {\n",
    "        return hair;\n",
    "    }\n",
    "\n",
    "    public void setHair(String hair) {\n",
    "        this.hair = hair;\n",
    "    }\n",
    "\n",
    "    // Getter and Setter for height\n",
    "    public double getHeight() {\n",
    "        return height;\n",
    "    }\n",
    "\n",
    "    public void setHeight(double height) {\n",
    "        this.height = height;\n",
    "    }\n",
    "\n",
    "    // toString method to print minion details\n",
    "    public String toString() {\n",
    "        return \"Minion{name='\" + name + \"', color='\" + color + \"', energyLevel=\" + energyLevel + \", gadgets=\" + gadgets \n",
    "               + \", hair='\" + hair + \"', height=\" + height + \"}\";\n",
    "    }\n",
    "}\n",
    "\n",
    "// Main class to test the Minion class\n",
    "public class Main {\n",
    "    public static void main(String[] args) {\n",
    "        // Creating a default NPC minion\n",
    "        Minion defaultMinion = new Minion();\n",
    "\n",
    "        // Print the default minion details\n",
    "        System.out.println(\"=== Default NPC Minion ===\");\n",
    "        System.out.println(defaultMinion);\n",
    "\n",
    "        // Creating a custom minion\n",
    "        List<String> gadgets = Arrays.asList(\"Freeze Ray\", \"Banana Blaster\");\n",
    "        Minion kevin = new Minion(\"Yellow\", \"Kevin\", 85, gadgets, \"Sprout\", 4.1);\n",
    "\n",
    "        // Print the custom minion details\n",
    "        System.out.println(\"\\n=== Custom Minion ===\");\n",
    "        System.out.println(kevin);\n",
    "    }\n",
    "}\n",
    "Main.main(null);"
   ]
  },
  {
   "cell_type": "markdown",
   "metadata": {},
   "source": [
    "## Hack 3\n",
    "\n",
    "Now please make a parameterized constructor to create the main-character minions easily"
   ]
  },
  {
   "cell_type": "code",
   "execution_count": 24,
   "metadata": {
    "vscode": {
     "languageId": "java"
    }
   },
   "outputs": [
    {
     "name": "stdout",
     "output_type": "stream",
     "text": [
      "=== Main-Character Minions ===\n",
      "Minion{name='Kevin', color='Yellow', energyLevel=85, gadgets=[Freeze Ray, Banana Blaster], hair='Sprout', height=4.1}\n",
      "Minion{name='Stuart', color='Yellow', energyLevel=75, gadgets=[Fart Gun, Hypno Hat], hair='Spiked', height=3.8}\n"
     ]
    }
   ],
   "source": [
    "import java.util.List;\n",
    "import java.util.Arrays;\n",
    "\n",
    "public class Minion {\n",
    "    // Instance variables\n",
    "    private String color;\n",
    "    private String name;\n",
    "    private int energyLevel;\n",
    "    private List<String> gadgets;\n",
    "    private String hair;\n",
    "    private double height;\n",
    "\n",
    "    // Parameterized constructor for main-character minions\n",
    "    public Minion(String color, String name, int energyLevel, List<String> gadgets, String hair, double height) {\n",
    "        this.color = color;\n",
    "        this.name = name;\n",
    "        this.energyLevel = energyLevel;\n",
    "        this.gadgets = gadgets;\n",
    "        this.hair = hair;\n",
    "        this.height = height;\n",
    "    }\n",
    "\n",
    "    // Getter and Setter for color\n",
    "    public String getColor() {\n",
    "        return color;\n",
    "    }\n",
    "\n",
    "    public void setColor(String color) {\n",
    "        this.color = color;\n",
    "    }\n",
    "\n",
    "    // Getter and Setter for name\n",
    "    public String getName() {\n",
    "        return name;\n",
    "    }\n",
    "\n",
    "    public void setName(String name) {\n",
    "        this.name = name;\n",
    "    }\n",
    "\n",
    "    // Getter and Setter for energy level\n",
    "    public int getEnergyLevel() {\n",
    "        return energyLevel;\n",
    "    }\n",
    "\n",
    "    public void setEnergyLevel(int energyLevel) {\n",
    "        this.energyLevel = energyLevel;\n",
    "    }\n",
    "\n",
    "    // Getter and Setter for gadgets\n",
    "    public List<String> getGadgets() {\n",
    "        return gadgets;\n",
    "    }\n",
    "\n",
    "    public void setGadgets(List<String> gadgets) {\n",
    "        this.gadgets = gadgets;\n",
    "    }\n",
    "\n",
    "    // Getter and Setter for hair\n",
    "    public String getHair() {\n",
    "        return hair;\n",
    "    }\n",
    "\n",
    "    public void setHair(String hair) {\n",
    "        this.hair = hair;\n",
    "    }\n",
    "\n",
    "    // Getter and Setter for height\n",
    "    public double getHeight() {\n",
    "        return height;\n",
    "    }\n",
    "\n",
    "    public void setHeight(double height) {\n",
    "        this.height = height;\n",
    "    }\n",
    "\n",
    "    // toString method to print minion details\n",
    "    public String toString() {\n",
    "        return \"Minion{name='\" + name + \"', color='\" + color + \"', energyLevel=\" + energyLevel + \", gadgets=\" + gadgets \n",
    "               + \", hair='\" + hair + \"', height=\" + height + \"}\";\n",
    "    }\n",
    "}\n",
    "\n",
    "// Main class to test the Minion class\n",
    "public class Main {\n",
    "    public static void main(String[] args) {\n",
    "        // Create a custom main-character minion using the parameterized constructor\n",
    "        List<String> gadgetsKevin = Arrays.asList(\"Freeze Ray\", \"Banana Blaster\");\n",
    "        Minion kevin = new Minion(\"Yellow\", \"Kevin\", 85, gadgetsKevin, \"Sprout\", 4.1);\n",
    "\n",
    "        List<String> gadgetsStuart = Arrays.asList(\"Fart Gun\", \"Hypno Hat\");\n",
    "        Minion stuart = new Minion(\"Yellow\", \"Stuart\", 75, gadgetsStuart, \"Spiked\", 3.8);\n",
    "\n",
    "        // Print the custom minion details\n",
    "        System.out.println(\"=== Main-Character Minions ===\");\n",
    "        System.out.println(kevin);\n",
    "        System.out.println(stuart);\n",
    "    }\n",
    "}\n",
    "Main.main(null);"
   ]
  },
  {
   "cell_type": "markdown",
   "metadata": {},
   "source": [
    "## Hack 4\n",
    "\n",
    "Create three minions and print out their values(color, name, energy levels, gadgets, hair, height)"
   ]
  },
  {
   "cell_type": "code",
   "execution_count": 25,
   "metadata": {
    "vscode": {
     "languageId": "java"
    }
   },
   "outputs": [
    {
     "name": "stdout",
     "output_type": "stream",
     "text": [
      "=== Minions Details ===\n",
      "Minion{name='Kevin', color='Yellow', energyLevel=85, gadgets=[Freeze Ray, Banana Blaster], hair='Sprout', height=4.1}\n",
      "Minion{name='Stuart', color='Yellow', energyLevel=75, gadgets=[Fart Gun, Hypno Hat], hair='Spiked', height=3.8}\n",
      "Minion{name='Bob', color='Yellow', energyLevel=90, gadgets=[Teddy Bear, Jelly Blaster], hair='Bald', height=3.5}\n"
     ]
    }
   ],
   "source": [
    "import java.util.List;\n",
    "import java.util.Arrays;\n",
    "\n",
    "public class Minion {\n",
    "    // Instance variables\n",
    "    private String color;\n",
    "    private String name;\n",
    "    private int energyLevel;\n",
    "    private List<String> gadgets;\n",
    "    private String hair;\n",
    "    private double height;\n",
    "\n",
    "    // Parameterized constructor for minions\n",
    "    public Minion(String color, String name, int energyLevel, List<String> gadgets, String hair, double height) {\n",
    "        this.color = color;\n",
    "        this.name = name;\n",
    "        this.energyLevel = energyLevel;\n",
    "        this.gadgets = gadgets;\n",
    "        this.hair = hair;\n",
    "        this.height = height;\n",
    "    }\n",
    "\n",
    "    // toString method to print minion details\n",
    "    public String toString() {\n",
    "        return \"Minion{name='\" + name + \"', color='\" + color + \"', energyLevel=\" + energyLevel + \", gadgets=\" + gadgets \n",
    "               + \", hair='\" + hair + \"', height=\" + height + \"}\";\n",
    "    }\n",
    "}\n",
    "\n",
    "public class Main {\n",
    "    public static void main(String[] args) {\n",
    "        // Create three minions with different attributes\n",
    "        List<String> gadgetsKevin = Arrays.asList(\"Freeze Ray\", \"Banana Blaster\");\n",
    "        Minion kevin = new Minion(\"Yellow\", \"Kevin\", 85, gadgetsKevin, \"Sprout\", 4.1);\n",
    "\n",
    "        List<String> gadgetsStuart = Arrays.asList(\"Fart Gun\", \"Hypno Hat\");\n",
    "        Minion stuart = new Minion(\"Yellow\", \"Stuart\", 75, gadgetsStuart, \"Spiked\", 3.8);\n",
    "\n",
    "        List<String> gadgetsBob = Arrays.asList(\"Teddy Bear\", \"Jelly Blaster\");\n",
    "        Minion bob = new Minion(\"Yellow\", \"Bob\", 90, gadgetsBob, \"Bald\", 3.5);\n",
    "\n",
    "        // Print minion details\n",
    "        System.out.println(\"=== Minions Details ===\");\n",
    "        System.out.println(kevin);\n",
    "        System.out.println(stuart);\n",
    "        System.out.println(bob);\n",
    "    }\n",
    "}\n",
    "Main.main(null);"
   ]
  },
  {
   "cell_type": "markdown",
   "metadata": {},
   "source": [
    "## Hack 5\n",
    "\n",
    "Gru wants to make sure his workers are not overworked as per OSHA. So, Gru wants you to print out the average energy levels of all his Minions. (Hint: you should use static variables)"
   ]
  },
  {
   "cell_type": "code",
   "execution_count": 26,
   "metadata": {
    "vscode": {
     "languageId": "java"
    }
   },
   "outputs": [
    {
     "name": "stdout",
     "output_type": "stream",
     "text": [
      "=== Minions Details ===\n",
      "Minion{name='Kevin', color='Yellow', energyLevel=85, gadgets=[Freeze Ray, Banana Blaster], hair='Sprout', height=4.1}\n",
      "Minion{name='Stuart', color='Yellow', energyLevel=75, gadgets=[Fart Gun, Hypno Hat], hair='Spiked', height=3.8}\n",
      "Minion{name='Bob', color='Yellow', energyLevel=90, gadgets=[Teddy Bear, Jelly Blaster], hair='Bald', height=3.5}\n",
      "=== Average Energy Level ===\n",
      "The average energy level of the minions is: 83.33\n"
     ]
    }
   ],
   "source": [
    "import java.util.List;\n",
    "import java.util.Arrays;\n",
    "\n",
    "public class Minion {\n",
    "    // Instance variables\n",
    "    private String color;\n",
    "    private String name;\n",
    "    private int energyLevel;\n",
    "    private List<String> gadgets;\n",
    "    private String hair;\n",
    "    private double height;\n",
    "\n",
    "    // Static variables to keep track of total energy and number of minions\n",
    "    private static int totalEnergyLevel = 0;\n",
    "    private static int totalMinions = 0;\n",
    "\n",
    "    // Parameterized constructor for minions\n",
    "    public Minion(String color, String name, int energyLevel, List<String> gadgets, String hair, double height) {\n",
    "        this.color = color;\n",
    "        this.name = name;\n",
    "        this.energyLevel = energyLevel;\n",
    "        this.gadgets = gadgets;\n",
    "        this.hair = hair;\n",
    "        this.height = height;\n",
    "        \n",
    "        // Update total energy and number of minions whenever a new minion is created\n",
    "        totalEnergyLevel += energyLevel;\n",
    "        totalMinions++;\n",
    "    }\n",
    "\n",
    "    // Static method to calculate and return average energy level\n",
    "    public static double getAverageEnergyLevel() {\n",
    "        return (double) totalEnergyLevel / totalMinions;\n",
    "    }\n",
    "\n",
    "    // toString method to print minion details\n",
    "    public String toString() {\n",
    "        return \"Minion{name='\" + name + \"', color='\" + color + \"', energyLevel=\" + energyLevel + \", gadgets=\" + gadgets \n",
    "               + \", hair='\" + hair + \"', height=\" + height + \"}\";\n",
    "    }\n",
    "}\n",
    "\n",
    "public class Main {\n",
    "    public static void main(String[] args) {\n",
    "        // Create three minions with different attributes\n",
    "        List<String> gadgetsKevin = Arrays.asList(\"Freeze Ray\", \"Banana Blaster\");\n",
    "        Minion kevin = new Minion(\"Yellow\", \"Kevin\", 85, gadgetsKevin, \"Sprout\", 4.1);\n",
    "\n",
    "        List<String> gadgetsStuart = Arrays.asList(\"Fart Gun\", \"Hypno Hat\");\n",
    "        Minion stuart = new Minion(\"Yellow\", \"Stuart\", 75, gadgetsStuart, \"Spiked\", 3.8);\n",
    "\n",
    "        List<String> gadgetsBob = Arrays.asList(\"Teddy Bear\", \"Jelly Blaster\");\n",
    "        Minion bob = new Minion(\"Yellow\", \"Bob\", 90, gadgetsBob, \"Bald\", 3.5);\n",
    "\n",
    "        // Print minion details\n",
    "        System.out.println(\"=== Minions Details ===\");\n",
    "        System.out.println(kevin);\n",
    "        System.out.println(stuart);\n",
    "        System.out.println(bob);\n",
    "\n",
    "        // Print the average energy level of all minions\n",
    "        System.out.println(\"=== Average Energy Level ===\");\n",
    "        System.out.printf(\"The average energy level of the minions is: %.2f\\n\", Minion.getAverageEnergyLevel());\n",
    "    }\n",
    "}\n",
    "Main.main(null);"
   ]
  },
  {
   "cell_type": "markdown",
   "metadata": {},
   "source": [
    "## For 0.90+\n",
    "\n",
    "Dr. Nefario is trying to assign a recovery time for each minion! Minions who were purple and got cured are very tired, and so are a lot of minions with low energy levels. Create a simple algorithm to calculate how long each minion needs to recover based on their color and energy levels."
   ]
  },
  {
   "cell_type": "code",
   "execution_count": 27,
   "metadata": {
    "vscode": {
     "languageId": "java"
    }
   },
   "outputs": [
    {
     "name": "stdout",
     "output_type": "stream",
     "text": [
      "=== Minions and Recovery Times ===\n",
      "Minion{name='Kevin', color='Yellow', energyLevel=85, gadgets=[Freeze Ray, Banana Blaster], hair='Sprout', height=4.1}\n",
      "Kevin's recovery time: 5 days\n",
      "\n",
      "Minion{name='Stuart', color='Purple', energyLevel=30, gadgets=[Fart Gun, Hypno Hat], hair='Spiked', height=3.8}\n",
      "Stuart's recovery time: 19 days\n",
      "\n",
      "Minion{name='Bob', color='Yellow', energyLevel=45, gadgets=[Teddy Bear, Jelly Blaster], hair='Bald', height=3.5}\n",
      "Bob's recovery time: 6 days\n",
      "\n"
     ]
    }
   ],
   "source": [
    "import java.util.List;\n",
    "import java.util.Arrays;\n",
    "\n",
    "public class Minion {\n",
    "    // Instance variables\n",
    "    private String color;\n",
    "    private String name;\n",
    "    private int energyLevel;\n",
    "    private List<String> gadgets;\n",
    "    private String hair;\n",
    "    private double height;\n",
    "\n",
    "    // Static variables to track total energy and number of minions\n",
    "    private static int totalEnergyLevel = 0;\n",
    "    private static int totalMinions = 0;\n",
    "\n",
    "    // Parameterized constructor for minions\n",
    "    public Minion(String color, String name, int energyLevel, List<String> gadgets, String hair, double height) {\n",
    "        this.color = color;\n",
    "        this.name = name;\n",
    "        this.energyLevel = energyLevel;\n",
    "        this.gadgets = gadgets;\n",
    "        this.hair = hair;\n",
    "        this.height = height;\n",
    "        \n",
    "        totalEnergyLevel += energyLevel;\n",
    "        totalMinions++;\n",
    "    }\n",
    "\n",
    "    // Getter methods\n",
    "    public String getColor() {\n",
    "        return this.color;\n",
    "    }\n",
    "\n",
    "    public int getEnergyLevel() {\n",
    "        return this.energyLevel;\n",
    "    }\n",
    "\n",
    "    // Method to calculate recovery time based on color and energy level\n",
    "    public int calculateRecoveryTime() {\n",
    "        int recoveryTime = 0;\n",
    "\n",
    "        // Add base recovery time for purple minions\n",
    "        if (this.color.equalsIgnoreCase(\"purple\")) {\n",
    "            recoveryTime += 10;  // Purple minions need more time to recover\n",
    "        }\n",
    "\n",
    "        // Add recovery time based on low energy levels\n",
    "        if (this.energyLevel < 50) {\n",
    "            recoveryTime += (50 - this.energyLevel) / 5;  // The lower the energy, the longer the recovery\n",
    "        }\n",
    "\n",
    "        // Base recovery time for all minions\n",
    "        recoveryTime += 5;\n",
    "\n",
    "        return recoveryTime;\n",
    "    }\n",
    "\n",
    "    // toString method to print minion details\n",
    "    public String toString() {\n",
    "        return \"Minion{name='\" + name + \"', color='\" + color + \"', energyLevel=\" + energyLevel + \", gadgets=\" + gadgets \n",
    "               + \", hair='\" + hair + \"', height=\" + height + \"}\";\n",
    "    }\n",
    "}\n",
    "\n",
    "public class Main {\n",
    "    public static void main(String[] args) {\n",
    "        // Create minions with different attributes\n",
    "        List<String> gadgetsKevin = Arrays.asList(\"Freeze Ray\", \"Banana Blaster\");\n",
    "        Minion kevin = new Minion(\"Yellow\", \"Kevin\", 85, gadgetsKevin, \"Sprout\", 4.1);\n",
    "\n",
    "        List<String> gadgetsStuart = Arrays.asList(\"Fart Gun\", \"Hypno Hat\");\n",
    "        Minion stuart = new Minion(\"Purple\", \"Stuart\", 30, gadgetsStuart, \"Spiked\", 3.8);\n",
    "\n",
    "        List<String> gadgetsBob = Arrays.asList(\"Teddy Bear\", \"Jelly Blaster\");\n",
    "        Minion bob = new Minion(\"Yellow\", \"Bob\", 45, gadgetsBob, \"Bald\", 3.5);\n",
    "\n",
    "        // Print minion details and their calculated recovery times\n",
    "        System.out.println(\"=== Minions and Recovery Times ===\");\n",
    "        System.out.println(kevin);\n",
    "        System.out.println(\"Kevin's recovery time: \" + kevin.calculateRecoveryTime() + \" days\\n\");\n",
    "\n",
    "        System.out.println(stuart);\n",
    "        System.out.println(\"Stuart's recovery time: \" + stuart.calculateRecoveryTime() + \" days\\n\");\n",
    "\n",
    "        System.out.println(bob);\n",
    "        System.out.println(\"Bob's recovery time: \" + bob.calculateRecoveryTime() + \" days\\n\");\n",
    "    }\n",
    "}\n",
    "Main.main(null);"
   ]
  }
 ],
 "metadata": {
  "kernelspec": {
   "display_name": "java (IJava/j!)",
   "language": "java",
   "name": "jbang-ijava"
  },
  "language_info": {
   "codemirror_mode": "java",
   "file_extension": ".jshell",
   "mimetype": "text/x-java-source",
   "name": "Java",
   "pygments_lexer": "java",
   "version": "17.0.11+7-LTS-207"
  }
 },
 "nbformat": 4,
 "nbformat_minor": 2
}
