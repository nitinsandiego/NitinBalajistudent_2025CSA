{
 "cells": [
  {
   "cell_type": "markdown",
   "metadata": {},
   "source": [
    "---\n",
    "toc: false\n",
    "layout: post\n",
    "title: Arraylist FRQ Homework\n",
    "type: ccc\n",
    "courses: {csa: {week: 17}}\n",
    "---"
   ]
  },
  {
   "cell_type": "code",
   "execution_count": null,
   "metadata": {
    "vscode": {
     "languageId": "java"
    }
   },
   "outputs": [],
   "source": [
    "public class WeatherData {\n",
    "\n",
    "    private ArrayList<Double> temperatures;\n",
    "\n",
    "    public void cleanData (double lower, double upper) {\n",
    "        /* to be implemented in Part A */ \n",
    "    }\n",
    "\n",
    "    public int longest HeatWave () {\n",
    "        /* to be implemented in Part B */\n",
    "    }\n",
    "}"
   ]
  },
  {
   "cell_type": "markdown",
   "metadata": {},
   "source": [
    "# Part A"
   ]
  },
  {
   "cell_type": "code",
   "execution_count": null,
   "metadata": {
    "vscode": {
     "languageId": "java"
    }
   },
   "outputs": [],
   "source": [
    "import java.util.ArrayList;\n",
    "\n",
    "public class WeatherData {\n",
    "\n",
    "    // Instance variable to store temperature data as a list of doubles.\n",
    "    private ArrayList<Double> temperatures;\n",
    "\n",
    "    /**\n",
    "     * Cleans the temperature data by removing any values that fall outside \n",
    "     * the specified range [lower, upper].\n",
    "     * \n",
    "     * @param lower the inclusive lower bound of valid temperatures\n",
    "     * @param upper the inclusive upper bound of valid temperatures\n",
    "     */\n",
    "    public void cleanData(double lower, double upper) {\n",
    "        // Iterate through the temperature list in reverse to avoid skipping elements during removal.\n",
    "        for (int i = temperatures.size() - 1; i >= 0; i--) {\n",
    "            // Remove any temperature that is outside the specified range.\n",
    "            if (temperatures.get(i) < lower || temperatures.get(i) > upper) {\n",
    "                temperatures.remove(i);\n",
    "            }\n",
    "        }\n",
    "    }\n",
    "\n",
    "    /**\n",
    "     * Determines the longest heat wave, defined as the longest sequence of consecutive \n",
    "     * days with temperatures above the specified threshold.\n",
    "     * \n",
    "     * @param threshold the temperature threshold to define a heat wave\n",
    "     * @return the length of the longest heat wave\n",
    "     */\n",
    "    public int longestHeatWave(double threshold) {\n",
    "        int numOfHeatWaveDays = 0;  // Tracks the current streak of heat wave days.\n",
    "        int maxHeatWaveDays = 0;   // Tracks the longest streak of heat wave days.\n",
    "\n",
    "        // Iterate through each temperature in the list.\n",
    "        for (double temp : temperatures) {\n",
    "            if (temp > threshold) {\n",
    "                // Increment the current streak if the temperature exceeds the threshold.\n",
    "                numOfHeatWaveDays++;\n",
    "                // Update the longest streak if the current streak is longer.\n",
    "                if (numOfHeatWaveDays > maxHeatWaveDays) {\n",
    "                    maxHeatWaveDays = numOfHeatWaveDays;\n",
    "                }\n",
    "            } else {\n",
    "                // Reset the current streak if the temperature does not exceed the threshold.\n",
    "                numOfHeatWaveDays = 0;\n",
    "            }\n",
    "        }\n",
    "        // Return the length of the longest heat wave.\n",
    "        return maxHeatWaveDays;\n",
    "    }\n",
    "}"
   ]
  }
 ],
 "metadata": {
  "language_info": {
   "name": "python"
  }
 },
 "nbformat": 4,
 "nbformat_minor": 2
}
