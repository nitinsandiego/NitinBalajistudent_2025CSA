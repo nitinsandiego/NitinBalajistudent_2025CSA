{
 "cells": [
  {
   "cell_type": "markdown",
   "metadata": {},
   "source": [
    "---\n",
    "toc: false\n",
    "layout: post\n",
    "title: Recursion Homework\n",
    "type: ccc\n",
    "courses: {csa: {week: 16}}\n",
    "---"
   ]
  },
  {
   "cell_type": "markdown",
   "metadata": {},
   "source": [
    "## Part A: Count Ways to Climb Stairs\n",
    "\n",
    "Write a recursive method countWays that calculates the total number of ways the person can climb a staircase with n steps."
   ]
  },
  {
   "cell_type": "code",
   "execution_count": 6,
   "metadata": {
    "vscode": {
     "languageId": "java"
    }
   },
   "outputs": [
    {
     "name": "stdout",
     "output_type": "stream",
     "text": [
      "5\n"
     ]
    }
   ],
   "source": [
    "public class Staircase {\n",
    "    public int countWays(int n) {\n",
    "        if (n == 0) {\n",
    "            return 1;\n",
    "        }\n",
    "        if (n < 0) {\n",
    "            return 0;\n",
    "        }\n",
    "        return countWays(n - 1) + countWays(n - 2);\n",
    "    }\n",
    "\n",
    "    public static void main(String[] args) {\n",
    "        Staircase staircase = new Staircase();\n",
    "        System.out.println(staircase.countWays(4)); // Output: 5\n",
    "    }\n",
    "}\n",
    "\n",
    "Staircase.main(null);"
   ]
  },
  {
   "cell_type": "markdown",
   "metadata": {},
   "source": [
    "## Part B: Trace Recursive Calls\n",
    "\n",
    "Trace the recursive calls for the method countWays with input 3. Show how the recursion reaches the base case and unwinds."
   ]
  },
  {
   "cell_type": "markdown",
   "metadata": {},
   "source": [
    "### Steps Breakdown:\n",
    "1. **countWays(3)** = countWays(2) + countWays(1)\n",
    "   - **countWays(2)** = countWays(1) + countWays(0)\n",
    "     - **countWays(1)** = countWays(0) + countWays(-1)\n",
    "       - **countWays(0)** → 1\n",
    "       - **countWays(-1)** → 0\n",
    "     - **countWays(1)** = 1 + 0 = 1\n",
    "     - **countWays(0)** → 1\n",
    "     - **countWays(2)** = 1 + 1 = 2\n",
    "   - **countWays(1)** = countWays(0) + countWays(-1)\n",
    "     - **countWays(0)** → 1\n",
    "     - **countWays(-1)** → 0\n",
    "     - **countWays(1)** = 1 + 0 = 1\n",
    "   - **countWays(3)** = 2 + 1 = 3\n",
    "\n",
    "### Final Result:\n",
    "The total number of ways to climb a staircase with 3 steps is **3**."
   ]
  }
 ],
 "metadata": {
  "kernelspec": {
   "display_name": "java (IJava/j!)",
   "language": "java",
   "name": "jbang-ijava"
  },
  "language_info": {
   "codemirror_mode": "java",
   "file_extension": ".jshell",
   "mimetype": "text/x-java-source",
   "name": "Java",
   "pygments_lexer": "java",
   "version": "22.0.2+9-70"
  }
 },
 "nbformat": 4,
 "nbformat_minor": 2
}
