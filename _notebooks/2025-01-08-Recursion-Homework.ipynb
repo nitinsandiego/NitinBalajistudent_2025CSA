{
 "cells": [
  {
   "cell_type": "markdown",
   "metadata": {},
   "source": [
    "---\n",
    "toc: false\n",
    "layout: post\n",
    "title: Recursion Homework\n",
    "type: ccc\n",
    "courses: {csa: {week: 16}}\n",
    "---"
   ]
  },
  {
   "cell_type": "markdown",
   "metadata": {},
   "source": [
    "## Part A: Count Ways to Climb Stairs\n",
    "\n",
    "Write a recursive method countWays that calculates the total number of ways the person can climb a staircase with n steps."
   ]
  },
  {
   "cell_type": "code",
   "execution_count": 6,
   "metadata": {
    "vscode": {
     "languageId": "java"
    }
   },
   "outputs": [
    {
     "name": "stdout",
     "output_type": "stream",
     "text": [
      "5\n"
     ]
    }
   ],
   "source": [
    "public class Staircase {\n",
    "    public int countWays(int n) {\n",
    "        if (n == 0) {\n",
    "            return 1;\n",
    "        }\n",
    "        if (n < 0) {\n",
    "            return 0;\n",
    "        }\n",
    "        return countWays(n - 1) + countWays(n - 2);\n",
    "    }\n",
    "\n",
    "    public static void main(String[] args) {\n",
    "        Staircase staircase = new Staircase();\n",
    "        System.out.println(staircase.countWays(4)); // Output: 5\n",
    "    }\n",
    "}\n",
    "\n",
    "Staircase.main(null);"
   ]
  },
  {
   "cell_type": "markdown",
   "metadata": {},
   "source": [
    "## Part B: Trace Recursive Calls\n",
    "\n",
    "Trace the recursive calls for the method countWays with input 3. Show how the recursion reaches the base case and unwinds."
   ]
  },
  {
   "cell_type": "markdown",
   "metadata": {},
   "source": [
    "### Steps Breakdown:\n",
    "1. **countWays(3)** = countWays(2) + countWays(1)\n",
    "   - **countWays(2)** = countWays(1) + countWays(0)\n",
    "     - **countWays(1)** = countWays(0) + countWays(-1)\n",
    "       - **countWays(0)** → 1\n",
    "       - **countWays(-1)** → 0\n",
    "     - **countWays(1)** = 1 + 0 = 1\n",
    "     - **countWays(0)** → 1\n",
    "     - **countWays(2)** = 1 + 1 = 2\n",
    "   - **countWays(1)** = countWays(0) + countWays(-1)\n",
    "     - **countWays(0)** → 1\n",
    "     - **countWays(-1)** → 0\n",
    "     - **countWays(1)** = 1 + 0 = 1\n",
    "   - **countWays(3)** = 2 + 1 = 3\n",
    "\n",
    "### Final Result:\n",
    "The total number of ways to climb a staircase with 3 steps is **3**."
   ]
  },
  {
   "cell_type": "markdown",
   "metadata": {},
   "source": [
    "## Part C: Modify for Variable Steps\n",
    "\n",
    "Write a method countWaysVariableSteps that calculates the total number of ways the person can climb a staircase with n steps using the allowed step sizes."
   ]
  },
  {
   "cell_type": "code",
   "execution_count": 7,
   "metadata": {
    "vscode": {
     "languageId": "java"
    }
   },
   "outputs": [
    {
     "name": "stdout",
     "output_type": "stream",
     "text": [
      "5\n"
     ]
    }
   ],
   "source": [
    "public class Staircase {\n",
    "    public int countWaysVariableSteps(int n, int[] steps) {\n",
    "        if (n == 0) {\n",
    "            return 1;\n",
    "        }\n",
    "        if (n < 0) {\n",
    "            return 0;\n",
    "        }\n",
    "\n",
    "        int totalWays = 0;\n",
    "        for (int step : steps) {\n",
    "            totalWays += countWaysVariableSteps(n - step, steps);\n",
    "        }\n",
    "\n",
    "        return totalWays;\n",
    "    }\n",
    "\n",
    "    public static void main(String[] args) {\n",
    "        Staircase staircase = new Staircase();\n",
    "        int[] steps = {1, 3, 5};\n",
    "        System.out.println(staircase.countWaysVariableSteps(5, steps));\n",
    "    }\n",
    "}\n",
    "Staircase.main(null);"
   ]
  },
  {
   "cell_type": "markdown",
   "metadata": {},
   "source": [
    "## Part D: Analyze Complexity\n",
    "\n",
    "1. Explain the time complexity of the original countWays method in terms of n without memoization.\n",
    "2. Suggest an optimization to improve the performance using memoization. Write the modified method signature and explain how it avoids redundant calls."
   ]
  },
  {
   "cell_type": "markdown",
   "metadata": {
    "vscode": {
     "languageId": "java"
    }
   },
   "source": [
    "1. The original countWays method is a straightforward recursive solution with exponential time complexity:\n",
    "\n",
    "Exponential Time Complexity:  `O(2^n)` \n",
    "- At each step, the method branches into two recursive calls: `countWays(n-1)`  and `countWays(n-2)` .\n",
    "- This creates a binary recursion tree with a height of  n , leading to  2^n  total calls in the worst case.\n",
    "- Many subproblems are recomputed multiple times (e.g., `countWays(1)` and `countWays(0)`).\n",
    "\n",
    "2. Memoization stores the results of subproblems in a table (e.g., an array or a hash map) to avoid redundant calculations.\n",
    "\n",
    "Benefits of Memoization\n",
    "- Avoids redundant calls by reusing results from previous calculations.\n",
    "- Reduces the time complexity to  `O(n)` , as each subproblem is solved only once."
   ]
  },
  {
   "cell_type": "code",
   "execution_count": 8,
   "metadata": {
    "vscode": {
     "languageId": "java"
    }
   },
   "outputs": [
    {
     "name": "stdout",
     "output_type": "stream",
     "text": [
      "5\n"
     ]
    }
   ],
   "source": [
    "public class Staircase {\n",
    "    public int countWaysMemo(int n) {\n",
    "        int[] memo = new int[n + 1];\n",
    "        for (int i = 0; i <= n; i++) {\n",
    "            memo[i] = -1;\n",
    "        }\n",
    "        return countWaysHelper(n, memo);\n",
    "    }\n",
    "\n",
    "    private int countWaysHelper(int n, int[] memo) {\n",
    "        if (n == 0) {\n",
    "            return 1;\n",
    "        }\n",
    "        if (n < 0) {\n",
    "            return 0;\n",
    "        }\n",
    "\n",
    "        if (memo[n] != -1) {\n",
    "            return memo[n];\n",
    "        }\n",
    "\n",
    "        memo[n] = countWaysHelper(n - 1, memo) + countWaysHelper(n - 2, memo);\n",
    "        return memo[n];\n",
    "    }\n",
    "\n",
    "    public static void main(String[] args) {\n",
    "        Staircase staircase = new Staircase();\n",
    "        System.out.println(staircase.countWaysMemo(4));\n",
    "    }\n",
    "}\n",
    "Staircase.main(null);"
   ]
  },
  {
   "cell_type": "markdown",
   "metadata": {},
   "source": [
    "- Recursive Logic:\n",
    "    - Before computing `countWays(n)`, the method checks if `memo[n]` has already been calculated. If so, it directly returns the stored result.\n",
    "\n",
    "- Space Optimization:\n",
    "    - This approach only uses an array and avoids the overhead of a hashmap.\n",
    "\n",
    "- Time Complexity: `O(n) `\n",
    "    - Each subproblem is computed only once.\n",
    "\n",
    "- Space Complexity: `O(n)` \n",
    "    - Space is required for the memoization array and the recursion stack."
   ]
  },
  {
   "cell_type": "markdown",
   "metadata": {},
   "source": [
    "## MC Answers\n",
    "\n",
    "1. **D** because the recursive calls multiply 12 repeatedly for `equation(6) = 144`, `equation (7) = 1728`, and ultimately `equation(8) = 144 × 1728`."
   ]
  },
  {
   "cell_type": "code",
   "execution_count": 11,
   "metadata": {
    "vscode": {
     "languageId": "java"
    }
   },
   "outputs": [
    {
     "name": "stdout",
     "output_type": "stream",
     "text": [
      "248832\n"
     ]
    }
   ],
   "source": [
    "public static void main(String[] args) {\n",
    "    System.out.println(equation(8));\n",
    "}\n",
    "\n",
    "public static int equation(int a) {\n",
    "    if (a <= 5) {\n",
    "        return 12;\n",
    "    }\n",
    "    return equation(a - 2) * equation(a - 1); \n",
    "}\n",
    "main(null);"
   ]
  },
  {
   "cell_type": "markdown",
   "metadata": {
    "vscode": {
     "languageId": "java"
    }
   },
   "source": [
    "2. `A` because the recursion starts by checking the first character of the string. If it’s an alphabetic character, it modifies the case (uppercase to lowercase and vice versa), then recursively calls the method on the rest of the string (excluding the first character). If the character is non-alphabetic, it simply skips that character and recursively processes the next one, continuing until the entire string is processed."
   ]
  },
  {
   "cell_type": "code",
   "execution_count": 12,
   "metadata": {
    "vscode": {
     "languageId": "java"
    }
   },
   "outputs": [
    {
     "name": "stdout",
     "output_type": "stream",
     "text": [
      "tHISISMYFAVORITEyAYFORPROGRAMMING\n"
     ]
    }
   ],
   "source": [
    "public static void main(String[] args) {\n",
    "    System.out.println(foo(\"This is my favorite: Yay for programming!!!\"));\n",
    "}\n",
    "\n",
    "public static String foo(String s) {\n",
    "    if (!s.equals(\"\")) { // Continue until the string is empty\n",
    "        char c = s.charAt(0); // Take the first character\n",
    "\n",
    "        if (c >= 'A' && c <= 'Z') { // If uppercase letter\n",
    "            return Character.toLowerCase(c) + foo(s.substring(1));\n",
    "        } else if (c >= 'a' && c <= 'z') { // If lowercase letter\n",
    "            return Character.toUpperCase(c) + foo(s.substring(1));\n",
    "        }\n",
    "        return foo(s.substring(1)); // Ignore non-alphabetic characters\n",
    "    }\n",
    "    return \"\"; // Base case: empty string\n",
    "}\n",
    "main(null);"
   ]
  },
  {
   "cell_type": "markdown",
   "metadata": {},
   "source": [
    "3. B. because the base case in a recursive function is the condition that halts the recursion by returning a value, preventing it from calling itself indefinitely."
   ]
  },
  {
   "cell_type": "markdown",
   "metadata": {},
   "source": [
    "## Extra Game using recurssion\n",
    "\n",
    "This is a Formula 1 based game with recurssion logic. I made it to practice my recursion skills and to continue my practice."
   ]
  },
  {
   "cell_type": "code",
   "execution_count": 15,
   "metadata": {
    "vscode": {
     "languageId": "java"
    }
   },
   "outputs": [
    {
     "name": "stdout",
     "output_type": "stream",
     "text": [
      "Welcome to the Enhanced Formula 1 Recursion Game!\n",
      "Enter the number of cars: Enter the number of steps to finish the race: Car 1 is racing...\n",
      "Car 1 had a pit stop! Losing 2 steps.\n",
      "Car 1 hit an obstacle! Moving back 1 step.\n",
      "Car 1 hit an obstacle! Moving back 1 step.\n",
      "Car 1 hit an obstacle! Moving back 1 step.\n",
      "Car 1 got a boost! Moving forward 3 steps.\n",
      "Car 1 got a boost! Moving forward 3 steps.\n",
      "Car 1 is at position: 2\n",
      "Car 1 had a pit stop! Losing 2 steps.\n",
      "Car 1 is at position: 1\n",
      "Car 1 is at position: 2\n",
      "Car 1 got a boost! Moving forward 3 steps.\n",
      "Car 1 has crossed the finish line!\n",
      "\n",
      "Car 2 is racing...\n",
      "Car 2 hit an obstacle! Moving back 1 step.\n",
      "Car 2 got a boost! Moving forward 3 steps.\n",
      "Car 2 had a pit stop! Losing 2 steps.\n",
      "Car 2 got a boost! Moving forward 3 steps.\n",
      "Car 2 had a pit stop! Losing 2 steps.\n",
      "Car 2 is at position: 2\n",
      "Car 2 had a pit stop! Losing 2 steps.\n",
      "Car 2 hit an obstacle! Moving back 1 step.\n",
      "Car 2 is at position: 0\n",
      "Car 2 hit an obstacle! Moving back 1 step.\n",
      "Car 2 is at position: 0\n",
      "Car 2 had a pit stop! Losing 2 steps.\n",
      "Car 2 is at position: -1\n",
      "Car 2 hit an obstacle! Moving back 1 step.\n",
      "Car 2 is at position: -1\n",
      "Car 2 is at position: 0\n",
      "Car 2 had a pit stop! Losing 2 steps.\n",
      "Car 2 got a boost! Moving forward 3 steps.\n",
      "Car 2 hit an obstacle! Moving back 1 step.\n",
      "Car 2 got a boost! Moving forward 3 steps.\n",
      "Car 2 got a boost! Moving forward 3 steps.\n",
      "Car 2 has crossed the finish line!\n",
      "\n",
      "Car 3 is racing...\n",
      "Car 3 got a boost! Moving forward 3 steps.\n",
      "Car 3 hit an obstacle! Moving back 1 step.\n",
      "Car 3 got a boost! Moving forward 3 steps.\n",
      "Car 3 has crossed the finish line!\n",
      "\n",
      "Car 4 is racing...\n",
      "Car 4 is at position: 1\n",
      "Car 4 hit an obstacle! Moving back 1 step.\n",
      "Car 4 had a pit stop! Losing 2 steps.\n",
      "Car 4 hit an obstacle! Moving back 1 step.\n",
      "Car 4 is at position: -2\n",
      "Car 4 is at position: -1\n",
      "Car 4 hit an obstacle! Moving back 1 step.\n",
      "Car 4 had a pit stop! Losing 2 steps.\n",
      "Car 4 got a boost! Moving forward 3 steps.\n",
      "Car 4 had a pit stop! Losing 2 steps.\n",
      "Car 4 had a pit stop! Losing 2 steps.\n",
      "Car 4 is at position: -4\n",
      "Car 4 had a pit stop! Losing 2 steps.\n",
      "Car 4 is at position: -5\n",
      "Car 4 hit an obstacle! Moving back 1 step.\n",
      "Car 4 got a boost! Moving forward 3 steps.\n",
      "Car 4 got a boost! Moving forward 3 steps.\n",
      "Car 4 had a pit stop! Losing 2 steps.\n",
      "Car 4 hit an obstacle! Moving back 1 step.\n",
      "Car 4 got a boost! Moving forward 3 steps.\n",
      "Car 4 is at position: 1\n",
      "Car 4 hit an obstacle! Moving back 1 step.\n",
      "Car 4 hit an obstacle! Moving back 1 step.\n",
      "Car 4 hit an obstacle! Moving back 1 step.\n",
      "Car 4 hit an obstacle! Moving back 1 step.\n",
      "Car 4 got a boost! Moving forward 3 steps.\n",
      "Car 4 got a boost! Moving forward 3 steps.\n",
      "Car 4 is at position: 4\n",
      "Car 4 is at position: 5\n",
      "Car 4 has crossed the finish line!\n",
      "\n",
      "Car 5 is racing...\n",
      "Car 5 is at position: 1\n",
      "Car 5 hit an obstacle! Moving back 1 step.\n",
      "Car 5 hit an obstacle! Moving back 1 step.\n",
      "Car 5 got a boost! Moving forward 3 steps.\n",
      "Car 5 is at position: 3\n",
      "Car 5 got a boost! Moving forward 3 steps.\n",
      "Car 5 has crossed the finish line!\n",
      "\n"
     ]
    }
   ],
   "source": [
    "import java.util.Random;\n",
    "import java.util.Scanner;\n",
    "\n",
    "public class F1RaceGame {\n",
    "\n",
    "    public static void main(String[] args) {\n",
    "        Scanner scanner = new Scanner(System.in);\n",
    "        \n",
    "        System.out.println(\"Welcome to the Enhanced Formula 1 Recursion Game!\");\n",
    "        \n",
    "        System.out.print(\"Enter the number of cars: \");\n",
    "        int numCars = scanner.nextInt();\n",
    "        \n",
    "        System.out.print(\"Enter the number of steps to finish the race: \");\n",
    "        int raceLength = scanner.nextInt();\n",
    "        \n",
    "        startRace(numCars, raceLength);\n",
    "    }\n",
    "\n",
    "    public static void startRace(int numCars, int raceLength) {\n",
    "        Random random = new Random();\n",
    "        String[] carNames = {\"Car 1\", \"Car 2\", \"Car 3\", \"Car 4\", \"Car 5\"};\n",
    "        \n",
    "        for (int i = 0; i < numCars; i++) {\n",
    "            int carPosition = 0;\n",
    "            System.out.println(carNames[i] + \" is racing...\");\n",
    "            race(carPosition, raceLength, carNames[i], random);\n",
    "            System.out.println();\n",
    "        }\n",
    "    }\n",
    "\n",
    "    public static void race(int carPosition, int raceLength, String carName, Random random) {\n",
    "        if (carPosition >= raceLength) {\n",
    "            System.out.println(carName + \" has crossed the finish line!\");\n",
    "            return;\n",
    "        }\n",
    "\n",
    "        int move = random.nextInt(4);\n",
    "\n",
    "        switch (move) {\n",
    "            case 1:\n",
    "                carPosition += 3;\n",
    "                System.out.println(carName + \" got a boost! Moving forward 3 steps.\");\n",
    "                break;\n",
    "            case 2:\n",
    "                carPosition -= 2;\n",
    "                System.out.println(carName + \" had a pit stop! Losing 2 steps.\");\n",
    "                break;\n",
    "            case 3:\n",
    "                carPosition -= 1;\n",
    "                System.out.println(carName + \" hit an obstacle! Moving back 1 step.\");\n",
    "                break;\n",
    "            default:\n",
    "                carPosition += 1;\n",
    "                System.out.println(carName + \" is at position: \" + carPosition);\n",
    "        }\n",
    "\n",
    "        race(carPosition, raceLength, carName, random);\n",
    "    }\n",
    "}\n",
    "F1RaceGame.main(null);"
   ]
  }
 ],
 "metadata": {
  "kernelspec": {
   "display_name": "java (IJava/j!)",
   "language": "java",
   "name": "jbang-ijava"
  },
  "language_info": {
   "codemirror_mode": "java",
   "file_extension": ".jshell",
   "mimetype": "text/x-java-source",
   "name": "Java",
   "pygments_lexer": "java",
   "version": "22.0.2+9-70"
  }
 },
 "nbformat": 4,
 "nbformat_minor": 2
}
