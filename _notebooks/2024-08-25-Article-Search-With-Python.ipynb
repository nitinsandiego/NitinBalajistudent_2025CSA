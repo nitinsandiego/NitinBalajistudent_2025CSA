{
 "cells": [
  {
   "cell_type": "markdown",
   "metadata": {},
   "source": [
    "---\n",
    "layout: post\n",
    "title: Article Search using Python \n",
    "description:  Article Search using Python \n",
    "comments: true\n",
    "toc: false\n",
    "courses: {csa: {week: 1}}\n",
    "type: collab\n",
    "---"
   ]
  },
  {
   "cell_type": "code",
   "execution_count": 3,
   "metadata": {},
   "outputs": [
    {
     "data": {
      "text/markdown": [
       "### 2024 Dutch Grand Prix race report and highlights: Lando Norris fights back against Max Verstappen to end home hero’s run of Dutch GP wins"
      ],
      "text/plain": [
       "<IPython.core.display.Markdown object>"
      ]
     },
     "metadata": {},
     "output_type": "display_data"
    },
    {
     "data": {
      "text/markdown": [
       "McLaren driver Lando Norris charged to a statement victory during the Dutch Grand Prix at Zandvoort, overhauling Max Verstappen after his Red Bull rival moved ahead at the start – and denying the Dutchman what would have been a fourth-straight home triumph.\n",
       "\n",
       "Norris lined up on pole position for Sunday’s race but his hopes of converting it into the win took a hit when Verstappen jumped him off the line and slotted ahead at the first corner, before moving clear and breaking free of the DRS window.\n",
       "\n",
       "However, Norris gathered himself to mount a fight back as the race developed, finding another level of pace – while Verstappen battled a mid-stint lack of grip – to close back in on the three-time world champion and reclaim a lead he would not relinquish.\n",
       "\n",
       "Norris only extended his advantage before and after the front-runners’ sole pit stops of the day, eventually taking the chequered flag some 20 seconds clear of Verstappen to add to his Miami win from earlier this season and cut the latter’s championship lead."
      ],
      "text/plain": [
       "<IPython.core.display.Markdown object>"
      ]
     },
     "metadata": {},
     "output_type": "display_data"
    },
    {
     "data": {
      "text/markdown": [
       "### Modified Content with Emojis"
      ],
      "text/plain": [
       "<IPython.core.display.Markdown object>"
      ]
     },
     "metadata": {},
     "output_type": "display_data"
    },
    {
     "data": {
      "text/markdown": [
       "McLaren driver Lando Norris 🇬🇧 charged to a statement victory 🏆 during the Dutch 🇳🇱 Grand Prix at Zandvoort, overhauling Max Verstappen after his Red Bull rival moved ahead at the start – and denying the Dutchman what would have been a fourth-straight home triumph. Norris 🇬🇧 lined up on pole position for Sunday’s race but his hopes of converting it into the win 🏆 took a hit when Verstappen jumped him off the line and slotted ahead at the first corner, before moving clear and breaking free of the DRS window. However, Norris 🇬🇧 gathered himself to mount a fight back as the race developed, finding another level of pace – while Verstappen battled a mid-stint lack of grip – to close back in on the three-time world champion and reclaim a lead he would not relinquish. Norris 🇬🇧 only extended his advantage before and after the front-runners’ sole pit stops of the day, eventually taking the chequered flag 🏁 some 20 seconds ⏱️ clear of Verstappen to add to his Miami win 🏆 from earlier this season and cut the latter’s championship lead."
      ],
      "text/plain": [
       "<IPython.core.display.Markdown object>"
      ]
     },
     "metadata": {},
     "output_type": "display_data"
    },
    {
     "name": "stdout",
     "output_type": "stream",
     "text": [
      "\n",
      "\n"
     ]
    },
    {
     "data": {
      "text/markdown": [
       "### Where to Buy the A Ma Maniére x Air Jordan 3 \"While You Were Sleeping\""
      ],
      "text/plain": [
       "<IPython.core.display.Markdown object>"
      ]
     },
     "metadata": {},
     "output_type": "display_data"
    },
    {
     "data": {
      "text/markdown": [
       "Continuing their streak of highly coveted collaborations, A Ma Maniére and Jordan Brand are poised to release a third version of the Air Jordan 3 in 2024, in a striking \"Black\" colorway.\n",
       "\n",
       "The A Ma Maniére x Air Jordan 3 \"Black\" is anticipated to drop alongside its \"Burgundy Crush\" counterpart in Fall 2024.\n",
       "\n",
       "The color specifications for this darker version are listed as Black/Black/Flat Pewter/Violet Ore, suggesting a sneaker that's both sleek and rich in detail.\n",
       "\n",
       "Speculative mock-ups propose a sneaker with a black-based upper, using a combination of luxurious materials that have become synonymous with A Ma Maniére's releases. Accents of Flat Pewter and Violet Ore are expected to provide a subtle yet impactful contrast, elevating the overall design.\n",
       "\n",
       "Originally listed for release on July 18th, one can expect this colorway to arrive at Whitaker Group locations on August 21st, 2024, followed by a rollout on Nike SNKRS on August 27."
      ],
      "text/plain": [
       "<IPython.core.display.Markdown object>"
      ]
     },
     "metadata": {},
     "output_type": "display_data"
    },
    {
     "data": {
      "text/markdown": [
       "### Modified Content with Emojis"
      ],
      "text/plain": [
       "<IPython.core.display.Markdown object>"
      ]
     },
     "metadata": {},
     "output_type": "display_data"
    },
    {
     "data": {
      "text/markdown": [
       "Continuing their streak 🔥 of highly coveted collaborations, A Ma Maniére and Jordan Brand are poised to release a third version of the Air Jordan 3 in 2024, in a striking \"Black\" colorway. 🎨 The A Ma Maniére x Air Jordan 3 \"Black\" is anticipated to drop alongside its \"Burgundy Crush\" counterpart in Fall 🍂 2024. The color specifications for this darker version are listed as Black/Black/Flat Pewter/Violet Ore, suggesting a sneaker 👟 that's both sleek and rich 💰 in detail. Speculative mock-ups propose a sneaker 👟 with a black-based upper, using a combination of luxurious materials that have become synonymous with A Ma Maniére's releases. Accents of Flat Pewter and Violet 🟣 Ore are expected to provide a subtle yet impactful contrast, elevating the overall design. 🎨 Originally listed for release on July 18th, one can expect this colorway 🎨 to arrive at Whitaker Group locations on August 21st, 2024, followed by a rollout on Nike SNKRS on August 27."
      ],
      "text/plain": [
       "<IPython.core.display.Markdown object>"
      ]
     },
     "metadata": {},
     "output_type": "display_data"
    },
    {
     "name": "stdout",
     "output_type": "stream",
     "text": [
      "\n",
      "\n"
     ]
    }
   ],
   "source": [
    "from newspaper import Article\n",
    "from IPython.display import display, Markdown\n",
    "\n",
    "def add_emoji_to_text(text):\n",
    "    emoji_dict = {\n",
    "        \"happy\": \"😊\",\n",
    "        \"sad\": \"😢\",\n",
    "        \"love\": \"❤️\",\n",
    "        \"angry\": \"😠\",\n",
    "        \"excited\": \"😃\",\n",
    "        \"surprised\": \"😮\",\n",
    "        \"victory\": \"🏆\",\n",
    "        \"fire\": \"🔥\",\n",
    "        \"warning\": \"⚠️\",\n",
    "        \"science\": \"🔬\",\n",
    "        \"streak\": \"🔥\",\n",
    "        \"win\": \"🏆\",\n",
    "        \"victory\": \"🏆\",\n",
    "        \"defeat\": \"😢\",\n",
    "        \"seconds\": \"⏱️\",\n",
    "        \"minutes\": \"⏱️\",\n",
    "        \"dutch\": \"🇳🇱\",\n",
    "        \"norris\": \"🇬🇧\",\n",
    "        \"netherlands\": \"🇳🇱\",\n",
    "        \"flag\": \"🏁\",\n",
    "        \"black\": \"⚫\",\n",
    "        \"sneaker\": \"👟\",\n",
    "        \"shoe\": \"👟\",\n",
    "        \"violet\": \"🟣\",\n",
    "        \"rich\": \"💰\",\n",
    "        \"fall\": \"🍂\",\n",
    "        \"design\": \"🎨\",\n",
    "        \"colorway\": \"🎨\"\n",
    "    }\n",
    "    \n",
    "    words = text.split()\n",
    "    \n",
    "    new_words = []\n",
    "    \n",
    "    for word in words:\n",
    "        lower_word = word.lower().strip(\",.!\")\n",
    "        if lower_word in emoji_dict:\n",
    "            new_word = word + \" \" + emoji_dict[lower_word]\n",
    "        else:\n",
    "            new_word = word\n",
    "        new_words.append(new_word)\n",
    "    \n",
    "    modified_text = \" \".join(new_words)\n",
    "    \n",
    "    return modified_text\n",
    "\n",
    "urls = [\n",
    "    \"https://www.formula1.com/en/latest/article/norris-fights-back-against-verstappen-to-end-home-heros-run-of-dutch-gp-wins.3IPKJnhPnBEjWGAfrGeZQo\",\n",
    "    \"https://houseofheat.co/jordan/a-ma-maniere-air-jordan-3-black-fz4811-001\"\n",
    "]\n",
    "\n",
    "for url in urls:\n",
    "    article = Article(url)\n",
    "    article.download()\n",
    "    article.parse()\n",
    "    \n",
    "    display(Markdown(f\"### {article.title}\"))\n",
    "    display(Markdown(article.text))\n",
    "    \n",
    "    emoji_text = add_emoji_to_text(article.text)\n",
    "    \n",
    "    display(Markdown(\"### Modified Content with Emojis\"))\n",
    "    display(Markdown(emoji_text))\n",
    "    \n",
    "    print(\"\\n\")"
   ]
  }
 ],
 "metadata": {
  "kernelspec": {
   "display_name": "venv",
   "language": "python",
   "name": "python3"
  },
  "language_info": {
   "codemirror_mode": {
    "name": "ipython",
    "version": 3
   },
   "file_extension": ".py",
   "mimetype": "text/x-python",
   "name": "python",
   "nbconvert_exporter": "python",
   "pygments_lexer": "ipython3",
   "version": "3.11.7"
  }
 },
 "nbformat": 4,
 "nbformat_minor": 2
}
