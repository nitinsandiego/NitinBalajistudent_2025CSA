{
 "cells": [
  {
   "cell_type": "markdown",
   "metadata": {
    "vscode": {
     "languageId": "plaintext"
    }
   },
   "source": [
    "---\n",
    "toc: false\n",
    "layout: post\n",
    "title: Classes FRQ Homework\n",
    "type: ccc\n",
    "courses: {csa: {week: 17}}\n",
    "---"
   ]
  },
  {
   "cell_type": "code",
   "execution_count": null,
   "metadata": {
    "vscode": {
     "languageId": "java"
    }
   },
   "outputs": [],
   "source": [
    "public class CombinedTabel {\n",
    "    // Declare two private instance variables to hold references to the SingleTable objects\n",
    "    private SingleTable table1;\n",
    "    private SingleTable table2;\n",
    "\n",
    "    // Constructor to initialize the two SingleTable objects\n",
    "    public CombinedTable(SingleTable table1, SingleTable table2) {\n",
    "        this.table1 = table1;\n",
    "        this.table2 = table2;\n",
    "    }\n",
    "\n",
    "    // Method to check if the combined tables can seat the specified number of people\n",
    "    public boolean canSeat(int num) {\n",
    "        // Get the total number of seats from both tables, subtracting 2\n",
    "        int numOfSeats = table1.getNumSeats() + table2.getNumSeats() - 2;\n",
    "        // Return true if the combined seats can accommodate the specified number of people, otherwise false\n",
    "        if (numOfSeats >= num) {\n",
    "            return true;\n",
    "        } else {\n",
    "            return false;\n",
    "        }\n",
    "    }\n",
    "\n",
    "    // Method to calculate the desirability of the combined tables based on their view qualities\n",
    "    public int getDesirability() {\n",
    "        // Check if both tables have the same height\n",
    "        if (table1.getHeight() == table2.getHeight()) {\n",
    "            // If heights are equal, compute the average view quality\n",
    "            int returnValue = (table1.getViewQuality() + table2.getViewQuality()) / 2;\n",
    "            return returnValue;\n",
    "        } else {\n",
    "            // If heights are not equal, compute the average view quality and subtract 10\n",
    "            int returnValue = ((table1.getViewQuality() + table2.getViewQuality()) / 2) - 10;\n",
    "            return returnValue;\n",
    "        }\n",
    "    }\n",
    "}"
   ]
  },
  {
   "cell_type": "markdown",
   "metadata": {},
   "source": [
    "# Scoring Guidelines\n",
    "\n",
    "### Declares class header:\n",
    "- Class header is correctly declared as public class CombinedTable\n",
    "\n",
    "Point: ✅ (1 point)\n",
    "\n",
    "### Declares appropriate private instance variables:\n",
    "- I have correctly marked table1 and table2 as private.\n",
    "\n",
    "Point: ✅ (1 point)\n",
    "\n",
    "### Constructor initializes instance variables using parameters:\n",
    "- The constructor correctly initializes the instance variables.\n",
    "\n",
    "Point: ✅ (1 point)\n",
    "\n",
    "### Declares header for canSeat method:\n",
    "- The header is correctly declared as public boolean canSeat(int num).\n",
    "\n",
    "Point: ✅ (1 point)\n",
    "\n",
    "### Calls getNumSeats on a SingleTable object:\n",
    "- I correctly call getNumSeats() on both table1 and table2.\n",
    "\n",
    "Point: ✅ (1 point)\n",
    "\n",
    "### canSeat(n) returns true if and only if sum of seats of two tables - 2 >= n:\n",
    "- The condition in canSeat() correctly checks if the sum of seats (with 2 subtracted) is greater than or equal to num.\n",
    "\n",
    "Point: ✅ (1 point)\n",
    "\n",
    "### Declares header for getDesirability method:\n",
    "- The header is correctly declared as public int getDesirability().\n",
    "\n",
    "Point: ✅ (1 point)\n",
    "\n",
    "### Calls getHeight and getViewQuality on SingleTable objects:\n",
    "- I correctly call getHeight() and getViewQuality() on table1 and table2.\n",
    "\n",
    "Point: ✅ (1 point)\n",
    "\n",
    "### getDesirability computes average of constituent tables’ view desirabilities:\n",
    "- The logic to compute the average of getViewQuality() is correct. \n",
    "\n",
    "Point: ✅ (1 point)\n",
    "\n",
    "### Summary of Scoring:\n",
    "- Point 1: ✅\n",
    "- Point 2: ✅\n",
    "- Point 3: ✅\n",
    "- Point 4: ✅\n",
    "- Point 5: ✅\n",
    "- Point 6: ✅\n",
    "- Point 7: ✅\n",
    "- Point 8: ✅\n",
    "- Point 9: ✅\n",
    "\n",
    "### Total Points: 9/9\n",
    "\n",
    "# Reflection\n",
    "\n",
    "This question was pretty straightforward. The only thing that I had to be careful about was the logic in the canSeat method. I had to make sure that I was subtracting 2 from the sum of the seats of the two tables before comparing it with the number of people that needed to be seated. The also kind of tricky bit was calculating the average of the view qualities of the two tables. I had to make sure that I was dividing by 2 and for when it wasn't the same height, I had make sure I remebered to subtract 10. Overall, this question was pretty easy."
   ]
  }
 ],
 "metadata": {
  "language_info": {
   "name": "python"
  }
 },
 "nbformat": 4,
 "nbformat_minor": 2
}
