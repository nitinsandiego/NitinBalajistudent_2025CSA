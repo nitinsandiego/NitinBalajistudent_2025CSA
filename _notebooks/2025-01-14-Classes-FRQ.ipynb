{
 "cells": [
  {
   "cell_type": "markdown",
   "metadata": {
    "vscode": {
     "languageId": "plaintext"
    }
   },
   "source": [
    "---\n",
    "toc: false\n",
    "layout: post\n",
    "title: Classes FRQ Homework\n",
    "type: ccc\n",
    "courses: {csa: {week: 17}}\n",
    "---"
   ]
  }
 ],
 "metadata": {
  "language_info": {
   "name": "python"
  }
 },
 "nbformat": 4,
 "nbformat_minor": 2
}
