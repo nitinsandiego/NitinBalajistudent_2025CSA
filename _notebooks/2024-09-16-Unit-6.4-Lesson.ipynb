{
 "cells": [
  {
   "cell_type": "markdown",
   "metadata": {},
   "source": [
    "---\n",
    "layout: post\n",
    "title: Unit 6.4 Lesson\n",
    "type: collab \n",
    "toc: true\n",
    "courses: {csa: {week: 4}}\n",
    "permalink: /csa/unit6/6.4/\n",
    "---"
   ]
  },
  {
   "cell_type": "markdown",
   "metadata": {},
   "source": [
    "### Array:\n",
    "Imagine a row of lockers, where each locker is labeled with an index, and inside each locker is a value.\n",
    "\n",
    "### Index:\n",
    "The number above each locker that helps you find the exact item you're looking for.\n",
    "\n",
    "### Accessing:\n",
    "Walk up to the locker, open it, and see what’s inside.\n",
    "\n",
    "### Updating:\n",
    "Replace the item in the locker with a new one.\n",
    "\n",
    "### Dynamic Growth:\n",
    "New lockers can be added to the end of the row if more space is needed.\n",
    "\n",
    "### Looping:\n",
    "Walking down the row, opening each locker one by one, and looking inside.\n",
    "\n",
    "### Multi-dimensional arrays:\n",
    "Rows and columns of lockers in a grid, where you access items by specifying both the row and column.\n",
    "\n",
    "### Empty lockers:\n",
    "Sometimes a locker is there, but it’s empty, representing null or undefined.\n"
   ]
  },
  {
   "cell_type": "code",
   "execution_count": 23,
   "metadata": {},
   "outputs": [
    {
     "name": "stdout",
     "output_type": "stream",
     "text": [
      "Maximum value: 12\n",
      "Minimum value: -1\n"
     ]
    }
   ],
   "source": [
    "public class MaxMinInArray {\n",
    "\n",
    "    public static void findMaxAndMin(int[] array) {\n",
    "       \n",
    "        if (array == null || array.length == 0) {\n",
    "            System.out.println(\"Array is empty\");\n",
    "            return;\n",
    "        }\n",
    "\n",
    "        int max = array[0];\n",
    "        int min = array[0];\n",
    "\n",
    "        \n",
    "        for (int i = 1; i < array.length; i++) {\n",
    "            \n",
    "            if (array[i] > max) {\n",
    "                max = array[i];  \n",
    "            }\n",
    "            if (array[i] < min) {\n",
    "                min = array[i];  \n",
    "            }\n",
    "        }\n",
    "\n",
    "        System.out.println(\"Maximum value: \" + max);\n",
    "        System.out.println(\"Minimum value: \" + min);\n",
    "    }\n",
    "\n",
    "    public static void main(String[] args) {\n",
    "     \n",
    "        int[] array = {3, 5, 7, 2, 8, -1, 4, 10, 12};\n",
    "\n",
    "        \n",
    "        findMaxAndMin(array);\n",
    "    }\n",
    "}\n",
    "MaxMinInArray.main(null)"
   ]
  },
  {
   "cell_type": "markdown",
   "metadata": {},
   "source": [
    "\n",
    "<html lang=\"en\">\n",
    "<head>\n",
    "    <meta charset=\"UTF-8\">\n",
    "    <meta name=\"viewport\" content=\"width=device-width, initial-scale=1.0\">\n",
    "    <title>How to Improve Code</title>\n",
    "</head>\n",
    "<body>\n",
    "    <h1>Improving Code</h1>\n",
    "    <p><strong>How can I make this code better?</strong></p>\n",
    "</body>\n",
    "</html>\n"
   ]
  },
  {
   "cell_type": "code",
   "execution_count": 22,
   "metadata": {},
   "outputs": [
    {
     "name": "stdout",
     "output_type": "stream",
     "text": [
      "Maximum value: 12\n",
      "Minimum value: -1\n"
     ]
    }
   ],
   "source": [
    "\n",
    "public class MaxMinInArray {\n",
    "\n",
    "    public static void findMaxAndMin(int[] array) {\n",
    "\n",
    "        if (array == null || array.length == 0) {\n",
    "            System.out.println(\"Array is empty\");\n",
    "            return;\n",
    "        }\n",
    "\n",
    "        int max, min;\n",
    "        int startIndex;\n",
    "\n",
    "        \n",
    "        if (array.length % 2 == 0) {\n",
    "            \n",
    "            if (array[0] > array[1]) {\n",
    "                max = array[0];\n",
    "                min = array[1];\n",
    "            } else {\n",
    "                max = array[1];\n",
    "                min = array[0];\n",
    "            }\n",
    "            startIndex = 2; \n",
    "        } else {\n",
    "            \n",
    "            max = min = array[0];\n",
    "            startIndex = 1; \n",
    "        }\n",
    "\n",
    "        \n",
    "        for (int i = startIndex; i < array.length - 1; i += 2) {\n",
    "            int localMax, localMin;\n",
    "\n",
    "            \n",
    "            if (array[i] > array[i + 1]) {\n",
    "                localMax = array[i];\n",
    "                localMin = array[i + 1];\n",
    "            } else {\n",
    "                localMax = array[i + 1];\n",
    "                localMin = array[i];\n",
    "            }\n",
    "\n",
    "            \n",
    "            if (localMax > max) {\n",
    "                max = localMax;\n",
    "            }\n",
    "            if (localMin < min) {\n",
    "                min = localMin;\n",
    "            }\n",
    "        }\n",
    "\n",
    "        System.out.println(\"Maximum value: \" + max);\n",
    "        System.out.println(\"Minimum value: \" + min);\n",
    "    }\n",
    "\n",
    "    public static void main(String[] args) {\n",
    "\n",
    "        int[] array = {3, 5, 7, 2, 8, -1, 4, 10, 12};\n",
    "\n",
    "        findMaxAndMin(array);\n",
    "    }\n",
    "}\n",
    "MaxMinInArray.main(null)"
   ]
  },
  {
   "cell_type": "code",
   "execution_count": 20,
   "metadata": {},
   "outputs": [
    {
     "name": "stdout",
     "output_type": "stream",
     "text": [
      "Average (Normal For Loop): 25.6\n"
     ]
    }
   ],
   "source": [
    "\n",
    "\n",
    "public class AverageCalculator {\n",
    "\n",
    "    public static double calculateAverageNormalFor(double[] array) {\n",
    "        double sum = 0;\n",
    "        \n",
    "        \n",
    "        for (int i = 0; i < array.length; i++) {\n",
    "            sum += array[i];  \n",
    "        }\n",
    "        \n",
    "       \n",
    "        return sum / array.length;\n",
    "    }\n",
    "\n",
    "    public static void main(String[] args) {\n",
    "        double[] values = {10.5, 20.3, 30.7, 40.9};\n",
    "        System.out.println(\"Average (Normal For Loop): \" + calculateAverageNormalFor(values));\n",
    "    }\n",
    "}\n",
    "AverageCalculator.main(null)\n",
    "\n"
   ]
  },
  {
   "cell_type": "code",
   "execution_count": 27,
   "metadata": {},
   "outputs": [
    {
     "name": "stdout",
     "output_type": "stream",
     "text": [
      "Average (Enhanced For Loop): 25.6\n"
     ]
    }
   ],
   "source": [
    "\n",
    "public class AverageCalculator1 {\n",
    "\n",
    "    public static double calculateAverageEnhancedFor(double[] array) {\n",
    "        double sum = 0;\n",
    " \n",
    "        for (double value : array) {\n",
    "            sum += value;\n",
    "        }\n",
    "        return sum / array.length;\n",
    "    }\n",
    "    public static void main(String[] args) {\n",
    "        double[] values = {10.5, 20.3, 30.7, 40.9};\n",
    "        System.out.println(\"Average (Enhanced For Loop): \" + calculateAverageEnhancedFor(values));\n",
    "    }\n",
    "}\n",
    "AverageCalculator1.main(null)"
   ]
  },
  {
   "cell_type": "code",
   "execution_count": 28,
   "metadata": {},
   "outputs": [
    {
     "name": "stdout",
     "output_type": "stream",
     "text": [
      "3 4 5 1 2 "
     ]
    }
   ],
   "source": [
    "public class ArrayShifter {\n",
    "\n",
    "    public static void main(String[] args) {\n",
    "        int[] numbers = {1, 2, 3, 4, 5};\n",
    "        \n",
    "        int[] shifted = new int[numbers.length];\n",
    "        \n",
    "        int shift = 8;\n",
    "        \n",
    "        for (int index = 0; index < numbers.length; index++) {\n",
    "            shifted[Math.abs((index + shift) % numbers.length)] = numbers[index];\n",
    "        }\n",
    "        numbers = shifted;\n",
    "        for (int num : numbers) {\n",
    "            System.out.print(num + \" \");\n",
    "        }\n",
    "    }\n",
    "}\n",
    "ArrayShifter.main(null)\n"
   ]
  },
  {
   "cell_type": "code",
   "execution_count": 29,
   "metadata": {},
   "outputs": [
    {
     "name": "stdout",
     "output_type": "stream",
     "text": [
      "gamma delta alpha beta "
     ]
    }
   ],
   "source": [
    "public class WordShifter {  \n",
    "    public static void main(String[] args) {\n",
    "        String[] words = {\"alpha\", \"beta\", \"gamma\", \"delta\"};\n",
    "        int shiftWord = 2;\n",
    "        for (int count = 0; count < shiftWord; count++) {\n",
    "            String temp = words[0];\n",
    "            for (int index = 0; index < words.length - 1; index++) {\n",
    "                words[index] = words[index + 1];\n",
    "            }\n",
    "            words[words.length - 1] = temp;\n",
    "        }\n",
    "        for (String word : words) {\n",
    "            System.out.print(word + \" \");\n",
    "        }\n",
    "    }\n",
    "}\n",
    "WordShifter.main(null)"
   ]
  }
 ],
 "metadata": {
  "kernelspec": {
   "display_name": "java (IJava/j!)",
   "language": "java",
   "name": "jbang-ijava"
  },
  "language_info": {
   "codemirror_mode": "java",
   "file_extension": ".jshell",
   "mimetype": "text/x-java-source",
   "name": "java",
   "pygments_lexer": "java",
   "version": "17.0.12+7-Ubuntu-1ubuntu222.04"
  }
 },
 "nbformat": 4,
 "nbformat_minor": 2
}
