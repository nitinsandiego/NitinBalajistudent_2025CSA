{
 "cells": [
  {
   "cell_type": "markdown",
   "metadata": {},
   "source": [
    "---\n",
    "layout: post\n",
    "title: Java Mad Libs\n",
    "type: ccc \n",
    "toc: false\n",
    "courses: {csa: {week: 2}}\n",
    "---"
   ]
  },
  {
   "cell_type": "code",
   "execution_count": 7,
   "metadata": {},
   "outputs": [
    {
     "name": "stdout",
     "output_type": "stream",
     "text": [
      "Welcome to Mad Libs! Let's create a funny story.\n",
      "\n",
      "Enter a noun: \n",
      "Enter an adjective: \n",
      "Enter a verb: \n",
      "Enter an adverb: \n",
      "\n",
      "Here's your story: \n",
      "\n",
      "Once upon a time, there was a big dog who loved to run slowly.\n"
     ]
    }
   ],
   "source": [
    "import java.util.Scanner;\n",
    "public class MadLibs {\n",
    "    public static void main(String[] args) {\n",
    "        Scanner input = new Scanner(System.in);\n",
    "        System.out.println(\"Welcome to Mad Libs! Let's create a funny story.\");\n",
    "        System.out.print(\"\\nEnter a noun: \");\n",
    "        String noun = input.nextLine();\n",
    "        System.out.print(\"\\nEnter an adjective: \");\n",
    "        String adjective = input.nextLine();\n",
    "        System.out.print(\"\\nEnter a verb: \");\n",
    "        String verb = input.nextLine();\n",
    "        System.out.print(\"\\nEnter an adverb: \\n\");\n",
    "        String adverb = input.nextLine();\n",
    "        System.out.println(\"\\nHere's your story: \\n\");\n",
    "        System.out.println(\"Once upon a time, there was a \" + adjective + \" \" + noun + \" who loved to \" + verb + \" \" + adverb + \".\");\n",
    "        input.close();\n",
    "    }\n",
    "}\n",
    "MadLibs.main(null);"
   ]
  }
 ],
 "metadata": {
  "kernelspec": {
   "display_name": "java (IJava/j!)",
   "language": "java",
   "name": "jbang-ijava"
  },
  "language_info": {
   "codemirror_mode": "java",
   "file_extension": ".jshell",
   "mimetype": "text/x-java-source",
   "name": "java",
   "pygments_lexer": "java",
   "version": "17.0.11+7-LTS-207"
  }
 },
 "nbformat": 4,
 "nbformat_minor": 2
}
