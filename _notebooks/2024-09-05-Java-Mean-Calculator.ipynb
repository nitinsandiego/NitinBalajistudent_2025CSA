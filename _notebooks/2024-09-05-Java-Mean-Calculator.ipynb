{
 "cells": [
  {
   "cell_type": "markdown",
   "metadata": {},
   "source": [
    "---\n",
    "layout: post\n",
    "title: Java Mean Average\n",
    "description:  Java Mean Average\n",
    "type: ccc \n",
    "toc: false\n",
    "courses: {csa: {week: 2}}\n",
    "---"
   ]
  },
  {
   "cell_type": "code",
   "execution_count": 3,
   "metadata": {
    "vscode": {
     "languageId": "java"
    }
   },
   "outputs": [
    {
     "name": "stdout",
     "output_type": "stream",
     "text": [
      "How many numbers do you want to enter? \n",
      "Enter number 1: \n",
      "Enter number 2: \n",
      "Enter number 3: \n",
      "The mean of the entered numbers is: 20.0\n"
     ]
    }
   ],
   "source": [
    "import java.util.Scanner;\n",
    "import java.util.ArrayList;\n",
    "public class InteractiveMeanCalculator {\n",
    "    public static double calculateMean(ArrayList<Double> data) {\n",
    "        if (data.isEmpty()) {\n",
    "            System.out.println(\"No data entered.\");\n",
    "            return 0;\n",
    "        }\n",
    "        double sum = 0;\n",
    "        for (double num : data) {\n",
    "            sum += num;\n",
    "        }\n",
    "        return sum / data.size();\n",
    "    }\n",
    "    public static void main(String[] args) {\n",
    "        Scanner scanner = new Scanner(System.in);\n",
    "        ArrayList<Double> numbers = new ArrayList<>();\n",
    "        System.out.println(\"How many numbers do you want to enter? \");\n",
    "        int count = scanner.nextInt();\n",
    "        for (int i = 1; i <= count; i++) {\n",
    "            System.out.println(\"Enter number \" + i + \": \");\n",
    "            double num = scanner.nextDouble();\n",
    "            numbers.add(num);\n",
    "        }\n",
    "        double mean = calculateMean(numbers);\n",
    "        System.out.println(\"The mean of the entered numbers is: \" + mean);\n",
    "        scanner.close();\n",
    "    }\n",
    "}\n",
    "InteractiveMeanCalculator.main(null);"
   ]
  }
 ],
 "metadata": {
  "kernelspec": {
   "display_name": "java (IJava/j!)",
   "language": "java",
   "name": "jbang-ijava"
  },
  "language_info": {
   "codemirror_mode": "java",
   "file_extension": ".jshell",
   "mimetype": "text/x-java-source",
   "name": "Java",
   "pygments_lexer": "java",
   "version": "17.0.11+7-LTS-207"
  }
 },
 "nbformat": 4,
 "nbformat_minor": 2
}
