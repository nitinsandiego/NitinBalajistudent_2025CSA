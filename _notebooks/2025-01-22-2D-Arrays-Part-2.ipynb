{
 "cells": [
  {
   "cell_type": "markdown",
   "metadata": {},
   "source": [
    "---\n",
    "toc: false\n",
    "layout: post\n",
    "title: 2D Arrays Part 2 FRQ Homework\n",
    "type: ccc\n",
    "courses: {csa: {week: 18}}\n",
    "---"
   ]
  },
  {
   "cell_type": "markdown",
   "metadata": {},
   "source": [
    "# Part A"
   ]
  },
  {
   "cell_type": "code",
   "execution_count": null,
   "metadata": {
    "vscode": {
     "languageId": "java"
    }
   },
   "outputs": [],
   "source": [
    "public void repopulate() {\n",
    "    for (int rowNumber = 0; rowNumber < grid.length; rowNumber++) {\n",
    "        for (int colNumber = 0; colNumber < grid[0].length; colNumber++) {\n",
    "            int value = (int) (Math.random() * MAX) + 1;\n",
    "            while (value % 10 != 0 || value % 100 == 0) {\n",
    "                value = (int) (Math.random() * MAX) + 1;\n",
    "            }\n",
    "            grid[rowNumber][colNumber] = value;\n",
    "        }\n",
    "    }\n",
    "}"
   ]
  },
  {
   "cell_type": "markdown",
   "metadata": {},
   "source": [
    "# Part A Grading\n",
    "\n",
    "1. Traverses grid (no bounds errors)\n",
    "- Does it access all elements of the grid?\n",
    "- Yes, the code correctly traverses all rows (rowNumber) and columns (colNumber) of the grid using standard for-loops.\n",
    "- There are no bounds errors because the loops use < grid.length and < grid[0].length, which correctly iterate within bounds.\n",
    "- The loops also properly maintain indices, and grid[rowNumber][colNumber] is used to access and modify elements directly.\n",
    "\n",
    "**Score: 1/1**\n",
    "\n",
    "2. Generates a random integer in a range based on MAX\n",
    "- Does it generate a random integer in the correct range?\n",
    "- Yes, the code uses (int)(Math.random() * MAX) + 1, which generates a random integer between 1 and MAX (inclusive).\n",
    "- The + 1 ensures that 1 is included in the range, and the cast to (int) is correctly applied.\n",
    "\n",
    "**Score: 1/1**\n",
    "\n",
    "3. Ensures all produced values are divisible by 10 but not by 100\n",
    "- Does it ensure valid values?\n",
    "- The while loop ensures that value % 10 == 0 (divisible by 10) and value % 100 != 0 (not divisible by 100).\n",
    "- The condition value % 10 != 0 || value % 100 == 0 correctly identifies and rejects invalid values.\n",
    "- This guarantees that all produced values meet the criteria.\n",
    "\n",
    "**Score: 1/1**\n",
    "\n",
    "4. Assigns appropriate values to all elements of grid (algorithm)\n",
    "- Does it assign valid values to all elements of the grid?\n",
    "- Yes, all elements of the grid are assigned a valid value that satisfies the divisibility requirements.\n",
    "- The algorithm ensures values are equally distributed within the specified range, and no values outside the range are generated.\n",
    "- The code does not exclude any valid values due to logic errors.\n",
    "\n",
    "**Score: 1/1**\n",
    "\n",
    "**Final Score: 4/4**"
   ]
  },
  {
   "cell_type": "markdown",
   "metadata": {},
   "source": [
    "# Part B"
   ]
  },
  {
   "cell_type": "code",
   "execution_count": null,
   "metadata": {
    "vscode": {
     "languageId": "java"
    }
   },
   "outputs": [],
   "source": []
  }
 ],
 "metadata": {
  "language_info": {
   "name": "python"
  }
 },
 "nbformat": 4,
 "nbformat_minor": 2
}
