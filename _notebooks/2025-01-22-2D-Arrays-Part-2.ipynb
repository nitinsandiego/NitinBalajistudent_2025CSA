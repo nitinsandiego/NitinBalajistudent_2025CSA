{
 "cells": [
  {
   "cell_type": "markdown",
   "metadata": {},
   "source": [
    "---\n",
    "toc: false\n",
    "layout: post\n",
    "title: 2D Arrays Part 2 FRQ Homework\n",
    "type: ccc\n",
    "courses: {csa: {week: 18}}\n",
    "---"
   ]
  }
 ],
 "metadata": {
  "language_info": {
   "name": "python"
  }
 },
 "nbformat": 4,
 "nbformat_minor": 2
}
