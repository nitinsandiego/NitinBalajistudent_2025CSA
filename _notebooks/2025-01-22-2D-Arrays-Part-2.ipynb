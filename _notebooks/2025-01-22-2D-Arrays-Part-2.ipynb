{
 "cells": [
  {
   "cell_type": "markdown",
   "metadata": {},
   "source": [
    "---\n",
    "toc: false\n",
    "layout: post\n",
    "title: 2D Arrays Part 2 FRQ Homework\n",
    "type: ccc\n",
    "courses: {csa: {week: 18}}\n",
    "---"
   ]
  },
  {
   "cell_type": "markdown",
   "metadata": {},
   "source": [
    "## First Try"
   ]
  },
  {
   "cell_type": "code",
   "execution_count": null,
   "metadata": {
    "vscode": {
     "languageId": "java"
    }
   },
   "outputs": [],
   "source": [
    "public void repopulate() {\n",
    "    for (int rowNumber = 0; rowNumber <= grid.length; rowNumber++) {\n",
    "        for (int colNumber = 0; colNumber < grid[0].length; colNumber++) {\n",
    "            int value = (int) Math.random() * MAX + 1;\n",
    "            while (value % 10 == 0 && value % 100 != 0) {\n",
    "                value = (int) (Math.random() * MAX);\n",
    "            }\n",
    "            grid[rowNumber][colNumber] = value;\n",
    "        }\n",
    "    }\n",
    "}"
   ]
  }
 ],
 "metadata": {
  "language_info": {
   "name": "python"
  }
 },
 "nbformat": 4,
 "nbformat_minor": 2
}
