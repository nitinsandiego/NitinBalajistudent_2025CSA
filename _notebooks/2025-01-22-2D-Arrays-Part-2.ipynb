{
 "cells": [
  {
   "cell_type": "markdown",
   "metadata": {},
   "source": [
    "---\n",
    "toc: false\n",
    "layout: post\n",
    "title: 2D Arrays Part 2 FRQ Homework\n",
    "type: ccc\n",
    "courses: {csa: {week: 18}}\n",
    "---"
   ]
  },
  {
   "cell_type": "markdown",
   "metadata": {},
   "source": [
    "# Part A"
   ]
  },
  {
   "cell_type": "code",
   "execution_count": null,
   "metadata": {
    "vscode": {
     "languageId": "java"
    }
   },
   "outputs": [],
   "source": [
    "public void repopulate() {\n",
    "    for (int rowNumber = 0; rowNumber < grid.length; rowNumber++) {\n",
    "        for (int colNumber = 0; colNumber < grid[0].length; colNumber++) {\n",
    "            int value = (int) (Math.random() * MAX) + 1;\n",
    "            while (value % 10 != 0 || value % 100 == 0) {\n",
    "                value = (int) (Math.random() * MAX) + 1;\n",
    "            }\n",
    "            grid[rowNumber][colNumber] = value;\n",
    "        }\n",
    "    }\n",
    "}"
   ]
  },
  {
   "cell_type": "markdown",
   "metadata": {},
   "source": [
    "# Part A Grading\n",
    "\n",
    "Traverses grid (no bounds errors)\n",
    "- Does it access all elements of the grid?\n",
    "- Yes, the code correctly traverses all rows (rowNumber) and columns (colNumber) of the grid using standard for-loops.\n",
    "- There are no bounds errors because the loops use < grid.length and < grid[0].length, which correctly iterate within bounds.\n",
    "- The loops also properly maintain indices, and grid[rowNumber][colNumber] is used to access and modify elements directly.\n",
    "\n",
    "**Score: 1/1**\n",
    "\n",
    "Generates a random integer in a range based on MAX\n",
    "- Does it generate a random integer in the correct range?\n",
    "- Yes, the code uses `(int)(Math.random() * MAX) + 1`, which generates a random integer between 1 and MAX (inclusive).\n",
    "- The + 1 ensures that 1 is included in the range, and the cast to (int) is correctly applied.\n",
    "\n",
    "**Score: 1/1**\n",
    "\n",
    "Ensures all produced values are divisible by 10 but not by 100\n",
    "- Does it ensure valid values?\n",
    "- The while loop ensures that `value % 10 == 0` (divisible by 10) and `value % 100 != 0` (not divisible by 100).\n",
    "- The condition `value % 10 != 0 || value % 100 == 0` correctly identifies and rejects invalid values.\n",
    "- This guarantees that all produced values meet the criteria.\n",
    "\n",
    "**Score: 1/1**\n",
    "\n",
    "Assigns appropriate values to all elements of grid (algorithm)\n",
    "- Does it assign valid values to all elements of the grid?\n",
    "- Yes, all elements of the grid are assigned a valid value that satisfies the divisibility requirements.\n",
    "- The algorithm ensures values are equally distributed within the specified range, and no values outside the range are generated.\n",
    "- The code does not exclude any valid values due to logic errors.\n",
    "\n",
    "**Score: 1/1**\n",
    "\n",
    "**Final Score: 4/4**"
   ]
  },
  {
   "cell_type": "markdown",
   "metadata": {},
   "source": [
    "# Part B"
   ]
  },
  {
   "cell_type": "code",
   "execution_count": 22,
   "metadata": {
    "vscode": {
     "languageId": "java"
    }
   },
   "outputs": [],
   "source": [
    "public int countIncreasingCols(int[][] array) {\n",
    "    int count = 0; // Initialize a counter to keep track of strictly increasing columns\n",
    "    // Loop through each column of the array\n",
    "    for (int j = 0; j < array[0].length; j++) {\n",
    "        boolean isIncreasing = true; // Assume the current column is strictly increasing\n",
    "        // Loop through each row in the current column to check if it's strictly increasing\n",
    "        for (int i = 0; i < array.length - 1; i++) {\n",
    "            // Compare the current row element with the element in the next row\n",
    "            if (array[i][j] >= array[i + 1][j]) {\n",
    "                isIncreasing = false; // If the current element is greater than or equal to the next, the column is not strictly increasing\n",
    "                break; // Exit the inner loop early since the column is no longer valid\n",
    "            }\n",
    "        }\n",
    "        // If the column was strictly increasing, increment the count\n",
    "        if (isIncreasing) {\n",
    "            count++;\n",
    "        }\n",
    "    }\n",
    "    // Return the total count of strictly increasing columns\n",
    "    return count;\n",
    "}"
   ]
  },
  {
   "cell_type": "markdown",
   "metadata": {},
   "source": [
    "# Part B Grading \n",
    "\n",
    "Traverses grid in column-major order (1 point)\n",
    "- The outer loop `(for (int j = 0; j < array[0].length; j++))` iterates through columns, and the inner loop `(for (int i = 0; i < array.length - 1; i++))` iterates through rows within each column. The traversal follows column-major order.\n",
    "\n",
    "**Score: 1/1**\n",
    "\n",
    "Compares two elements in the same column (1 point)\n",
    "- Inside the inner loop, the code compares array`[i][j]` and array`[i + 1][j]`, which are elements in the same column (j).\n",
    "\n",
    "**Score: 1/1**\n",
    "\n",
    "Determines whether a single column is in increasing order (1 point)\n",
    "- The variable isIncreasing is initialized to true before checking a column.\n",
    "- It is set to false if any pair of adjacent elements in the column is not in increasing order `(array[i][j] >= array[i + 1][j])`, and the loop exits early.\n",
    "- Edge Cases: The code does not access out-of-bounds indices due to properly set loop bounds.\n",
    "\n",
    "**Score: 1/1**\n",
    "\n",
    "Counts all columns that are identified as increasing (1 point)\n",
    "- Code Analysis: The code checks each column, and if isIncreasing remains true, it increments the count variable `(count++)`.\n",
    "\n",
    "**Score: 1/1**\n",
    "\n",
    "Returns the calculated count of increasing columns (1 point)\n",
    "- Code Analysis: The method correctly returns the value of count after traversing all columns.\n",
    "\n",
    "**Score: 1/1**\n",
    "\n",
    "**Final Score: 5/5 Points**\n",
    "\n",
    "# Total Score: 9/9 Points"
   ]
  }
 ],
 "metadata": {
  "kernelspec": {
   "display_name": "java (IJava/j!)",
   "language": "java",
   "name": "jbang-ijava"
  },
  "language_info": {
   "codemirror_mode": "java",
   "file_extension": ".jshell",
   "mimetype": "text/x-java-source",
   "name": "Java",
   "pygments_lexer": "java",
   "version": "22.0.2+9-70"
  }
 },
 "nbformat": 4,
 "nbformat_minor": 2
}
