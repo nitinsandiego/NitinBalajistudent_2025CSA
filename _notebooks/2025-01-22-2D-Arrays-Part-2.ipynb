{
 "cells": [
  {
   "cell_type": "markdown",
   "metadata": {},
   "source": [
    "---\n",
    "toc: false\n",
    "layout: post\n",
    "title: 2D Arrays Part 2 FRQ Homework\n",
    "type: ccc\n",
    "courses: {csa: {week: 18}}\n",
    "---"
   ]
  },
  {
   "cell_type": "markdown",
   "metadata": {},
   "source": [
    "## First Try"
   ]
  },
  {
   "cell_type": "code",
   "execution_count": null,
   "metadata": {
    "vscode": {
     "languageId": "java"
    }
   },
   "outputs": [],
   "source": [
    "public void repopulate() {\n",
    "    for (int row = 0; row <= grid.length; row++) {\n",
    "        for (int col = 0; col < grid[0].length; col++) {\n",
    "            int rval = (int) Math.random() * MAX + 1;\n",
    "            while (rval % 10 == 0 && rval % 100 != 0) {\n",
    "                rval = (int) (Math.random() * MAX);\n",
    "            }\n",
    "            grid[row][col] = rval;\n",
    "        }\n",
    "    }\n",
    "}"
   ]
  }
 ],
 "metadata": {
  "language_info": {
   "name": "python"
  }
 },
 "nbformat": 4,
 "nbformat_minor": 2
}
