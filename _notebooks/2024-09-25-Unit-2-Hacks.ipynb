{
 "cells": [
  {
   "cell_type": "markdown",
   "metadata": {},
   "source": [
    "---\n",
    "layout: post\n",
    "title: Unit 2 Hacks\n",
    "type: ccc \n",
    "toc: true\n",
    "courses: {csa: {week: 5}}\n",
    "---"
   ]
  },
  {
   "cell_type": "markdown",
   "metadata": {},
   "source": [
    "## PRACTICE: Objects\n",
    "Now, we’ll see if you understand the concept of classes and objects.\n",
    "\n",
    "Try and create a class in the following code space to represent a dog."
   ]
  },
  {
   "cell_type": "code",
   "execution_count": 3,
   "metadata": {
    "vscode": {
     "languageId": "java"
    }
   },
   "outputs": [
    {
     "name": "stdout",
     "output_type": "stream",
     "text": [
      "Woof!\n"
     ]
    }
   ],
   "source": [
    "class Dog {\n",
    "    String name;\n",
    "    String breed;\n",
    "    int age;\n",
    "\n",
    "    public Dog(String name, String breed, int age) {\n",
    "        this.name = name;\n",
    "        this.breed = breed;\n",
    "        this.age = age;\n",
    "    }\n",
    "\n",
    "    public void bark() {\n",
    "        System.out.println(\"Woof!\");\n",
    "    }\n",
    "}\n",
    "\n",
    "public class Main {\n",
    "    public static void main(String[] args) {\n",
    "        Dog myDog = new Dog(\"Shelby\", \"Golden Retriever\", 5); // name, breed, age\n",
    "        myDog.bark(); // should print \"Woof!\"\n",
    "    }\n",
    "}\n",
    "Main.main(null);"
   ]
  },
  {
   "cell_type": "code",
   "execution_count": 5,
   "metadata": {
    "vscode": {
     "languageId": "java"
    }
   },
   "outputs": [
    {
     "name": "stdout",
     "output_type": "stream",
     "text": [
      "Movie Title: Iron Man\n"
     ]
    }
   ],
   "source": [
    "class Movie {\n",
    "    String title;\n",
    "\n",
    "    public Movie(String title) {\n",
    "        this.title = title;\n",
    "    }\n",
    "\n",
    "    public void printTitle() {\n",
    "        System.out.println(\"Movie Title: \" + this.title);\n",
    "    }\n",
    "}\n",
    "\n",
    "public class Main {\n",
    "    public static void main(String[] args) {\n",
    "        Movie myMovie = new Movie(\"Iron Man\");\n",
    "        myMovie.printTitle(); \n",
    "    }\n",
    "}\n",
    "Main.main(null);"
   ]
  },
  {
   "cell_type": "markdown",
   "metadata": {
    "vscode": {
     "languageId": "java"
    }
   },
   "source": [
    "## Practice 2\n",
    "Fix the code below!\n",
    "\n",
    "```java\n",
    "\n",
    "public class Main {\n",
    "    public static void main(String[] args) {\n",
    "        integer num1 = 50;\n",
    "        Integer num2 = new Integer(75);\n",
    "        \n",
    "        Double d1 = 3.14;\n",
    "        double d2 = new Double(2.718);\n",
    "        \n",
    "        System.out.println(\"Sum of integers: \" + (num1 + num2));\n",
    "        System.out.println(\"Product of doubles: \" + (d1 * d2));\n",
    "    }\n",
    "}\n",
    "```\n",
    "\n",
    "Fixed code below\n",
    "\n",
    "```java\n",
    "\n",
    "public class Main {\n",
    "    public static void main(String[] args) {\n",
    "        Integer num1 = 50;\n",
    "        Integer num2 = 75;\n",
    "\n",
    "        Double d1 = 3.14;\n",
    "        double d2 = 2.718;\n",
    "\n",
    "        System.out.println(\"Sum of integers: \" + (num1 + num2));\n",
    "        System.out.println(\"Product of doubles: \" + (d1 * d2));\n",
    "    }\n",
    "}\n",
    "```\n"
   ]
  },
  {
   "cell_type": "markdown",
   "metadata": {},
   "source": [
    "Now, complete the exercise below without any extra help.\n"
   ]
  },
  {
   "cell_type": "code",
   "execution_count": 6,
   "metadata": {
    "vscode": {
     "languageId": "java"
    }
   },
   "outputs": [
    {
     "name": "stdout",
     "output_type": "stream",
     "text": [
      "Autoboxed Integer: 100\n",
      "Unboxed double: 50.25\n"
     ]
    }
   ],
   "source": [
    "public class Main {\n",
    "    public static void main(String[] args) {\n",
    "        Integer num1 = 100;\n",
    "        \n",
    "        Double doubleObj = 50.25;\n",
    "        double num2 = doubleObj;\n",
    "\n",
    "        System.out.println(\"Autoboxed Integer: \" + num1); \n",
    "        System.out.println(\"Unboxed double: \" + num2);\n",
    "    }\n",
    "}\n",
    "Main.main(null);"
   ]
  },
  {
   "cell_type": "markdown",
   "metadata": {},
   "source": [
    "Quick, let’s do an exercise for practice! What will the following code segment return?"
   ]
  },
  {
   "cell_type": "code",
   "execution_count": 7,
   "metadata": {
    "vscode": {
     "languageId": "java"
    }
   },
   "outputs": [
    {
     "name": "stdout",
     "output_type": "stream",
     "text": [
      "\n",
      "What is printed if we only pass one parameter into the substring method?\n",
      "ibidi\n"
     ]
    }
   ],
   "source": [
    "public class SubstringOfDemo {\n",
    "    public static void main(String[] args) {\n",
    "        String word = new String(\"skibidi\");\n",
    "\n",
    "        System.out.println(\"\\nWhat is printed if we only pass one parameter into the substring method?\");\n",
    "        System.out.println(word.substring(2));\n",
    "    }\n",
    "}\n",
    "\n",
    "SubstringOfDemo.main(null)"
   ]
  },
  {
   "cell_type": "code",
   "execution_count": 8,
   "metadata": {
    "vscode": {
     "languageId": "java"
    }
   },
   "outputs": [
    {
     "name": "stdout",
     "output_type": "stream",
     "text": [
      "\n",
      "If word is < word2, a negative value will be printed. If they are equal, 0 will be printed, and if word > word2, a positive value is printed\n",
      "-1\n",
      "\n",
      "Comparison between word and word3\n",
      "0\n"
     ]
    }
   ],
   "source": [
    "public class CompareToDemo {\n",
    "    public static void main(String[] args) {\n",
    "        String word = new String(\"skibidi\");\n",
    "        String word2 = new String(\"skibidi1\");\n",
    "        String word3 = new String(\"skibidi\");\n",
    "\n",
    "        System.out.println(\"\\nIf word is < word2, a negative value will be printed. If they are equal, 0 will be printed, and if word > word2, a positive value is printed\");\n",
    "        System.out.println(word.compareTo(word2));\n",
    "\n",
    "        System.out.println(\"\\nComparison between word and word3\");\n",
    "        System.out.println(word.compareTo(word3));\n",
    "    }\n",
    "}\n",
    "\n",
    "CompareToDemo.main(null)"
   ]
  },
  {
   "cell_type": "code",
   "execution_count": 9,
   "metadata": {
    "vscode": {
     "languageId": "java"
    }
   },
   "outputs": [
    {
     "name": "stdout",
     "output_type": "stream",
     "text": [
      "\n",
      "This displays if word1 = word2, if false it returns false, if true it returns true\n",
      "false\n",
      "\n",
      "This displays if word1 = word3, if false it returns false, if true it returns true\n",
      "true\n"
     ]
    }
   ],
   "source": [
    "public class EqualToDemo {\n",
    "    public static void main(String[] args) {\n",
    "        String word = new String(\"skibidi\");\n",
    "        String word2 = new String(\"skibidi1\");\n",
    "        String word3 = new String(\"skibidi\");\n",
    "\n",
    "        System.out.println(\"\\nThis displays if word1 = word2, if false it returns false, if true it returns true\");\n",
    "        System.out.println(word.equals((word2)));\n",
    "\n",
    "        System.out.println(\"\\nThis displays if word1 = word3, if false it returns false, if true it returns true\");\n",
    "        System.out.println(word.equals((word3)));\n",
    "    }\n",
    "}\n",
    "\n",
    "EqualToDemo.main(null)"
   ]
  },
  {
   "cell_type": "markdown",
   "metadata": {},
   "source": [
    "## PRACTICE\n",
    "Let’s try a practice! Fill in the function below, `randomize`, following the steps below:\n",
    "\n",
    "Take the absolute value of both numbers\n",
    "Return a random number in between those two numbers, inclusive"
   ]
  },
  {
   "cell_type": "code",
   "execution_count": 11,
   "metadata": {
    "vscode": {
     "languageId": "java"
    }
   },
   "outputs": [
    {
     "name": "stdout",
     "output_type": "stream",
     "text": [
      "Enter first number: \n",
      "Enter second number: \n",
      "Random number: 6.348515218955287\n"
     ]
    }
   ],
   "source": [
    "import java.util.*;\n",
    "\n",
    "public class Main {\n",
    "    public static double randomize(double a, double b) {\n",
    "        a = Math.abs(a);\n",
    "        b = Math.abs(b);\n",
    "\n",
    "        double min = Math.min(a, b);\n",
    "        double max = Math.max(a, b);\n",
    "\n",
    "        return min + (Math.random() * (max - min));\n",
    "    }\n",
    "\n",
    "    public static void main(String[] args) {\n",
    "        Scanner scan = new Scanner(System.in);\n",
    "        System.out.println(\"Enter first number: \");\n",
    "        double a = scan.nextDouble();\n",
    "        System.out.println(\"Enter second number: \");\n",
    "        double b = scan.nextDouble();\n",
    "\n",
    "        System.out.println(\"Random number: \" + randomize(a, b));\n",
    "    }\n",
    "}\n",
    "Main.main(null);"
   ]
  },
  {
   "cell_type": "markdown",
   "metadata": {},
   "source": [
    "## Method Golf\n",
    "\n",
    "![methodgolf](/NitinBstudent_2025/images/golf.png)"
   ]
  },
  {
   "cell_type": "markdown",
   "metadata": {},
   "source": [
    "## Homework\n",
    "\n",
    "Now, it’s time to practice! The following problem will incorporate the following concepts:\n",
    "\n",
    "- Classes\n",
    "- Constructors\n",
    "- Methods\n",
    "- Void methods\n",
    "- Non-void methods\n",
    "- Math class\n",
    "- Integer and Double wrapper classes\n",
    "- String methods"
   ]
  },
  {
   "cell_type": "code",
   "execution_count": 15,
   "metadata": {
    "vscode": {
     "languageId": "java"
    }
   },
   "outputs": [
    {
     "name": "stdout",
     "output_type": "stream",
     "text": [
      "Circle 1:\n",
      "Radius: 31.41592653589793\n",
      "Circumference: 31.41592653589793\n",
      "Area: 78.53981633974483\n",
      "\n",
      "Circle 2:\n",
      "Radius: 43.982297150257104\n",
      "Circumference: 43.982297150257104\n",
      "Area: 153.93804002589985\n",
      "\n",
      "Student 1:\n",
      "Name: Srini\n",
      "Name Length: 5\n",
      "Grade: 75.0\n",
      "Scaled Grade: 37.5\n",
      "\n",
      "Student 2:\n",
      "Name: Akshay\n",
      "Name Length: 6\n",
      "Grade: 45.0\n",
      "Scaled Grade: 22.5\n"
     ]
    }
   ],
   "source": [
    "public class Main {\n",
    "    \n",
    "    // Circle Class: Represents a geometric circle with a radius and methods to calculate its circumference and area\n",
    "    public static class Circle {\n",
    "        private double radius; // Class variable to store the radius of the circle\n",
    "\n",
    "        // Constructor: Initializes the circle with a given radius\n",
    "        public Circle(double radius) {\n",
    "            this.radius = radius;\n",
    "        }\n",
    "\n",
    "        // Method to calculate and return the circumference of the circle\n",
    "        public double circumference() {\n",
    "            return 2 * Math.PI * radius;\n",
    "        }\n",
    "\n",
    "        // Method to calculate and return the area of the circle\n",
    "        public double area() {\n",
    "            return Math.PI * Math.pow(radius, 2);\n",
    "        }\n",
    "    }\n",
    "\n",
    "    // Student Class: Represents a student with a name and grade, and provides methods to retrieve related information\n",
    "    public static class Student {\n",
    "        private String name; // Class variable to store the student's name\n",
    "        private Integer grade; // Class variable to store the student's grade (Integer)\n",
    "\n",
    "        // Constructor: Initializes the student with a given name and grade\n",
    "        public Student(String name, Integer grade) {\n",
    "            this.name = name;\n",
    "            this.grade = grade;\n",
    "        }\n",
    "\n",
    "        // Method to return the length of the student's name\n",
    "        public int nameLength() {\n",
    "            return name.length();\n",
    "        }\n",
    "\n",
    "        // Method to return the student's grade as a Double\n",
    "        public Double getGradeAsDouble() {\n",
    "            return grade.doubleValue();\n",
    "        }\n",
    "\n",
    "        // Method to return the student's grade scaled down by half (divided by 2)\n",
    "        public double getScaledGrade() {\n",
    "            return grade / 2.0;\n",
    "        }\n",
    "    }\n",
    "\n",
    "    // Main method: Entry point of the program, used for testing Circle and Student classes\n",
    "    public static void main(String[] args) {\n",
    "        // Create two Circle objects with different radii\n",
    "        Circle circle1 = new Circle(5.0);\n",
    "        Circle circle2 = new Circle(7.0);\n",
    "\n",
    "        // Print details of the first circle (circumference and area)\n",
    "        System.out.println(\"Circle 1:\");\n",
    "        System.out.println(\"Radius: \" + circle1.circumference()); // Prints the circumference of circle1\n",
    "        System.out.println(\"Circumference: \" + circle1.circumference());\n",
    "        System.out.println(\"Area: \" + circle1.area()); // Prints the area of circle1\n",
    "\n",
    "        // Print details of the second circle (circumference and area)\n",
    "        System.out.println(\"\\nCircle 2:\");\n",
    "        System.out.println(\"Radius: \" + circle2.circumference()); // Prints the circumference of circle2\n",
    "        System.out.println(\"Circumference: \" + circle2.circumference());\n",
    "        System.out.println(\"Area: \" + circle2.area()); // Prints the area of circle2\n",
    "\n",
    "        // Create two Student objects with different names and grades\n",
    "        Student student1 = new Student(\"Srini\", 75);\n",
    "        Student student2 = new Student(\"Akshay\", 45);\n",
    "\n",
    "        // Print details of the first student (name, name length, grade as double, and scaled grade)\n",
    "        System.out.println(\"\\nStudent 1:\");\n",
    "        System.out.println(\"Name: \" + student1.name);\n",
    "        System.out.println(\"Name Length: \" + student1.nameLength()); // Prints the length of student1's name\n",
    "        System.out.println(\"Grade: \" + student1.getGradeAsDouble()); // Prints the grade of student1 as a Double\n",
    "        System.out.println(\"Scaled Grade: \" + student1.getScaledGrade()); // Prints the grade scaled down by 2\n",
    "\n",
    "        // Print details of the second student (name, name length, grade as double, and scaled grade)\n",
    "        System.out.println(\"\\nStudent 2:\");\n",
    "        System.out.println(\"Name: \" + student2.name);\n",
    "        System.out.println(\"Name Length: \" + student2.nameLength()); // Prints the length of student2's name\n",
    "        System.out.println(\"Grade: \" + student2.getGradeAsDouble()); // Prints the grade of student2 as a Double\n",
    "        System.out.println(\"Scaled Grade: \" + student2.getScaledGrade()); // Prints the grade scaled down by 2\n",
    "    }\n",
    "}\n",
    "\n",
    "// Call the main method to run the program\n",
    "Main.main(null);"
   ]
  }
 ],
 "metadata": {
  "kernelspec": {
   "display_name": "java (IJava/j!)",
   "language": "java",
   "name": "jbang-ijava"
  },
  "language_info": {
   "codemirror_mode": "java",
   "file_extension": ".jshell",
   "mimetype": "text/x-java-source",
   "name": "Java",
   "pygments_lexer": "java",
   "version": "17.0.11+7-LTS-207"
  }
 },
 "nbformat": 4,
 "nbformat_minor": 2
}
