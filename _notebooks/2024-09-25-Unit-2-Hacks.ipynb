{
 "cells": [
  {
   "cell_type": "markdown",
   "metadata": {},
   "source": [
    "---\n",
    "layout: post\n",
    "title: Unit 2 Hacks\n",
    "type: ccc \n",
    "toc: true\n",
    "courses: {csa: {week: 5}}\n",
    "---"
   ]
  },
  {
   "cell_type": "markdown",
   "metadata": {},
   "source": [
    "## PRACTICE: Objects\n",
    "Now, we’ll see if you understand the concept of classes and objects.\n",
    "\n",
    "Try and create a class in the following code space to represent a dog."
   ]
  },
  {
   "cell_type": "code",
   "execution_count": 3,
   "metadata": {
    "vscode": {
     "languageId": "java"
    }
   },
   "outputs": [
    {
     "name": "stdout",
     "output_type": "stream",
     "text": [
      "Woof!\n"
     ]
    }
   ],
   "source": [
    "class Dog {\n",
    "    String name;\n",
    "    String breed;\n",
    "    int age;\n",
    "\n",
    "    public Dog(String name, String breed, int age) {\n",
    "        this.name = name;\n",
    "        this.breed = breed;\n",
    "        this.age = age;\n",
    "    }\n",
    "\n",
    "    public void bark() {\n",
    "        System.out.println(\"Woof!\");\n",
    "    }\n",
    "}\n",
    "\n",
    "public class Main {\n",
    "    public static void main(String[] args) {\n",
    "        Dog myDog = new Dog(\"Shelby\", \"Golden Retriever\", 5); // name, breed, age\n",
    "        myDog.bark(); // should print \"Woof!\"\n",
    "    }\n",
    "}\n",
    "Main.main(null);"
   ]
  },
  {
   "cell_type": "code",
   "execution_count": 5,
   "metadata": {
    "vscode": {
     "languageId": "java"
    }
   },
   "outputs": [
    {
     "name": "stdout",
     "output_type": "stream",
     "text": [
      "Movie Title: Iron Man\n"
     ]
    }
   ],
   "source": [
    "class Movie {\n",
    "    String title;\n",
    "\n",
    "    public Movie(String title) {\n",
    "        this.title = title;\n",
    "    }\n",
    "\n",
    "    public void printTitle() {\n",
    "        System.out.println(\"Movie Title: \" + this.title);\n",
    "    }\n",
    "}\n",
    "\n",
    "public class Main {\n",
    "    public static void main(String[] args) {\n",
    "        Movie myMovie = new Movie(\"Iron Man\");\n",
    "        myMovie.printTitle(); \n",
    "    }\n",
    "}\n",
    "Main.main(null);"
   ]
  },
  {
   "cell_type": "markdown",
   "metadata": {
    "vscode": {
     "languageId": "java"
    }
   },
   "source": [
    "## Practice 2\n",
    "Fix the code below!\n",
    "\n",
    "```java\n",
    "\n",
    "public class Main {\n",
    "    public static void main(String[] args) {\n",
    "        integer num1 = 50;\n",
    "        Integer num2 = new Integer(75);\n",
    "        \n",
    "        Double d1 = 3.14;\n",
    "        double d2 = new Double(2.718);\n",
    "        \n",
    "        System.out.println(\"Sum of integers: \" + (num1 + num2));\n",
    "        System.out.println(\"Product of doubles: \" + (d1 * d2));\n",
    "    }\n",
    "}\n",
    "```\n",
    "\n",
    "Fixed code below\n",
    "\n",
    "```java\n",
    "\n",
    "public class Main {\n",
    "    public static void main(String[] args) {\n",
    "        Integer num1 = 50;\n",
    "        Integer num2 = 75;\n",
    "\n",
    "        Double d1 = 3.14;\n",
    "        double d2 = 2.718;\n",
    "\n",
    "        System.out.println(\"Sum of integers: \" + (num1 + num2));\n",
    "        System.out.println(\"Product of doubles: \" + (d1 * d2));\n",
    "    }\n",
    "}\n",
    "```\n"
   ]
  },
  {
   "cell_type": "markdown",
   "metadata": {},
   "source": [
    "Now, complete the exercise below without any extra help.\n"
   ]
  },
  {
   "cell_type": "code",
   "execution_count": 6,
   "metadata": {
    "vscode": {
     "languageId": "java"
    }
   },
   "outputs": [
    {
     "name": "stdout",
     "output_type": "stream",
     "text": [
      "Autoboxed Integer: 100\n",
      "Unboxed double: 50.25\n"
     ]
    }
   ],
   "source": [
    "public class Main {\n",
    "    public static void main(String[] args) {\n",
    "        Integer num1 = 100;\n",
    "        \n",
    "        Double doubleObj = 50.25;\n",
    "        double num2 = doubleObj;\n",
    "\n",
    "        System.out.println(\"Autoboxed Integer: \" + num1); \n",
    "        System.out.println(\"Unboxed double: \" + num2);\n",
    "    }\n",
    "}\n",
    "Main.main(null);"
   ]
  },
  {
   "cell_type": "markdown",
   "metadata": {},
   "source": [
    "Quick, let’s do an exercise for practice! What will the following code segment return?"
   ]
  },
  {
   "cell_type": "code",
   "execution_count": 7,
   "metadata": {
    "vscode": {
     "languageId": "java"
    }
   },
   "outputs": [
    {
     "name": "stdout",
     "output_type": "stream",
     "text": [
      "\n",
      "What is printed if we only pass one parameter into the substring method?\n",
      "ibidi\n"
     ]
    }
   ],
   "source": [
    "public class SubstringOfDemo {\n",
    "    public static void main(String[] args) {\n",
    "        String word = new String(\"skibidi\");\n",
    "\n",
    "        System.out.println(\"\\nWhat is printed if we only pass one parameter into the substring method?\");\n",
    "        System.out.println(word.substring(2));\n",
    "    }\n",
    "}\n",
    "\n",
    "SubstringOfDemo.main(null)"
   ]
  },
  {
   "cell_type": "code",
   "execution_count": 8,
   "metadata": {
    "vscode": {
     "languageId": "java"
    }
   },
   "outputs": [
    {
     "name": "stdout",
     "output_type": "stream",
     "text": [
      "\n",
      "If word is < word2, a negative value will be printed. If they are equal, 0 will be printed, and if word > word2, a positive value is printed\n",
      "-1\n",
      "\n",
      "Comparison between word and word3\n",
      "0\n"
     ]
    }
   ],
   "source": [
    "public class CompareToDemo {\n",
    "    public static void main(String[] args) {\n",
    "        String word = new String(\"skibidi\");\n",
    "        String word2 = new String(\"skibidi1\");\n",
    "        String word3 = new String(\"skibidi\");\n",
    "\n",
    "        System.out.println(\"\\nIf word is < word2, a negative value will be printed. If they are equal, 0 will be printed, and if word > word2, a positive value is printed\");\n",
    "        System.out.println(word.compareTo(word2));\n",
    "\n",
    "        System.out.println(\"\\nComparison between word and word3\");\n",
    "        System.out.println(word.compareTo(word3));\n",
    "    }\n",
    "}\n",
    "\n",
    "CompareToDemo.main(null)"
   ]
  },
  {
   "cell_type": "code",
   "execution_count": 9,
   "metadata": {
    "vscode": {
     "languageId": "java"
    }
   },
   "outputs": [
    {
     "name": "stdout",
     "output_type": "stream",
     "text": [
      "\n",
      "This displays if word1 = word2, if false it returns false, if true it returns true\n",
      "false\n",
      "\n",
      "This displays if word1 = word3, if false it returns false, if true it returns true\n",
      "true\n"
     ]
    }
   ],
   "source": [
    "public class EqualToDemo {\n",
    "    public static void main(String[] args) {\n",
    "        String word = new String(\"skibidi\");\n",
    "        String word2 = new String(\"skibidi1\");\n",
    "        String word3 = new String(\"skibidi\");\n",
    "\n",
    "        System.out.println(\"\\nThis displays if word1 = word2, if false it returns false, if true it returns true\");\n",
    "        System.out.println(word.equals((word2)));\n",
    "\n",
    "        System.out.println(\"\\nThis displays if word1 = word3, if false it returns false, if true it returns true\");\n",
    "        System.out.println(word.equals((word3)));\n",
    "    }\n",
    "}\n",
    "\n",
    "EqualToDemo.main(null)"
   ]
  },
  {
   "cell_type": "markdown",
   "metadata": {},
   "source": [
    "## PRACTICE\n",
    "Let’s try a practice! Fill in the function below, `randomize`, following the steps below:\n",
    "\n",
    "Take the absolute value of both numbers\n",
    "Return a random number in between those two numbers, inclusive"
   ]
  },
  {
   "cell_type": "code",
   "execution_count": 11,
   "metadata": {
    "vscode": {
     "languageId": "java"
    }
   },
   "outputs": [
    {
     "name": "stdout",
     "output_type": "stream",
     "text": [
      "Enter first number: \n",
      "Enter second number: \n",
      "Random number: 6.348515218955287\n"
     ]
    }
   ],
   "source": [
    "import java.util.*;\n",
    "\n",
    "public class Main {\n",
    "    public static double randomize(double a, double b) {\n",
    "        a = Math.abs(a);\n",
    "        b = Math.abs(b);\n",
    "\n",
    "        double min = Math.min(a, b);\n",
    "        double max = Math.max(a, b);\n",
    "\n",
    "        return min + (Math.random() * (max - min));\n",
    "    }\n",
    "\n",
    "    public static void main(String[] args) {\n",
    "        Scanner scan = new Scanner(System.in);\n",
    "        System.out.println(\"Enter first number: \");\n",
    "        double a = scan.nextDouble();\n",
    "        System.out.println(\"Enter second number: \");\n",
    "        double b = scan.nextDouble();\n",
    "\n",
    "        System.out.println(\"Random number: \" + randomize(a, b));\n",
    "    }\n",
    "}\n",
    "Main.main(null);"
   ]
  }
 ],
 "metadata": {
  "kernelspec": {
   "display_name": "java (IJava/j!)",
   "language": "java",
   "name": "jbang-ijava"
  },
  "language_info": {
   "codemirror_mode": "java",
   "file_extension": ".jshell",
   "mimetype": "text/x-java-source",
   "name": "Java",
   "pygments_lexer": "java",
   "version": "17.0.11+7-LTS-207"
  }
 },
 "nbformat": 4,
 "nbformat_minor": 2
}
