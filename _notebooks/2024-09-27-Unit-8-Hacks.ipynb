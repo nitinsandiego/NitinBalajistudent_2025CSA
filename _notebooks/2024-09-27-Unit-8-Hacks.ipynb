{
 "cells": [
  {
   "cell_type": "markdown",
   "metadata": {},
   "source": [
    "---\n",
    "layout: post\n",
    "title: Unit 8 Hacks\n",
    "type: collab \n",
    "toc: true\n",
    "courses: {csa: {week: 5}}\n",
    "---"
   ]
  },
  {
   "cell_type": "markdown",
   "metadata": {},
   "source": [
    "## Popcorn Hack 1\n",
    "\n",
    "What’s wrong with this code:\n",
    "\n",
    "```java\n",
    "int[][] exampleArray = {\n",
    "    {\"Hello\", \"World\"},\n",
    "    {\"Java\", \"Array\"}\n",
    "};\n",
    "```\n",
    "\n",
    "Fixed version:\n",
    "\n",
    "```java\n",
    "String[][] exampleArray = {\n",
    "    {\"Hello\", \"World\"},\n",
    "    {\"Java\", \"Array\"}\n",
    "};\n",
    "```\n",
    "\n",
    "## Popcorn Hack 2\n",
    "\n",
    "How many total elements can this 2D array hold, and how would you calculate it?\n",
    "\n",
    "```java\n",
    "int[][] matrix = new int[2][3];\n",
    "```\n",
    "\n",
    "Answer: 6. The total number of elements in a 2D array is the product of the number of rows and the number of columns.\n",
    "\n",
    "![example1](https://github.com/user-attachments/assets/4bae6ef7-dee0-4b6f-ba92-bd05af8fa84d)\n",
    "\n",
    "How would you write the code to access the last score? MC\n",
    "\n",
    "A. grades[6][3]\n",
    "B. grades[7][4]\n",
    "C. grades[grades.length - 1] [grades[0].length - 1]\n",
    "D. A and C\n",
    "\n",
    "Answer: D. A and C"
   ]
  },
  {
   "cell_type": "markdown",
   "metadata": {},
   "source": [
    "## Try on your own!\n",
    "\n",
    "Write a code to declare and initialize a 2D array that stores the following matrix: 1 2 3 4 5 6 7 8 9"
   ]
  },
  {
   "cell_type": "code",
   "execution_count": 11,
   "metadata": {},
   "outputs": [
    {
     "name": "stdout",
     "output_type": "stream",
     "text": [
      "[[1, 2, 3], [4, 5, 6], [7, 8, 9]]\n"
     ]
    }
   ],
   "source": [
    "public class ArrayPractice {\n",
    "    public static void main(String[] args) {\n",
    "        // Declare and initialize the 2D array\n",
    "        int[][] array = {\n",
    "            {1, 2, 3},\n",
    "            {4, 5, 6},\n",
    "            {7, 8, 9}\n",
    "        };\n",
    "\n",
    "        // Print the array\n",
    "        System.out.println(java.util.Arrays.deepToString(array));\n",
    "    }\n",
    "}\n",
    "\n",
    "ArrayPractice.main(null);"
   ]
  },
  {
   "cell_type": "markdown",
   "metadata": {},
   "source": [
    "## Try on your own!\n",
    "\n",
    "Write the code to change the element “Java” to “Programming”"
   ]
  },
  {
   "cell_type": "code",
   "execution_count": 12,
   "metadata": {},
   "outputs": [
    {
     "name": "stdout",
     "output_type": "stream",
     "text": [
      "[[Hello, World], [Programming, Array]]\n"
     ]
    }
   ],
   "source": [
    "public class ArrayPractice {\n",
    "    public static void main(String[] args) {\n",
    "        String[][] hack = {\n",
    "            {\"Hello\", \"World\"},\n",
    "            {\"Java\", \"Array\"}\n",
    "        };\n",
    "\n",
    "        // Change \"Java\" to \"Programming\"\n",
    "        hack[1][0] = \"Programming\";\n",
    "\n",
    "        // Print the updated array\n",
    "        System.out.println(java.util.Arrays.deepToString(hack));\n",
    "    }\n",
    "}\n",
    "\n",
    "ArrayPractice.main(null);"
   ]
  },
  {
   "cell_type": "markdown",
   "metadata": {
    "vscode": {
     "languageId": "java"
    }
   },
   "source": [
    "## Popcorn Hack!\n",
    "\n",
    "![mc1](https://github.com/user-attachments/assets/72f2ff0f-7d8b-4d5b-90e4-da9403a5570b)\n",
    "\n",
    "Answer: B II only"
   ]
  },
  {
   "cell_type": "markdown",
   "metadata": {},
   "source": [
    "## Popcorn Hack\n",
    "\n",
    "An array called find is shown below. In this popcorn hack, I want you to loop through the numbers until you get to the number that doesn’t belong (55). Then print that number along with which row and column it is located in."
   ]
  },
  {
   "cell_type": "code",
   "execution_count": 13,
   "metadata": {},
   "outputs": [
    {
     "name": "stdout",
     "output_type": "stream",
     "text": [
      "Number: 55, Row: 2, Column: 2\n"
     ]
    }
   ],
   "source": [
    "public class Main {\n",
    "    public static void main(String[] args) {\n",
    "        int find[][] = {\n",
    "            {10, 20, 30},\n",
    "            {40, 55, 60},\n",
    "            {70, 80, 90},\n",
    "        };\n",
    "\n",
    "        for (int row = 0; row < find.length; row++) {\n",
    "            for (int col = 0; col < find[row].length; col++) {\n",
    "                if (find[row][col] == 55) {\n",
    "                    System.out.println(\"Number: \" + find[row][col] + \n",
    "                                       \", Row: \" + (row+1) + \n",
    "                                       \", Column: \" + (col+1));\n",
    "                    return;\n",
    "                }\n",
    "            }\n",
    "        }\n",
    "    }\n",
    "}\n",
    "\n",
    "Main.main(null);"
   ]
  },
  {
   "cell_type": "markdown",
   "metadata": {},
   "source": [
    "## Popcorn Hack:\n",
    "\n",
    "Create your own 2D array and use either binary search or linear search. (maybe both 😏 )"
   ]
  },
  {
   "cell_type": "code",
   "execution_count": 14,
   "metadata": {},
   "outputs": [
    {
     "name": "stdout",
     "output_type": "stream",
     "text": [
      "Linear Search:\n",
      "Found 5 at Row: 1, Column: 1\n",
      "\n",
      "Binary Search:\n",
      "Found 5 at index: 4\n"
     ]
    }
   ],
   "source": [
    "public class Main {\n",
    "    public static void main(String[] args) {\n",
    "        int[][] array = {\n",
    "            {1, 2, 3},\n",
    "            {4, 5, 6},\n",
    "            {7, 8, 9},\n",
    "            {10, 11, 12}\n",
    "        };\n",
    "\n",
    "        int target = 5;\n",
    "\n",
    "        // Perform linear search\n",
    "        System.out.println(\"Linear Search:\");\n",
    "        int[] linearResult = linearSearch(array, target);\n",
    "        if (linearResult != null) {\n",
    "            System.out.println(\"Found \" + target + \" at Row: \" + linearResult[0] + \", Column: \" + linearResult[1]);\n",
    "        } else {\n",
    "            System.out.println(target + \" not found.\");\n",
    "        }\n",
    "\n",
    "        // Perform binary search\n",
    "        System.out.println(\"\\nBinary Search:\");\n",
    "        int binaryResult = binarySearch(array, target);\n",
    "        if (binaryResult != -1) {\n",
    "            System.out.println(\"Found \" + target + \" at index: \" + binaryResult);\n",
    "        } else {\n",
    "            System.out.println(target + \" not found.\");\n",
    "        }\n",
    "    }\n",
    "\n",
    "    public static int[] linearSearch(int[][] array, int target) {\n",
    "        for (int row = 0; row < array.length; row++) {\n",
    "            for (int col = 0; col < array[row].length; col++) {\n",
    "                if (array[row][col] == target) {\n",
    "                    return new int[]{row, col}; \n",
    "                }\n",
    "            }\n",
    "        }\n",
    "        return null;\n",
    "    }\n",
    "\n",
    "    public static int binarySearch(int[][] array, int target) {\n",
    "        for (int row = 0; row < array.length; row++) {\n",
    "            int left = 0;\n",
    "            int right = array[row].length - 1;\n",
    "\n",
    "            while (left <= right) {\n",
    "                int mid = left + (right - left) / 2;\n",
    "                if (array[row][mid] == target) {\n",
    "                    return row * array[row].length + mid;\n",
    "                } else if (array[row][mid] < target) {\n",
    "                    left = mid + 1;\n",
    "                } else {\n",
    "                    right = mid - 1;\n",
    "                }\n",
    "            }\n",
    "        }\n",
    "        return -1;\n",
    "    }\n",
    "}\n",
    "\n",
    "Main.main(null);"
   ]
  },
  {
   "cell_type": "markdown",
   "metadata": {},
   "source": [
    "## Popcorn Hack:\n",
    "\n",
    "Write a code that performs global sorting on your own 2D array."
   ]
  },
  {
   "cell_type": "code",
   "execution_count": 15,
   "metadata": {},
   "outputs": [
    {
     "name": "stdout",
     "output_type": "stream",
     "text": [
      "Sorted Array: [1, 3, 4, 5, 6, 7, 8, 9, 12]\n",
      "Linear Search: Element found at: Row 0, Column 2\n",
      "Binary Search: Element found at: Row 0, Column 1\n"
     ]
    }
   ],
   "source": [
    "import java.util.Arrays;\n",
    "\n",
    "public class PopcornHack {\n",
    "    public static void main(String[] args) {\n",
    "        int[][] array = {\n",
    "            {12, 3, 5},\n",
    "            {8, 7, 1},\n",
    "            {4, 9, 6}\n",
    "        };\n",
    "\n",
    "        int[] sortedArray = sort2DArray(array);\n",
    "        System.out.println(\"Sorted Array: \" + Arrays.toString(sortedArray));\n",
    "\n",
    "        int target = 5;\n",
    "\n",
    "        int[] linearResult = linearSearch(array, target);\n",
    "        if (linearResult[0] != -1) {\n",
    "            System.out.println(\"Linear Search: Element found at: Row \" + linearResult[0] + \", Column \" + linearResult[1]);\n",
    "        } else {\n",
    "            System.out.println(\"Linear Search: Element not found.\");\n",
    "        }\n",
    "\n",
    "        int[] binaryResult = binarySearch(array, target);\n",
    "        if (binaryResult[0] != -1) {\n",
    "            System.out.println(\"Binary Search: Element found at: Row \" + binaryResult[0] + \", Column \" + binaryResult[1]);\n",
    "        } else {\n",
    "            System.out.println(\"Binary Search: Element not found.\");\n",
    "        }\n",
    "    }\n",
    "\n",
    "    public static int[] sort2DArray(int[][] array) {\n",
    "        int totalElements = 0;\n",
    "        for (int[] row : array) {\n",
    "            totalElements += row.length;\n",
    "        }\n",
    "\n",
    "        int[] flatArray = new int[totalElements];\n",
    "        int index = 0;\n",
    "        for (int[] row : array) {\n",
    "            for (int num : row) {\n",
    "                flatArray[index++] = num;\n",
    "            }\n",
    "        }\n",
    "\n",
    "        Arrays.sort(flatArray);\n",
    "        return flatArray;\n",
    "    }\n",
    "\n",
    "    public static int[] linearSearch(int[][] array, int target) {\n",
    "        for (int row = 0; row < array.length; row++) {\n",
    "            for (int col = 0; col < array[row].length; col++) {\n",
    "                if (array[row][col] == target) {\n",
    "                    return new int[]{row, col};\n",
    "                }\n",
    "            }\n",
    "        }\n",
    "        return new int[]{-1, -1};\n",
    "    }\n",
    "\n",
    "    public static int[] binarySearch(int[][] array, int target) {\n",
    "        for (int row = 0; row < array.length; row++) {\n",
    "            Arrays.sort(array[row]);\n",
    "            int left = 0;\n",
    "            int right = array[row].length - 1;\n",
    "\n",
    "            while (left <= right) {\n",
    "                int mid = left + (right - left) / 2;\n",
    "                if (array[row][mid] == target) {\n",
    "                    return new int[]{row, mid};\n",
    "                } else if (array[row][mid] < target) {\n",
    "                    left = mid + 1;\n",
    "                } else {\n",
    "                    right = mid - 1;\n",
    "                }\n",
    "            }\n",
    "        }\n",
    "        return new int[]{-1, -1};\n",
    "    }\n",
    "}\n",
    "\n",
    "PopcornHack.main(null);"
   ]
  },
  {
   "cell_type": "markdown",
   "metadata": {},
   "source": [
    "## HW Hack for 8.1:\n",
    "\n",
    "You are given a function below, and your goal is to match the table to match the 2d array provided in the function."
   ]
  },
  {
   "cell_type": "code",
   "execution_count": 16,
   "metadata": {},
   "outputs": [
    {
     "name": "stdout",
     "output_type": "stream",
     "text": [
      "My AP CS A Class Rocks! "
     ]
    }
   ],
   "source": [
    "public class Main {\n",
    "    public static void main(String[] args) {\n",
    "        String[][] array = {\n",
    "            {\"My\", \"A\"}, \n",
    "            {\"AP\", \"Class\"}, \n",
    "            {\"CS\", \"Rocks!\"}\n",
    "        };\n",
    "        \n",
    "        for (int col = 0; col < array[0].length; col++) {\n",
    "            for (int row = 0; row < array.length; row++) {\n",
    "                System.out.print(array[row][col] + \" \");\n",
    "            }\n",
    "        }\n",
    "    }\n",
    "}\n",
    "\n",
    "Main.main(null);"
   ]
  },
  {
   "cell_type": "markdown",
   "metadata": {},
   "source": [
    "Of the following, which is the correct table for the 2d array provided in the function?\n",
    "\n",
    "\n",
    "A)\n",
    "\n",
    "|   | 1   | 2   | 3      |\n",
    "|---|-----|-----|--------|\n",
    "| 1 | My  | CS  | Class  |\n",
    "| 2 | AP  | A   | Rocks! |\n",
    "\n",
    "B)\n",
    "\n",
    "|   | 1   | 2   | 3      |\n",
    "|---|-----|-----|--------|\n",
    "| 1 | My  | AP  | CS  |\n",
    "| 2 | A  | Class   | Rocks! |\n",
    "\n",
    "C)\n",
    "\n",
    "|   | 1   | 2   | 3      |\n",
    "|---|-----|-----|--------|\n",
    "| 1 | My  | AP  | Class  |\n",
    "| 2 | Rocks!  | CS   | A |\n",
    "\n",
    "***Answer: B***"
   ]
  },
  {
   "cell_type": "markdown",
   "metadata": {},
   "source": [
    "## HW Hack for 8.2:\n",
    "\n",
    "\n",
    "Write a program to search through a 2d array to find the grade for John. You will be given a list of students and their grades and you must find the grade of John. If a student is not in the list, then return \"Student not found\".\n",
    "\n",
    "Use this program as a template:"
   ]
  },
  {
   "cell_type": "code",
   "execution_count": 17,
   "metadata": {},
   "outputs": [
    {
     "name": "stdout",
     "output_type": "stream",
     "text": [
      "John's grade: 93\n",
      "Charlie's grade: Student not found\n"
     ]
    }
   ],
   "source": [
    "public class GradeSearch {\n",
    "    public static String searchGrade(String[][] grades, String name) {\n",
    "        // Loop through each row in the 2D array\n",
    "        for (String[] student : grades) {\n",
    "            // Check if the first element (student's name) matches the search name\n",
    "            if (student[0].equals(name)) {\n",
    "                // Return the second element (student's grade) if the name matches\n",
    "                return student[1];\n",
    "            }\n",
    "        }\n",
    "        // If the student is not found, return \"Student not found\"\n",
    "        return \"Student not found\";\n",
    "    }\n",
    "\n",
    "    public static void main(String[] args) {\n",
    "        // Sample 2D array with names and grades\n",
    "        String[][] grades = {\n",
    "            {\"John\", \"93\"},\n",
    "            {\"Alice\", \"85\"},\n",
    "            {\"Bob\", \"78\"},\n",
    "            {\"Eve\", \"92\"}\n",
    "        };\n",
    "\n",
    "        // Test the search function\n",
    "        String nameToSearch = \"John\";\n",
    "        String grade = searchGrade(grades, nameToSearch);\n",
    "        System.out.println(nameToSearch + \"'s grade: \" + grade);\n",
    "\n",
    "        nameToSearch = \"Charlie\";\n",
    "        grade = searchGrade(grades, nameToSearch);\n",
    "        System.out.println(nameToSearch + \"'s grade: \" + grade);\n",
    "    }\n",
    "}\n",
    "\n",
    "// Execute the main method to see the output\n",
    "GradeSearch.main(null);"
   ]
  },
  {
   "cell_type": "markdown",
   "metadata": {},
   "source": [
    "Heres a hint, try to use enhanced for loops to check each row for the name John. If you find John, then return the grade. If you don't find John, then return \"Student not found\"."
   ]
  }
 ],
 "metadata": {
  "kernelspec": {
   "display_name": "java (IJava/j!)",
   "language": "java",
   "name": "jbang-ijava"
  },
  "language_info": {
   "codemirror_mode": "java",
   "file_extension": ".jshell",
   "mimetype": "text/x-java-source",
   "name": "java",
   "pygments_lexer": "java",
   "version": "17.0.11+7-LTS-207"
  }
 },
 "nbformat": 4,
 "nbformat_minor": 2
}
