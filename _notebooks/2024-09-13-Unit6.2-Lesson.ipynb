{
 "cells": [
  {
   "cell_type": "markdown",
   "metadata": {},
   "source": [
    "---\n",
    "layout: post\n",
    "title: Unit 6.2 Lesson\n",
    "type: collab \n",
    "toc: false\n",
    "courses: {csa: {week: 4}}\n",
    "---"
   ]
  },
  {
   "cell_type": "markdown",
   "metadata": {},
   "source": [
    "# 6.2 Traversing Arrays\n",
    "Using iterative statements (such as standard for loops and while loops) to traverse each element in an array.\n",
    "<br>\n",
    "\n",
    "## Traversing using a `for` loop\n",
    "\n",
    "- Traversing an array means to access each element of an array.\n",
    "    - Since an array is indexed from 0 to the number of elements -1, a standard for loop is a convenient way to accomplish traversal of an array.\n",
    "\n",
    "The `for` loop is used to iterate over a sequence of elements. The syntax of the `for` loop is as follows:\n",
    "<br>\n",
    "```java\n",
    "for (initialization; condition; increment/decrement) {\n",
    "    // code to be executed\n",
    "}\n",
    "```\n",
    "\n",
    "![forloopimage](https://www.w3resource.com/w3r_images/java-for-loop-image1.png)\n"
   ]
  },
  {
   "cell_type": "code",
   "execution_count": null,
   "metadata": {
    "vscode": {
     "languageId": "java"
    }
   },
   "outputs": [],
   "source": [
    "public static void main(String[] args) {    \n",
    "    int[] list = new int[5];\n",
    "    for (int index =0; index < list.length; index++) {\n",
    "        list[index] = (int) (Math.random() * 100);\n",
    "    }\n",
    "    System.out.println(Arrays.toString(list));\n",
    "}\n",
    "main(null);"
   ]
  },
  {
   "cell_type": "markdown",
   "metadata": {},
   "source": [
    "### What does the code above do?\n",
    "\n",
    "- A for loop can also be used to access only some of the elements in an array"
   ]
  },
  {
   "cell_type": "code",
   "execution_count": null,
   "metadata": {
    "vscode": {
     "languageId": "java"
    }
   },
   "outputs": [],
   "source": [
    "public static void main(String[] args) {    \n",
    "    int[] list = new int[5];\n",
    "    for (int index =0; index < list.length; index+=2) {\n",
    "        list[index] = (int) (Math.random() * 100);\n",
    "    }\n",
    "    System.out.println(Arrays.toString(list));\n",
    "}\n",
    "main(null);"
   ]
  },
  {
   "cell_type": "markdown",
   "metadata": {
    "vscode": {
     "languageId": "java"
    }
   },
   "source": [
    "### What is the difference of between this code and the previous code? What do you think the output will look like?\n",
    "\n",
    "## For loop : Accessing Some Elements of a List\n",
    "- The for loop can be used to access only some of the elements in an array.\n",
    "\n",
    "### Odd Index only"
   ]
  },
  {
   "cell_type": "code",
   "execution_count": null,
   "metadata": {
    "vscode": {
     "languageId": "java"
    }
   },
   "outputs": [],
   "source": [
    "public class oddIndexOnly {\n",
    "    public static void main(String[] args) {\n",
    "        int[] listOfNumbers = new int[] {1, 2, 3, 4, 5};\n",
    "        for (int index=0; index<listOfNumbers.length; index+=2) {\n",
    "            System.out.println(listOfNumbers[index]);\n",
    "        }\n",
    "    }\n",
    "}\n",
    "oddIndexOnly.main(null);"
   ]
  },
  {
   "cell_type": "markdown",
   "metadata": {},
   "source": [
    "### Even Index only"
   ]
  },
  {
   "cell_type": "code",
   "execution_count": null,
   "metadata": {
    "vscode": {
     "languageId": "java"
    }
   },
   "outputs": [],
   "source": [
    "public class evenIndexOnly {\n",
    "    public static void main(String[] args) {\n",
    "        int[] listOfNumbers = new int[] {1, 2, 3, 4, 5};\n",
    "        for (int index=1; index<listOfNumbers.length; index+=2) {\n",
    "            System.out.println(listOfNumbers[index]);\n",
    "        }\n",
    "    }\n",
    "}\n",
    "evenIndexOnly.main(null);"
   ]
  },
  {
   "cell_type": "markdown",
   "metadata": {},
   "source": [
    "## For-each loop\n",
    "- The for-each loop is used to traverse an array or a collection in Java\n",
    "- It is easier to use than a standard for loop because it eliminates the need to keep track of the loop variable.\n",
    "\n",
    "```java\n",
    "for (type variableName : arrayName) {\n",
    "    // code to be executed\n",
    "}\n",
    "```\n",
    "<img src=\"https://www.alphacodingskills.com/perl/img/perl-foreach-loop.PNG\" alt=\"for-eachimage\" width=\"500\"/>\n",
    "\n",
    "- The for-each loop doesn't have direct access to the index of the array elements, so it’s not possible to easily skip elements based on their index, like odd or even indices\n",
    "- Solution: Use a separate variable to keep track of the index\n",
    "\n",
    "```java\n",
    "int[] array = {1, 2, 3, 4, 5, 6, 7};\n",
    "int index = 0;\n",
    "\n",
    "for (int num : array) {\n",
    "    if (index % 2 != 0) {  // Check if index is odd\n",
    "        System.out.println(num);\n",
    "    }\n",
    "    index++;\n",
    "}\n",
    "```"
   ]
  },
  {
   "cell_type": "markdown",
   "metadata": {},
   "source": [
    "## Traversing with a `while` loop\n",
    "- The `while` loop is used to iterate over a block of code as long as the condition is true.\n",
    "- The syntax of the `while` loop is as follows:\n",
    "\n",
    "```java\n",
    "while (condition) {\n",
    "    // code to be executed\n",
    "}\n",
    "```\n",
    "\n",
    "### Example of while loop"
   ]
  },
  {
   "cell_type": "code",
   "execution_count": null,
   "metadata": {
    "vscode": {
     "languageId": "java"
    }
   },
   "outputs": [],
   "source": [
    "public static void main(String[] args) {    \n",
    "    int[] arr = new int[5];\n",
    "    int position = 0;\n",
    "    while (position < arr.length) {\n",
    "        arr[position] = (int) (Math.random() * 100);\n",
    "        position ++;\n",
    "    }\n",
    "    System.out.println(Arrays.toString(arr));\n",
    "}\n",
    "main(null);"
   ]
  },
  {
   "cell_type": "markdown",
   "metadata": {},
   "source": [
    "Does the while loop accomplish **traversing** the array?<br>\n",
    "Remember that traversing means to access each element of an array."
   ]
  }
 ],
 "metadata": {
  "kernelspec": {
   "display_name": "java (IJava/j!)",
   "language": "java",
   "name": "jbang-ijava"
  },
  "language_info": {
   "codemirror_mode": "java",
   "file_extension": ".jshell",
   "mimetype": "text/x-java-source",
   "name": "Java",
   "pygments_lexer": "java",
   "version": "17.0.11+7-LTS-207"
  }
 },
 "nbformat": 4,
 "nbformat_minor": 2
}
