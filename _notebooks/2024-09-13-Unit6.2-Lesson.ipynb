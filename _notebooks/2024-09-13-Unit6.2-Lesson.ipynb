{
 "cells": [
  {
   "cell_type": "markdown",
   "metadata": {},
   "source": [
    "---\n",
    "layout: post\n",
    "title: Unit 6.2 Lesson\n",
    "type: collab \n",
    "toc: false\n",
    "courses: {csa: {week: 4}}\n",
    "---"
   ]
  },
  {
   "cell_type": "markdown",
   "metadata": {},
   "source": [
    "# 6.2 Traversing Arrays\n",
    "Using iterative statements (such as standard for loops and while loops) to traverse each element in an array.\n",
    "<br>\n",
    "\n",
    "## Traversing using a `for` loop\n",
    "\n",
    "- Traversing an array means to access each element of an array.\n",
    "    - Since an array is indexed from 0 to the number of elements -1, a standard for loop is a convenient way to accomplish traversal of an array.\n",
    "\n",
    "The `for` loop is used to iterate over a sequence of elements. The syntax of the `for` loop is as follows:\n",
    "<br>\n",
    "```java\n",
    "for (initialization; condition; increment/decrement) {\n",
    "    // code to be executed\n",
    "}\n",
    "```\n",
    "\n",
    "![forloopimage](https://www.w3resource.com/w3r_images/java-for-loop-image1.png)\n",
    "\n",
    "\n"
   ]
  }
 ],
 "metadata": {
  "language_info": {
   "name": "python"
  }
 },
 "nbformat": 4,
 "nbformat_minor": 2
}
