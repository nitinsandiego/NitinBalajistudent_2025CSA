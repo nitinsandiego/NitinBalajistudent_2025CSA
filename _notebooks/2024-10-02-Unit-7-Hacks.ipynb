{
 "cells": [
  {
   "cell_type": "markdown",
   "metadata": {},
   "source": [
    "---\n",
    "layout: post\n",
    "title: Unit 7 Hacks\n",
    "type: collab \n",
    "toc: true\n",
    "courses: {csa: {week: 6}}\n",
    "---"
   ]
  },
  {
   "cell_type": "markdown",
   "metadata": {},
   "source": [
    "## POPCORN HACKS 7.1 & 7.2\n",
    "\n",
    "Create an ArrayList of Strings with the following elements: \"Apple\", \"Banana\", \"Cherry\", \"Date\", \"Elderberry\".\n",
    "Complete the following tasks using the ArrayList methods you've learned:\n",
    "- Task 1: Print the size of the ArrayList.\n",
    "- Task 2: Add a new element \"Fig\" to the end of the list.\n",
    "- Task 3: Insert \"Grape\" at index 2.\n",
    "- Task 4: Replace the element at index 4 with \"Guava\".\n",
    "- Task 5: Remove the element at index 1.\n",
    "- Task 6: Retrieve and print the element at index 3.\n",
    "\n",
    "At the end of each task, print the current state of the ArrayList to verify the result."
   ]
  },
  {
   "cell_type": "code",
   "execution_count": 1,
   "metadata": {
    "vscode": {
     "languageId": "java"
    }
   },
   "outputs": [
    {
     "name": "stdout",
     "output_type": "stream",
     "text": [
      "Task 1: Size of the ArrayList: 5\n",
      "Task 2: After adding Fig: [Apple, Banana, Cherry, Date, Elderberry, Fig]\n",
      "Task 3: After inserting Grape at index 2: [Apple, Banana, Grape, Cherry, Date, Elderberry, Fig]\n",
      "Task 4: After replacing element at index 4 with Guava: [Apple, Banana, Grape, Cherry, Guava, Elderberry, Fig]\n",
      "Task 5: After removing element at index 1: [Apple, Grape, Cherry, Guava, Elderberry, Fig]\n",
      "Task 6: Element at index 3: Guava\n"
     ]
    }
   ],
   "source": [
    "import java.util.ArrayList;\n",
    "\n",
    "public class PopcornHacks {\n",
    "    public static void main(String[] args) {\n",
    "        // Initialize the ArrayList with elements\n",
    "        ArrayList<String> fruits = new ArrayList<>();\n",
    "        fruits.add(\"Apple\");\n",
    "        fruits.add(\"Banana\");\n",
    "        fruits.add(\"Cherry\");\n",
    "        fruits.add(\"Date\");\n",
    "        fruits.add(\"Elderberry\");\n",
    "\n",
    "        // Task 1: Print the size of the ArrayList\n",
    "        System.out.println(\"Task 1: Size of the ArrayList: \" + fruits.size());\n",
    "\n",
    "        // Task 2: Add \"Fig\" to the end of the list\n",
    "        fruits.add(\"Fig\");\n",
    "        System.out.println(\"Task 2: After adding Fig: \" + fruits);\n",
    "\n",
    "        // Task 3: Insert \"Grape\" at index 2\n",
    "        fruits.add(2, \"Grape\");\n",
    "        System.out.println(\"Task 3: After inserting Grape at index 2: \" + fruits);\n",
    "\n",
    "        // Task 4: Replace the element at index 4 with \"Guava\"\n",
    "        fruits.set(4, \"Guava\");\n",
    "        System.out.println(\"Task 4: After replacing element at index 4 with Guava: \" + fruits);\n",
    "\n",
    "        // Task 5: Remove the element at index 1\n",
    "        fruits.remove(1);\n",
    "        System.out.println(\"Task 5: After removing element at index 1: \" + fruits);\n",
    "\n",
    "        // Task 6: Retrieve and print the element at index 3\n",
    "        String element = fruits.get(3);\n",
    "        System.out.println(\"Task 6: Element at index 3: \" + element);\n",
    "    }\n",
    "}\n",
    "PopcornHacks.main(null);"
   ]
  },
  {
   "cell_type": "markdown",
   "metadata": {},
   "source": [
    "Finish the code below so that it uses the findSum() method and it finds the sum of the numbers. "
   ]
  },
  {
   "cell_type": "code",
   "execution_count": 2,
   "metadata": {
    "vscode": {
     "languageId": "java"
    }
   },
   "outputs": [
    {
     "name": "stdout",
     "output_type": "stream",
     "text": [
      "Sum of the numbers: 19\n"
     ]
    }
   ],
   "source": [
    "import java.util.ArrayList;\n",
    "\n",
    "public class ArrayListHacks {\n",
    "    // Method to find the sum of the ArrayList elements\n",
    "    private int findSum(ArrayList<Integer> values) {\n",
    "        int sum = 0;\n",
    "        for (int value : values) {\n",
    "            sum += value;\n",
    "        }\n",
    "        return sum;\n",
    "    }\n",
    "\n",
    "    public static void main(String[] args) {\n",
    "        // Initialize ArrayList with numbers\n",
    "        ArrayList<Integer> nums = new ArrayList<>();\n",
    "        nums.add(0);\n",
    "        nums.add(1);\n",
    "        nums.add(2);\n",
    "        nums.add(3);\n",
    "        nums.add(5);\n",
    "        nums.add(8);\n",
    "\n",
    "        // Create an instance of ArrayListHacks and find the sum\n",
    "        ArrayListHacks hacks = new ArrayListHacks();\n",
    "        int sum = hacks.findSum(nums);\n",
    "\n",
    "        // Print the sum\n",
    "        System.out.println(\"Sum of the numbers: \" + sum);\n",
    "    }\n",
    "}\n",
    "\n",
    "ArrayListHacks.main(null);"
   ]
  },
  {
   "cell_type": "markdown",
   "metadata": {},
   "source": [
    "## Problem: Sort the Ducks!\n",
    "\n",
    "You have a list of ducks, and each duck has a **name** and **weight**. Your task is to sort these ducks by weight in **ascending order**.\n",
    "\n",
    "Choose **either Selection Sort or Insertion Sort** to do the sorting.\n",
    "\n",
    "### Example:\n",
    "Given this list:\n",
    "- Duck A (4.5 kg)\n",
    "- Duck B (2.1 kg)\n",
    "- Duck C (5.0 kg)\n",
    "- Duck D (1.9 kg)\n",
    "\n",
    "After sorting, the output should be:\n",
    "- Duck D (1.9 kg)\n",
    "- Duck B (2.1 kg)\n",
    "- Duck A (4.5 kg)\n",
    "- Duck C (5.0 kg)\n",
    "\n",
    "You can use this class for the ducks:"
   ]
  },
  {
   "cell_type": "code",
   "execution_count": 3,
   "metadata": {
    "vscode": {
     "languageId": "java"
    }
   },
   "outputs": [
    {
     "name": "stdout",
     "output_type": "stream",
     "text": [
      "Before sorting:\n",
      "Duck A (4.5 kg)\n",
      "Duck B (2.1 kg)\n",
      "Duck C (5.0 kg)\n",
      "Duck D (1.9 kg)\n",
      "\n",
      "After sorting:\n",
      "Duck D (1.9 kg)\n",
      "Duck B (2.1 kg)\n",
      "Duck A (4.5 kg)\n",
      "Duck C (5.0 kg)\n"
     ]
    }
   ],
   "source": [
    "import java.util.ArrayList;\n",
    "\n",
    "class DebugDuck implements Comparable<DebugDuck> {\n",
    "    String name;\n",
    "    double weight;\n",
    "\n",
    "    // Constructor to initialize the duck's name and weight\n",
    "    public DebugDuck(String name, double weight) {\n",
    "        this.name = name;\n",
    "        this.weight = weight;\n",
    "    }\n",
    "\n",
    "    // Compare ducks based on their weight\n",
    "    @Override\n",
    "    public int compareTo(DebugDuck other) {\n",
    "        return Double.compare(this.weight, other.weight);\n",
    "    }\n",
    "\n",
    "    // String representation for printing\n",
    "    @Override\n",
    "    public String toString() {\n",
    "        return name + \" (\" + weight + \" kg)\";\n",
    "    }\n",
    "}\n",
    "\n",
    "public class DuckSorter {\n",
    "    // Selection Sort implementation\n",
    "    public static void selectionSort(ArrayList<DebugDuck> ducks) {\n",
    "        int n = ducks.size();\n",
    "        for (int i = 0; i < n - 1; i++) {\n",
    "            // Find the minimum element in the unsorted part\n",
    "            int minIndex = i;\n",
    "            for (int j = i + 1; j < n; j++) {\n",
    "                if (ducks.get(j).compareTo(ducks.get(minIndex)) < 0) {\n",
    "                    minIndex = j;\n",
    "                }\n",
    "            }\n",
    "            // Swap the found minimum element with the first unsorted element\n",
    "            DebugDuck temp = ducks.get(i);\n",
    "            ducks.set(i, ducks.get(minIndex));\n",
    "            ducks.set(minIndex, temp);\n",
    "        }\n",
    "    }\n",
    "\n",
    "    public static void main(String[] args) {\n",
    "        // Create an ArrayList of ducks\n",
    "        ArrayList<DebugDuck> ducks = new ArrayList<>();\n",
    "        ducks.add(new DebugDuck(\"Duck A\", 4.5));\n",
    "        ducks.add(new DebugDuck(\"Duck B\", 2.1));\n",
    "        ducks.add(new DebugDuck(\"Duck C\", 5.0));\n",
    "        ducks.add(new DebugDuck(\"Duck D\", 1.9));\n",
    "\n",
    "        // Print the list before sorting\n",
    "        System.out.println(\"Before sorting:\");\n",
    "        for (DebugDuck duck : ducks) {\n",
    "            System.out.println(duck);\n",
    "        }\n",
    "\n",
    "        // Sort the ducks by weight\n",
    "        selectionSort(ducks);\n",
    "\n",
    "        // Print the list after sorting\n",
    "        System.out.println(\"\\nAfter sorting:\");\n",
    "        for (DebugDuck duck : ducks) {\n",
    "            System.out.println(duck);\n",
    "        }\n",
    "    }\n",
    "}\n",
    "\n",
    "DuckSorter.main(null);"
   ]
  },
  {
   "cell_type": "markdown",
   "metadata": {},
   "source": [
    "## Mini Hack:\n",
    "\n",
    "What can be used in place of the blank to ensure the users data is cleared?"
   ]
  },
  {
   "cell_type": "code",
   "execution_count": 4,
   "metadata": {
    "vscode": {
     "languageId": "java"
    }
   },
   "outputs": [],
   "source": [
    "ArrayList<String> userData = new ArrayList<>();\n",
    "userData.add(\"John Doe\");\n",
    "userData.add(\"john@example.com\");\n",
    "\n",
    "// Once you're done using the data\n",
    "userData.clear();  // Removes all entries from the list\n",
    "userData = null;   // Removes the reference to the ArrayList"
   ]
  },
  {
   "cell_type": "markdown",
   "metadata": {},
   "source": [
    "## **ArrayList Coding Activity**\n",
    "\n",
    "### **Objective:**\n",
    "Students will create, manipulate, and sort an `ArrayList` of integers.\n",
    "\n",
    "### **Activity Outline:**\n",
    "\n",
    "1. **Create an ArrayList:**\n",
    "   - **Task:** Create an `ArrayList` of integers and add 5 elements of your choice.\n",
    "   - **Hint:** Use the `ArrayList` class and the `.add()` method to add elements.\n",
    "\n",
    "2. **Modify an Element:**\n",
    "   - **Task:** Change the second element (index 1) of the `ArrayList` to a new value (e.g., 100).\n",
    "   - **Hint:** The `.set()` method allows you to update an element at a specific index.\n",
    "\n",
    "3. **Remove an Element:**\n",
    "   - **Task:** Remove the third element (index 2) from the `ArrayList`.\n",
    "   - **Hint:** Use the `.remove()` method to delete an element by its index.\n",
    "\n",
    "4. **Search for an Element:**\n",
    "   - **Task:** Check if a specific number (e.g., 30) is in the `ArrayList` and print a message based on whether it is found or not.\n",
    "   - **Hint:** The `.contains()` method can be used to check for the presence of an element.\n",
    "\n",
    "5. **Loop Through the ArrayList:**\n",
    "   - **Task:** Use a `for` loop to print each element of the `ArrayList`.\n",
    "   - **Hint:** You can use a traditional `for` loop or an enhanced `for` loop (`for-each`) to iterate through the elements.\n",
    "\n",
    "6. **Sort the ArrayList:**\n",
    "   - **Task:** Sort the `ArrayList` in ascending order.\n",
    "   - **Hint:** Use `Collections.sort()` to sort the `ArrayList`.\n",
    "\n",
    "7. **Print the Sorted ArrayList:**\n",
    "   - **Task:** Print the sorted `ArrayList` to see the updated order of the elements.\n",
    "   - **Hint:** Use `System.out.println()` to print the sorted list.\n"
   ]
  },
  {
   "cell_type": "code",
   "execution_count": 5,
   "metadata": {
    "vscode": {
     "languageId": "java"
    }
   },
   "outputs": [
    {
     "name": "stdout",
     "output_type": "stream",
     "text": [
      "Initial ArrayList: [10, 20, 30, 40, 50]\n",
      "After modifying the second element: [10, 100, 30, 40, 50]\n",
      "After removing the third element: [10, 100, 40, 50]\n",
      "30 is not in the ArrayList.\n",
      "Elements in the ArrayList:\n",
      "10\n",
      "100\n",
      "40\n",
      "50\n",
      "Sorted ArrayList: [10, 40, 50, 100]\n"
     ]
    }
   ],
   "source": [
    "import java.util.ArrayList;\n",
    "import java.util.Collections;\n",
    "\n",
    "public class ArrayListActivity {\n",
    "    public static void main(String[] args) {\n",
    "        // 1. Create an ArrayList and add 5 elements\n",
    "        ArrayList<Integer> numbers = new ArrayList<>();\n",
    "        numbers.add(10);\n",
    "        numbers.add(20);\n",
    "        numbers.add(30);\n",
    "        numbers.add(40);\n",
    "        numbers.add(50);\n",
    "        System.out.println(\"Initial ArrayList: \" + numbers);\n",
    "\n",
    "        // 2. Modify the second element (index 1) to a new value (e.g., 100)\n",
    "        numbers.set(1, 100);\n",
    "        System.out.println(\"After modifying the second element: \" + numbers);\n",
    "\n",
    "        // 3. Remove the third element (index 2)\n",
    "        numbers.remove(2);\n",
    "        System.out.println(\"After removing the third element: \" + numbers);\n",
    "\n",
    "        // 4. Search for an element (e.g., 30) in the ArrayList\n",
    "        if (numbers.contains(30)) {\n",
    "            System.out.println(\"30 is in the ArrayList.\");\n",
    "        } else {\n",
    "            System.out.println(\"30 is not in the ArrayList.\");\n",
    "        }\n",
    "\n",
    "        // 5. Loop through the ArrayList and print each element\n",
    "        System.out.println(\"Elements in the ArrayList:\");\n",
    "        for (int num : numbers) {\n",
    "            System.out.println(num);\n",
    "        }\n",
    "\n",
    "        // 6. Sort the ArrayList in ascending order\n",
    "        Collections.sort(numbers);\n",
    "\n",
    "        // 7. Print the sorted ArrayList\n",
    "        System.out.println(\"Sorted ArrayList: \" + numbers);\n",
    "    }\n",
    "}\n",
    "ArrayListActivity.main(null);"
   ]
  }
 ],
 "metadata": {
  "kernelspec": {
   "display_name": "java (IJava/j!)",
   "language": "java",
   "name": "jbang-ijava"
  },
  "language_info": {
   "codemirror_mode": "java",
   "file_extension": ".jshell",
   "mimetype": "text/x-java-source",
   "name": "Java",
   "pygments_lexer": "java",
   "version": "17.0.11+7-LTS-207"
  }
 },
 "nbformat": 4,
 "nbformat_minor": 2
}
