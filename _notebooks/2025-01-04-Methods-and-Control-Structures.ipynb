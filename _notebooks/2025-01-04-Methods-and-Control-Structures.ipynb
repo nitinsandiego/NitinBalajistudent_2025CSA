{
 "cells": [
  {
   "cell_type": "markdown",
   "metadata": {},
   "source": [
    "---\n",
    "toc: false\n",
    "layout: post\n",
    "title: Methods and Control Structures FRQ\n",
    "type: collab\n",
    "permalink: /methods-and-control-structures-frq\n",
    "courses: {csa: {week: 16}}\n",
    "author: Nitin Balaji, Saathvik Gampa, Aidan Lau\n",
    "---"
   ]
  },
  {
   "cell_type": "code",
   "execution_count": null,
   "metadata": {
    "vscode": {
     "languageId": "plaintext"
    }
   },
   "outputs": [],
   "source": []
  }
 ],
 "metadata": {
  "language_info": {
   "name": "python"
  }
 },
 "nbformat": 4,
 "nbformat_minor": 2
}
