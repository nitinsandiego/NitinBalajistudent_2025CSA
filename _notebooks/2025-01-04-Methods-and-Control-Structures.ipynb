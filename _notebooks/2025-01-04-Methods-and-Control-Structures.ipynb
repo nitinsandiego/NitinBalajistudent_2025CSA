{
 "cells": [
  {
   "cell_type": "markdown",
   "metadata": {},
   "source": [
    "---\n",
    "toc: false\n",
    "layout: post\n",
    "title: Methods and Control Structures FRQ\n",
    "type: collab\n",
    "permalink: /methods-and-control-structures-frq\n",
    "courses: {csa: {week: 16}}\n",
    "author: Nitin Balaji, Saathvik Gampa, Aidan Lau\n",
    "---"
   ]
  },
  {
   "cell_type": "markdown",
   "metadata": {
    "vscode": {
     "languageId": "plaintext"
    }
   },
   "source": [
    "# Methods\n",
    "\n",
    "## What are methods?\n",
    "- Reusable code that performs specific tasks.\n",
    "- Helps break down programs into manageable parts.\n",
    "\n",
    "## Key Parts of a Method:\n",
    "- Declaration: Defines the method `(e.g., public int add(int a, int b))`.\n",
    "- Return Types: Specifies what the method returns `(int, void, etc.)`.\n",
    "- Parameters: Inputs for dynamic behavior.\n",
    "\n",
    "## Types of Methods:\n",
    "- Instance: Belongs to objects (e.g., myObject.method()).\n",
    "- Static: Belongs to the class (e.g., ClassName.method())."
   ]
  }
 ],
 "metadata": {
  "language_info": {
   "name": "python"
  }
 },
 "nbformat": 4,
 "nbformat_minor": 2
}
