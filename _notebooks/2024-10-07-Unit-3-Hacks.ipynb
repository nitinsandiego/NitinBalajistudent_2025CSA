{
 "cells": [
  {
   "cell_type": "markdown",
   "metadata": {},
   "source": [
    "---\n",
    "layout: post\n",
    "title: Unit 3 Hacks\n",
    "type: ccc \n",
    "toc: true\n",
    "courses: {csa: {week: 7}}\n",
    "---"
   ]
  },
  {
   "cell_type": "markdown",
   "metadata": {},
   "source": [
    "## Popcorn hack\n",
    "\n",
    "whats wrong with this code? (below)"
   ]
  },
  {
   "cell_type": "code",
   "execution_count": null,
   "metadata": {
    "vscode": {
     "languageId": "java"
    }
   },
   "outputs": [],
   "source": [
    "String myName = Alisha;\n",
    "\n",
    "myName != Anika;\n",
    "myName == Alisha ;"
   ]
  },
  {
   "cell_type": "code",
   "execution_count": 1,
   "metadata": {
    "vscode": {
     "languageId": "java"
    }
   },
   "outputs": [
    {
     "name": "stdout",
     "output_type": "stream",
     "text": [
      "myName is not Anika\n",
      "myName is Alisha\n"
     ]
    }
   ],
   "source": [
    "String myName = \"Alisha\";\n",
    "\n",
    "// Check if myName is not equal to \"Anika\"\n",
    "if (!myName.equals(\"Anika\")) {\n",
    "    System.out.println(\"myName is not Anika\");\n",
    "}\n",
    "\n",
    "// Check if myName is equal to \"Alisha\"\n",
    "if (myName.equals(\"Alisha\")) {\n",
    "    System.out.println(\"myName is Alisha\");\n",
    "}"
   ]
  },
  {
   "cell_type": "markdown",
   "metadata": {},
   "source": [
    "## Homework question\n",
    "\n",
    "![unit3pic](https://github.com/user-attachments/assets/1fe21854-ca17-4cfd-9e9d-14a92e6e6205)"
   ]
  }
 ],
 "metadata": {
  "kernelspec": {
   "display_name": "java (IJava/j!)",
   "language": "java",
   "name": "jbang-ijava"
  },
  "language_info": {
   "codemirror_mode": "java",
   "file_extension": ".jshell",
   "mimetype": "text/x-java-source",
   "name": "Java",
   "pygments_lexer": "java",
   "version": "17.0.11+7-LTS-207"
  }
 },
 "nbformat": 4,
 "nbformat_minor": 2
}
