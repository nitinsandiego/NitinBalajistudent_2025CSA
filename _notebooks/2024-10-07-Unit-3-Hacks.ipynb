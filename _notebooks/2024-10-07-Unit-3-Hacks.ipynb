{
 "cells": [
  {
   "cell_type": "markdown",
   "metadata": {},
   "source": [
    "---\n",
    "layout: post\n",
    "title: Unit 3 Hacks\n",
    "type: ccc \n",
    "toc: true\n",
    "courses: {csa: {week: 7}}\n",
    "---"
   ]
  },
  {
   "cell_type": "markdown",
   "metadata": {},
   "source": [
    "## Popcorn hack\n",
    "\n",
    "whats wrong with this code? (below)"
   ]
  },
  {
   "cell_type": "code",
   "execution_count": null,
   "metadata": {
    "vscode": {
     "languageId": "java"
    }
   },
   "outputs": [],
   "source": [
    "String myName = Alisha;\n",
    "\n",
    "myName != Anika;\n",
    "myName == Alisha ;"
   ]
  },
  {
   "cell_type": "code",
   "execution_count": 1,
   "metadata": {
    "vscode": {
     "languageId": "java"
    }
   },
   "outputs": [
    {
     "name": "stdout",
     "output_type": "stream",
     "text": [
      "myName is not Anika\n",
      "myName is Alisha\n"
     ]
    }
   ],
   "source": [
    "String myName = \"Alisha\";\n",
    "\n",
    "// Check if myName is not equal to \"Anika\"\n",
    "if (!myName.equals(\"Anika\")) {\n",
    "    System.out.println(\"myName is not Anika\");\n",
    "}\n",
    "\n",
    "// Check if myName is equal to \"Alisha\"\n",
    "if (myName.equals(\"Alisha\")) {\n",
    "    System.out.println(\"myName is Alisha\");\n",
    "}"
   ]
  },
  {
   "cell_type": "markdown",
   "metadata": {},
   "source": [
    "## Homework question\n",
    "\n",
    "![unit3pic](https://github.com/user-attachments/assets/1fe21854-ca17-4cfd-9e9d-14a92e6e6205)\n",
    "\n",
    "What is the precondition for num?\n",
    "\n",
    "```java\n",
    "public static int getCheck(int num) {\n",
    "    // Ensure the number of digits in num is between 1 and 6\n",
    "    if (num < 0 || num > 999999 || num == 0) {\n",
    "        throw new IllegalArgumentException(\"num must have between 1 and 6 digits and be positive.\");\n",
    "    }\n",
    "\n",
    "    // Rest of the implementation\n",
    "    return -1;  // Placeholder return value\n",
    "}\n",
    "```"
   ]
  },
  {
   "cell_type": "markdown",
   "metadata": {},
   "source": [
    "## Popcorn hack\n",
    "\n",
    "create test cases that do not satisy the condition above. you can copy/paste the code into the new code cell"
   ]
  },
  {
   "cell_type": "code",
   "execution_count": 3,
   "metadata": {
    "vscode": {
     "languageId": "java"
    }
   },
   "outputs": [
    {
     "name": "stdout",
     "output_type": "stream",
     "text": [
      "Current age: 16\n",
      "You can start learning to drive!\n",
      "On your next birthday, you will be 17 years old!\n",
      "\n",
      "Test case: underAge = 15\n",
      "You cannot start learning to drive.\n",
      "\n",
      "Test case: toddlerAge = 5\n",
      "You cannot start learning to drive.\n",
      "\n",
      "Test case: boundaryAge = 16\n",
      "You can start learning to drive!\n"
     ]
    }
   ],
   "source": [
    "public static void main(String[] args) {\n",
    "    int myAge = 16;\n",
    "    System.out.println(\"Current age: \" + myAge);\n",
    "    \n",
    "    if (myAge >= 16) {\n",
    "        System.out.println(\"You can start learning to drive!\");\n",
    "    }\n",
    "\n",
    "    System.out.println(\"On your next birthday, you will be \" + (myAge + 1) + \" years old!\");\n",
    "\n",
    "    // Test case where age is less than 16 (does not satisfy the driving condition)\n",
    "    int underAge = 15;\n",
    "    System.out.println(\"\\nTest case: underAge = \" + underAge);\n",
    "    if (underAge >= 16) {\n",
    "        System.out.println(\"You can start learning to drive!\");\n",
    "    } else {\n",
    "        System.out.println(\"You cannot start learning to drive.\");\n",
    "    }\n",
    "\n",
    "    // Test case where age is far below the driving age\n",
    "    int toddlerAge = 5;\n",
    "    System.out.println(\"\\nTest case: toddlerAge = \" + toddlerAge);\n",
    "    if (toddlerAge >= 16) {\n",
    "        System.out.println(\"You can start learning to drive!\");\n",
    "    } else {\n",
    "        System.out.println(\"You cannot start learning to drive.\");\n",
    "    }\n",
    "\n",
    "    // Test case where age is equal to 16 (boundary condition)\n",
    "    int boundaryAge = 16;\n",
    "    System.out.println(\"\\nTest case: boundaryAge = \" + boundaryAge);\n",
    "    if (boundaryAge >= 16) {\n",
    "        System.out.println(\"You can start learning to drive!\");\n",
    "    }\n",
    "}\n",
    "main(null);"
   ]
  },
  {
   "cell_type": "markdown",
   "metadata": {},
   "source": [
    "## Popcorn hack\n",
    "- explain the purpose of this algorithm, and what each if condition is used for\n",
    "- what would be output if input is \n",
    "    - age 20\n",
    "    - anual income 1500\n",
    "    - student status: yes\n",
    "\n",
    "The `checkMembershipEligibility` function checks if a user qualifies for various types of memberships or discounts based on their age, annual income, and student status.\n",
    "\n",
    "The output would be **You are eligible for a Student Discount.**"
   ]
  },
  {
   "cell_type": "markdown",
   "metadata": {},
   "source": [
    "## Popcorn Hack #2\n",
    "\n",
    "- Write a program that checks if a person can get a discount based on their age and student status. You can define your own discount criteria! Use compound conditionals to determine the output."
   ]
  },
  {
   "cell_type": "code",
   "execution_count": 4,
   "metadata": {
    "vscode": {
     "languageId": "java"
    }
   },
   "outputs": [
    {
     "name": "stdout",
     "output_type": "stream",
     "text": [
      "You qualify for a Student or Youth Discount.\n"
     ]
    }
   ],
   "source": [
    "public class Main {\n",
    "    public static void main(String[] args) {\n",
    "        int age = 30; // Change this value for testing\n",
    "        boolean isStudent = true; // Change this value for testing\n",
    "\n",
    "        // Compound conditional logic\n",
    "        if (age < 18 || isStudent) {\n",
    "            System.out.println(\"You qualify for a Student or Youth Discount.\");\n",
    "        } else if (age >= 65) {\n",
    "            System.out.println(\"You qualify for a Senior Discount.\");\n",
    "        } else {\n",
    "            System.out.println(\"No discounts available.\");\n",
    "        }\n",
    "    }\n",
    "}\n",
    "Main.main(null);"
   ]
  },
  {
   "cell_type": "markdown",
   "metadata": {},
   "source": [
    "## Popcorn Hack \n",
    "\n",
    "### Challenge Questions\n",
    "\n",
    "1. **What is `!(x == 0)` equivalent to?**\n",
    "   - Apply De Morgan's Law to find an equivalent expression.\n",
    "\n",
    "Answer: `x != 0`\n",
    "\n",
    "2. **Negate the expression `(x < -5 || x > 10)`.**\n",
    "   - Use De Morgan's Law to rewrite this expression in a different form.\n",
    "\n",
    "Answer: `x >= -5 && x <= 10`"
   ]
  },
  {
   "cell_type": "markdown",
   "metadata": {},
   "source": [
    "## Popcorn hack\n",
    "\n",
    "Would the sharons house and my house be the same?"
   ]
  },
  {
   "cell_type": "code",
   "execution_count": 5,
   "metadata": {
    "vscode": {
     "languageId": "java"
    }
   },
   "outputs": [
    {
     "name": "stdout",
     "output_type": "stream",
     "text": [
      "true\n"
     ]
    }
   ],
   "source": [
    "class House {\n",
    "    private String color;\n",
    "    private int size;\n",
    "\n",
    "    public House(String color, int size) {\n",
    "        this.color = color;\n",
    "        this.size = size;\n",
    "    }\n",
    "\n",
    "    // Override equals method to compare House objects by content\n",
    "    @Override\n",
    "    public boolean equals(Object obj) {\n",
    "        if (this == obj) return true;  // Check if same object reference\n",
    "        if (obj == null || getClass() != obj.getClass()) return false;  // Check if same class\n",
    "        House house = (House) obj;\n",
    "        return size == house.size && color.equals(house.color);  // Compare attributes\n",
    "    }\n",
    "}\n",
    "\n",
    "public class Main {\n",
    "    public static void main(String[] args) {\n",
    "        House myHouse = new House(\"green\", 150);\n",
    "        House anikasHouse = new House(\"green\", 150);\n",
    "        House sharonsHouse = new House(\"green\", 150);\n",
    "\n",
    "        // Correct comparison using equals()\n",
    "        System.out.println(myHouse.equals(sharonsHouse));  // This should return true\n",
    "    }\n",
    "}\n",
    "Main.main(null);\n"
   ]
  },
  {
   "cell_type": "markdown",
   "metadata": {},
   "source": [
    "**Answer** = `true`"
   ]
  },
  {
   "cell_type": "markdown",
   "metadata": {},
   "source": [
    "# Homework: Membership Recommendation System\n",
    "\n",
    "## Problem Overview\n",
    "\n",
    "You are building a membership recommendation system for a fictional company called **\"Prime Club.\"** This system will suggest the most suitable membership tier (or tiers) for a user based on their age, annual income, student status, and employment type. There are 4 types of memberships:\n",
    "\n",
    "### Membership Types\n",
    "\n",
    "1. **Basic Membership:**\n",
    "   - **Requirements:**\n",
    "     - Age ≥ 18\n",
    "     - Annual income ≥ $20,000\n",
    "\n",
    "2. **Premium Membership:**\n",
    "   - **Requirements:**\n",
    "     - Age ≥ 25\n",
    "     - Annual income ≥ $50,000\n",
    "\n",
    "3. **Student Discount:**\n",
    "   - **Requirements:**\n",
    "     - Must be a student.\n",
    "\n",
    "4. **Senior Discount:**\n",
    "   - **Requirements:**\n",
    "     - Age ≥ 65\n",
    "\n",
    "## Task Description\n",
    "\n",
    "Using conditional statements, Boolean expressions, and comparison techniques you’ve learned, write a Java program that:\n",
    "\n",
    "1. Prompts the user to input the following:\n",
    "   - Age (as an integer)\n",
    "   - Annual income (as a double)\n",
    "   - Student status (yes or no)\n",
    "   - Employment type (full-time, part-time, unemployed)\n",
    "\n",
    "2. Based on these inputs, your program should print out all membership tiers and discounts the user qualifies for. If the user does not qualify for any membership or discount, the program should print:  \n",
    "   **\"You do not qualify for any memberships or discounts.\"**\n",
    "\n",
    "## Additional Challenge\n",
    "\n",
    "Add a final recommendation where your program prioritizes the **\"best\" membership** for the user if they qualify for multiple memberships (use an `else-if` structure).\n",
    "\n",
    "The best membership should be decided based on the following priorities:\n",
    "1. **Premium Membership** (highest priority)\n",
    "2. **Senior Discount**\n",
    "3. **Student Discount**\n",
    "4. **Basic Membership** (lowest priority)\n",
    "\n",
    "<details>\n",
    "<summary><strong>Hints</strong> (click to reveal)</summary>\n",
    "\n",
    "1. **Input Validation:**\n",
    "   - Ensure that age is a positive integer, and annual income is a positive double.\n",
    "   - Student status input should be case-insensitive (\"yes\" or \"no\").\n",
    "   - Employment type should be one of: \"full-time\", \"part-time\", or \"unemployed.\"\n",
    "\n",
    "2. **Conditions to Consider:**\n",
    "   - Use `if-else` statements to check for membership qualifications.\n",
    "   - Remember to handle multiple conditions where a user qualifies for more than one membership.\n",
    "\n",
    "3. **Recommendation Logic:**\n",
    "   - Use `else-if` statements to prioritize the memberships based on the provided hierarchy.\n",
    "\n",
    "</details>\n",
    "\n",
    "## Constraints\n",
    "\n",
    "- Age must be a positive integer.\n",
    "- Annual income must be a positive double.\n",
    "- Student status should only accept \"yes\" or \"no\" (case-insensitive).\n",
    "- Employment type should be one of: \"full-time\", \"part-time\", or \"unemployed.\"\n",
    "\n",
    "Senior Discount:\n",
    "\n",
    "Requirements:\n",
    "Age ≥ 65\n",
    "Task Description:\n",
    "Using conditional statements, Boolean expressions, and comparison techniques you’ve learned, write a Java program that:\n",
    "\n",
    "Prompts the user to input the following:\n",
    "\n",
    "Age (as an integer)\n",
    "Annual income (as a double)\n",
    "Student status (yes or no)\n",
    "Employment type (full-time, part-time, unemployed)\n",
    "Based on these inputs, your program should print out all membership tiers and discounts the user qualifies for. If the user does not qualify for any membership or discount, the program should print out: \"You do not qualify for any memberships or discounts.\"\n",
    "\n",
    "Additional Challenge: Add a final recommendation where your program prioritizes the \"best\" membership for the user if they qualify for multiple memberships (use an else-if structure).\n",
    "\n",
    "The best membership should be decided based on the following priorities:\n",
    "Premium Membership (highest priority)\n",
    "Senior Discount\n",
    "Student Discount\n",
    "Basic Membership (lowest priority)\n",
    "Constraints:\n",
    "Age must be a positive integer.\n",
    "Annual income must be a positive double.\n",
    "Student status should only accept \"yes\" or \"no\" (case-insensitive).\n",
    "Employment type should be one of: \"full-time\", \"part-time\", or \"unemployed.\""
   ]
  },
  {
   "cell_type": "code",
   "execution_count": 7,
   "metadata": {
    "vscode": {
     "languageId": "java"
    }
   },
   "outputs": [
    {
     "name": "stdout",
     "output_type": "stream",
     "text": [
      "Enter your age: \n",
      "Enter your annual income: \n",
      "Are you a student? (yes/no): \n",
      "Employment type (full-time, part-time, unemployed): \n",
      "You qualify for a Student Discount.\n"
     ]
    }
   ],
   "source": [
    "import java.util.Scanner;\n",
    "\n",
    "public class MembershipSystem {\n",
    "    public static void main(String[] args) {\n",
    "        Scanner sc = new Scanner(System.in);\n",
    "\n",
    "        // Collect user inputs\n",
    "        System.out.println(\"Enter your age: \");\n",
    "        int age = sc.nextInt();\n",
    "\n",
    "        System.out.println(\"Enter your annual income: \");\n",
    "        double income = sc.nextDouble();\n",
    "\n",
    "        System.out.println(\"Are you a student? (yes/no): \");\n",
    "        String studentStatus = sc.next().toLowerCase();\n",
    "        boolean isStudent = studentStatus.equals(\"yes\");\n",
    "\n",
    "        System.out.println(\"Employment type (full-time, part-time, unemployed): \");\n",
    "        String employment = sc.next().toLowerCase();\n",
    "\n",
    "        // Variable to track whether the user qualifies for a membership\n",
    "        boolean hasMembership = false;\n",
    "\n",
    "        // Membership and Discount checks\n",
    "        if (age >= 25 && income >= 50000) {\n",
    "            System.out.println(\"You qualify for Premium Membership.\");\n",
    "            hasMembership = true;\n",
    "        } else if (age >= 65) {\n",
    "            System.out.println(\"You qualify for Senior Discount.\");\n",
    "            hasMembership = true;\n",
    "        } else if (isStudent) {\n",
    "            System.out.println(\"You qualify for a Student Discount.\");\n",
    "            hasMembership = true;\n",
    "        } else if (age >= 18 && income >= 20000) {\n",
    "            System.out.println(\"You qualify for Basic Membership.\");\n",
    "            hasMembership = true;\n",
    "        }\n",
    "\n",
    "        // If no memberships are applicable\n",
    "        if (!hasMembership) {\n",
    "            System.out.println(\"You do not qualify for any memberships or discounts.\");\n",
    "        }\n",
    "    }\n",
    "}\n",
    "MembershipSystem.main(null);"
   ]
  }
 ],
 "metadata": {
  "kernelspec": {
   "display_name": "java (IJava/j!)",
   "language": "java",
   "name": "jbang-ijava"
  },
  "language_info": {
   "codemirror_mode": "java",
   "file_extension": ".jshell",
   "mimetype": "text/x-java-source",
   "name": "Java",
   "pygments_lexer": "java",
   "version": "17.0.11+7-LTS-207"
  }
 },
 "nbformat": 4,
 "nbformat_minor": 2
}
