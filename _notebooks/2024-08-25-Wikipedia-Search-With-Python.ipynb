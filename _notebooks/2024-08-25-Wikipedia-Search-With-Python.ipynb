{
 "cells": [
  {
   "cell_type": "markdown",
   "metadata": {},
   "source": [
    "---\n",
    "layout: post\n",
    "title: Wikipedia Search using Python \n",
    "description:  Wikipedia Search using Python \n",
    "type: issues \n",
    "comments: true\n",
    "toc: false\n",
    "---"
   ]
  },
  {
   "cell_type": "code",
   "execution_count": 1,
   "metadata": {},
   "outputs": [
    {
     "name": "stdout",
     "output_type": "stream",
     "text": [
      "\n",
      "Original Summary:\n",
      "Sir Lewis Carl Davidson Hamilton   (born 7 January 1985) is a British racing driver competing in Formula One, driving for Mercedes. Hamilton has won a joint-record seven Formula One World Drivers' Championship titles (tied with Michael Schumacher), and holds the records for most wins (105), pole positions (104), and podium finishes (201), among others.\n",
      "Born and raised in Stevenage, Hertfordshire, Hamilton joined the McLaren Young Driver Programme in 1998.\n",
      "\n",
      "Modified Summary with Emojis:\n",
      "Sir Lewis Carl Davidson Hamilton (born 7 January 1985) is a British 🇬🇧 racing 🏎️ driver competing in Formula One, driving for Mercedes. Hamilton has won 🥇 a joint-record seven Formula One World Drivers' Championship titles (tied with Michael Schumacher), and holds the records for most wins (105), pole positions (104), and podium finishes (201), among others. Born 👶 and raised in Stevenage, Hertfordshire, Hamilton joined the McLaren Young Driver Programme in 1998.\n"
     ]
    }
   ],
   "source": [
    "import wikipedia\n",
    "\n",
    "def get_wikipedia_summary(topic):\n",
    "    # Fetch the summary of the topic from Wikipedia\n",
    "    summary = wikipedia.summary(topic, sentences=3)\n",
    "    return summary\n",
    "\n",
    "def add_emoji_to_text(text):\n",
    "    # Dictionary of keywords and corresponding emojis\n",
    "    emoji_dict = {\n",
    "        \"happy\": \"😊\",\n",
    "        \"sad\": \"😢\",\n",
    "        \"love\": \"❤️\",\n",
    "        \"angry\": \"😠\",\n",
    "        \"excited\": \"😃\",\n",
    "        \"surprised\": \"😮\",\n",
    "        \"victory\": \"🏆\",\n",
    "        \"fire\": \"🔥\",\n",
    "        \"warning\": \"⚠️\",\n",
    "        \"science\": \"🔬\",\n",
    "        \"racing\": \"🏎️\",\n",
    "        \"british\": \"🇬🇧\",\n",
    "        \"won\": \"🥇\",\n",
    "        \"born\": \"👶\"\n",
    "    }\n",
    "    \n",
    "    # Split the text into words\n",
    "    words = text.split()\n",
    "    \n",
    "    # Create a new list to hold the modified words\n",
    "    new_words = []\n",
    "    \n",
    "    # Loop through each word in the original text\n",
    "    for word in words:\n",
    "        # Check if the word matches a keyword in the emoji dictionary\n",
    "        lower_word = word.lower().strip(\",.!\")\n",
    "        if lower_word in emoji_dict:\n",
    "            # Add the emoji to the word\n",
    "            new_word = word + \" \" + emoji_dict[lower_word]\n",
    "        else:\n",
    "            # If no match, keep the word as is\n",
    "            new_word = word\n",
    "        # Append the modified or original word to the new list\n",
    "        new_words.append(new_word)\n",
    "    \n",
    "    # Join the new list of words back into a string\n",
    "    modified_text = \" \".join(new_words)\n",
    "    \n",
    "    return modified_text\n",
    "\n",
    "# Prompt the user to enter a Wikipedia topic\n",
    "topic = input(\"Enter a Wikipedia topic: \")\n",
    "\n",
    "# Retrieve the summary from Wikipedia\n",
    "summary = get_wikipedia_summary(topic)\n",
    "\n",
    "# Display the original summary\n",
    "print(\"\\nOriginal Summary:\")\n",
    "print(summary)\n",
    "\n",
    "# Process the summary with emoji and display the result\n",
    "emoji_text = add_emoji_to_text(summary)\n",
    "\n",
    "print(\"\\nModified Summary with Emojis:\")\n",
    "print(emoji_text)"
   ]
  }
 ],
 "metadata": {
  "kernelspec": {
   "display_name": "venv",
   "language": "python",
   "name": "python3"
  },
  "language_info": {
   "codemirror_mode": {
    "name": "ipython",
    "version": 3
   },
   "file_extension": ".py",
   "mimetype": "text/x-python",
   "name": "python",
   "nbconvert_exporter": "python",
   "pygments_lexer": "ipython3",
   "version": "3.11.7"
  }
 },
 "nbformat": 4,
 "nbformat_minor": 2
}
