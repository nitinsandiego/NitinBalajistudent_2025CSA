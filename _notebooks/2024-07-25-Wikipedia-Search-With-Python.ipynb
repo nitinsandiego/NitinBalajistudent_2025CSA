{
 "cells": [
  {
   "cell_type": "markdown",
   "metadata": {},
   "source": [
    "---\n",
    "layout: post\n",
    "title: Wikipedia Search using Python \n",
    "description:  Wikipedia Search using Python \n",
    "type: issues \n",
    "comments: true\n",
    "toc: false\n",
    "---"
   ]
  },
  {
   "cell_type": "code",
   "execution_count": 2,
   "metadata": {},
   "outputs": [
    {
     "name": "stdout",
     "output_type": "stream",
     "text": [
      "Sir Lewis Carl Davidson Hamilton   (born 7 January 1985) is a British racing driver competing in Formula One, driving for Mercedes. Hamilton has won a joint-record seven Formula One World Drivers' Championship titles (tied with Michael Schumacher), and holds the records for most wins (105), pole positions (104), and podium finishes (201), among others.\n",
      "Born and raised in Stevenage, Hertfordshire, Hamilton joined the McLaren Young Driver Programme in 1998.\n"
     ]
    }
   ],
   "source": [
    "import wikipedia\n",
    "\n",
    "def get_wikipedia_summary(topic):\n",
    "    try:\n",
    "        # Set the language to English\n",
    "        wikipedia.set_lang(\"en\")\n",
    "        \n",
    "        # Fetch the summary of the topic from Wikipedia\n",
    "        summary = wikipedia.summary(topic, sentences=3)\n",
    "        return summary\n",
    "    \n",
    "    except wikipedia.exceptions.DisambiguationError as e:\n",
    "        return f\"The topic '{topic}' is ambiguous. Please specify one of the following options: {e.options}\"\n",
    "    \n",
    "    except wikipedia.exceptions.PageError:\n",
    "        return f\"The topic '{topic}' does not match any pages on Wikipedia. Please try a different topic.\"\n",
    "    \n",
    "    except Exception as e:\n",
    "        return f\"An error occurred: {str(e)}\"\n",
    "\n",
    "\n",
    "topic = input(\"Enter a topic: \")\n",
    "result = get_wikipedia_summary(topic)\n",
    "print(result)"
   ]
  }
 ],
 "metadata": {
  "kernelspec": {
   "display_name": "venv",
   "language": "python",
   "name": "python3"
  },
  "language_info": {
   "codemirror_mode": {
    "name": "ipython",
    "version": 3
   },
   "file_extension": ".py",
   "mimetype": "text/x-python",
   "name": "python",
   "nbconvert_exporter": "python",
   "pygments_lexer": "ipython3",
   "version": "3.11.7"
  }
 },
 "nbformat": 4,
 "nbformat_minor": 2
}
